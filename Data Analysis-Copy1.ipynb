{
 "cells": [
  {
   "cell_type": "markdown",
   "metadata": {},
   "source": [
    "# Asking and Answering Questions on Stack Overflow\n",
    "Stack Overflow has an official [How do I ask a good question?](https://stackoverflow.com/help/how-to-ask) guide.\n",
    "\n",
    "Why do we care about the quality of the questions asked? Where does that put the pedagogical \"There is no such thing as a bad question?\"\n",
    "\n",
    "Although there is an educational aspect to Stack Overflow, at the end of the day, it is a question and answer forum for developers to get and give help. If you are asking for help, you want to maximize your chances of getting it. In this context, we could rephrase \"good\" questions to be questions likely to be answered.\n",
    "\n",
    "Stack Overflow has the feature that\n",
    "\n",
    "> Sometimes users encounter the following message when posting a question: \n",
    ">> 'This post does not meet our quality standards.'\n",
    "\n",
    ">If you see this message, then your question was automatically blocked by the server. All new questions are subjected to a \"minimum quality\" filter that checks for some basic indicators of a good, complete question. Check to make sure that your question has the following:\n",
    "A clear title.\n",
    "A reasonable explanation of what your question is. Add as much detail as you can.\n",
    "Any background research you've tried but wasn't enough to solve your problem.\n",
    "Correct use of English spelling and grammar to the best of your ability.\n",
    "\n",
    "However, everything they list above is quite subjective. Let's explore if any immediately accessible features correlate with the question getting answered."
   ]
  },
  {
   "cell_type": "code",
   "execution_count": 45,
   "metadata": {},
   "outputs": [],
   "source": [
    "import pandas as pd\n",
    "import numpy as np\n",
    "import matplotlib.pyplot as plt\n",
    "%matplotlib inline\n",
    "plt.rcParams['figure.figsize'] = (11.7, 11.3)\n",
    "plt.rcParams.update({'font.size': 20})\n",
    "import seaborn as sns\n",
    "sns.set(rc={'figure.figsize':(11.7,8.3)})\n",
    "import nltk\n",
    "from nltk.tokenize import word_tokenize\n",
    "from nltk.corpus import stopwords\n",
    "from nltk.stem import WordNetLemmatizer\n",
    "import re"
   ]
  },
  {
   "cell_type": "markdown",
   "metadata": {},
   "source": [
    "We will use a pre-processed data set on Stack Overflow Q&A for Python questions, found here: https://www.kaggle.com/stackoverflow/pythonquestions"
   ]
  },
  {
   "cell_type": "code",
   "execution_count": 2,
   "metadata": {},
   "outputs": [],
   "source": [
    "Questions = pd.read_csv('LemmatizedQuestions.csv', encoding=\"ISO-8859-1\")\n",
    "Answers = pd.read_csv('LemmatizedAnswers.csv', encoding=\"ISO-8859-1\")\n",
    "Tags = pd.read_csv('pythonquestions/Tags.csv', encoding=\"ISO-8859-1\")\n",
    "Tags.columns = ['TID', 'Tag']"
   ]
  },
  {
   "cell_type": "code",
   "execution_count": 3,
   "metadata": {},
   "outputs": [
    {
     "name": "stdout",
     "output_type": "stream",
     "text": [
      "(607282, 8)\n"
     ]
    },
    {
     "data": {
      "text/html": [
       "<div>\n",
       "<style scoped>\n",
       "    .dataframe tbody tr th:only-of-type {\n",
       "        vertical-align: middle;\n",
       "    }\n",
       "\n",
       "    .dataframe tbody tr th {\n",
       "        vertical-align: top;\n",
       "    }\n",
       "\n",
       "    .dataframe thead th {\n",
       "        text-align: right;\n",
       "    }\n",
       "</style>\n",
       "<table border=\"1\" class=\"dataframe\">\n",
       "  <thead>\n",
       "    <tr style=\"text-align: right;\">\n",
       "      <th></th>\n",
       "      <th>QID</th>\n",
       "      <th>QuestionUserId</th>\n",
       "      <th>QuestionCreateDate</th>\n",
       "      <th>QuestionScore</th>\n",
       "      <th>QuestionTitle</th>\n",
       "      <th>QuestionBody</th>\n",
       "      <th>QuestionTitleAndBody</th>\n",
       "      <th>QuestionTitleAndBodyLemmatized</th>\n",
       "    </tr>\n",
       "  </thead>\n",
       "  <tbody>\n",
       "    <tr>\n",
       "      <th>0</th>\n",
       "      <td>469</td>\n",
       "      <td>147.0</td>\n",
       "      <td>2008-08-02T15:11:16Z</td>\n",
       "      <td>21</td>\n",
       "      <td>How can I find the full path to a font from it...</td>\n",
       "      <td>&lt;p&gt;I am using the Photoshop's javascript API t...</td>\n",
       "      <td>How can I find the full path to a font from it...</td>\n",
       "      <td>['how', 'can', 'i', 'find', 'the', 'full', 'pa...</td>\n",
       "    </tr>\n",
       "  </tbody>\n",
       "</table>\n",
       "</div>"
      ],
      "text/plain": [
       "   QID  QuestionUserId    QuestionCreateDate  QuestionScore  \\\n",
       "0  469           147.0  2008-08-02T15:11:16Z             21   \n",
       "\n",
       "                                       QuestionTitle  \\\n",
       "0  How can I find the full path to a font from it...   \n",
       "\n",
       "                                        QuestionBody  \\\n",
       "0  <p>I am using the Photoshop's javascript API t...   \n",
       "\n",
       "                                QuestionTitleAndBody  \\\n",
       "0  How can I find the full path to a font from it...   \n",
       "\n",
       "                      QuestionTitleAndBodyLemmatized  \n",
       "0  ['how', 'can', 'i', 'find', 'the', 'full', 'pa...  "
      ]
     },
     "execution_count": 3,
     "metadata": {},
     "output_type": "execute_result"
    }
   ],
   "source": [
    "print(Questions.shape)\n",
    "Questions.head(1)"
   ]
  },
  {
   "cell_type": "code",
   "execution_count": 4,
   "metadata": {},
   "outputs": [
    {
     "name": "stdout",
     "output_type": "stream",
     "text": [
      "(987122, 7)\n"
     ]
    },
    {
     "data": {
      "text/html": [
       "<div>\n",
       "<style scoped>\n",
       "    .dataframe tbody tr th:only-of-type {\n",
       "        vertical-align: middle;\n",
       "    }\n",
       "\n",
       "    .dataframe tbody tr th {\n",
       "        vertical-align: top;\n",
       "    }\n",
       "\n",
       "    .dataframe thead th {\n",
       "        text-align: right;\n",
       "    }\n",
       "</style>\n",
       "<table border=\"1\" class=\"dataframe\">\n",
       "  <thead>\n",
       "    <tr style=\"text-align: right;\">\n",
       "      <th></th>\n",
       "      <th>AID</th>\n",
       "      <th>AnswerUserId</th>\n",
       "      <th>AnswerCreateDate</th>\n",
       "      <th>ParentId</th>\n",
       "      <th>AnswerScore</th>\n",
       "      <th>AnswerBody</th>\n",
       "      <th>AnswerBodyLemmatized</th>\n",
       "    </tr>\n",
       "  </thead>\n",
       "  <tbody>\n",
       "    <tr>\n",
       "      <th>0</th>\n",
       "      <td>497</td>\n",
       "      <td>50.0</td>\n",
       "      <td>2008-08-02T16:56:53Z</td>\n",
       "      <td>469</td>\n",
       "      <td>4</td>\n",
       "      <td>&lt;p&gt;open up a terminal (Applications-&amp;gt;Utilit...</td>\n",
       "      <td>['open', 'up', 'a', 'terminal', 'applicationsg...</td>\n",
       "    </tr>\n",
       "  </tbody>\n",
       "</table>\n",
       "</div>"
      ],
      "text/plain": [
       "   AID  AnswerUserId      AnswerCreateDate  ParentId  AnswerScore  \\\n",
       "0  497          50.0  2008-08-02T16:56:53Z       469            4   \n",
       "\n",
       "                                          AnswerBody  \\\n",
       "0  <p>open up a terminal (Applications-&gt;Utilit...   \n",
       "\n",
       "                                AnswerBodyLemmatized  \n",
       "0  ['open', 'up', 'a', 'terminal', 'applicationsg...  "
      ]
     },
     "execution_count": 4,
     "metadata": {},
     "output_type": "execute_result"
    }
   ],
   "source": [
    "print(Answers.shape)\n",
    "Answers.head(1)"
   ]
  },
  {
   "cell_type": "code",
   "execution_count": 5,
   "metadata": {},
   "outputs": [
    {
     "name": "stdout",
     "output_type": "stream",
     "text": [
      "(1885078, 2)\n"
     ]
    },
    {
     "data": {
      "text/html": [
       "<div>\n",
       "<style scoped>\n",
       "    .dataframe tbody tr th:only-of-type {\n",
       "        vertical-align: middle;\n",
       "    }\n",
       "\n",
       "    .dataframe tbody tr th {\n",
       "        vertical-align: top;\n",
       "    }\n",
       "\n",
       "    .dataframe thead th {\n",
       "        text-align: right;\n",
       "    }\n",
       "</style>\n",
       "<table border=\"1\" class=\"dataframe\">\n",
       "  <thead>\n",
       "    <tr style=\"text-align: right;\">\n",
       "      <th></th>\n",
       "      <th>TID</th>\n",
       "      <th>Tag</th>\n",
       "    </tr>\n",
       "  </thead>\n",
       "  <tbody>\n",
       "    <tr>\n",
       "      <th>0</th>\n",
       "      <td>469</td>\n",
       "      <td>python</td>\n",
       "    </tr>\n",
       "    <tr>\n",
       "      <th>1</th>\n",
       "      <td>469</td>\n",
       "      <td>osx</td>\n",
       "    </tr>\n",
       "    <tr>\n",
       "      <th>2</th>\n",
       "      <td>469</td>\n",
       "      <td>fonts</td>\n",
       "    </tr>\n",
       "  </tbody>\n",
       "</table>\n",
       "</div>"
      ],
      "text/plain": [
       "   TID     Tag\n",
       "0  469  python\n",
       "1  469     osx\n",
       "2  469   fonts"
      ]
     },
     "execution_count": 5,
     "metadata": {},
     "output_type": "execute_result"
    }
   ],
   "source": [
    "print(Tags.shape)\n",
    "Tags.head(3)"
   ]
  },
  {
   "cell_type": "code",
   "execution_count": 6,
   "metadata": {},
   "outputs": [
    {
     "name": "stdout",
     "output_type": "stream",
     "text": [
      "QID                                  0\n",
      "QuestionUserId                    6212\n",
      "QuestionCreateDate                   0\n",
      "QuestionScore                        0\n",
      "QuestionTitle                        0\n",
      "QuestionBody                         0\n",
      "QuestionTitleAndBody                 0\n",
      "QuestionTitleAndBodyLemmatized       0\n",
      "dtype: int64\n",
      "AID                        0\n",
      "AnswerUserId            5367\n",
      "AnswerCreateDate           0\n",
      "ParentId                   0\n",
      "AnswerScore                0\n",
      "AnswerBody                 0\n",
      "AnswerBodyLemmatized       0\n",
      "dtype: int64\n",
      "TID      0\n",
      "Tag    443\n",
      "dtype: int64\n"
     ]
    }
   ],
   "source": [
    "print(Questions.isnull().sum())\n",
    "print(Answers.isnull().sum())\n",
    "print(Tags.isnull().sum())"
   ]
  },
  {
   "cell_type": "markdown",
   "metadata": {},
   "source": [
    "Looks like this data is pretty clean. The only nulls are for users (probably users that have deleted their accounts since posting), and tags (since these are optional)."
   ]
  },
  {
   "cell_type": "markdown",
   "metadata": {},
   "source": [
    "### Just curious: How many users are engaged on Q, A, & Q&A?"
   ]
  },
  {
   "cell_type": "code",
   "execution_count": 7,
   "metadata": {},
   "outputs": [],
   "source": [
    "User_id_inQ = Questions['QuestionUserId'].unique()\n",
    "User_id_inA = Answers['AnswerUserId'].unique()\n",
    "User_id_inBoth=set(User_id_inQ).intersection(User_id_inA)"
   ]
  },
  {
   "cell_type": "code",
   "execution_count": 8,
   "metadata": {},
   "outputs": [
    {
     "name": "stdout",
     "output_type": "stream",
     "text": [
      "213928 users posting questions\n",
      "149177 users posting answers\n",
      "63779 users posting both\n"
     ]
    }
   ],
   "source": [
    "print(str(len(User_id_inQ)) + ' users posting questions')\n",
    "print(str(len(User_id_inA)) + ' users posting answers')\n",
    "print(str(len(User_id_inBoth)) + ' users posting both')"
   ]
  },
  {
   "cell_type": "markdown",
   "metadata": {},
   "source": [
    "## So, what makes a good question?\n",
    "Specifically \"to improve your chances of getting an answer\", Stack Overflow suggests\n",
    "- Search and research before posting\n",
    "- Have an informative title\n",
    "- Include any error messages, key APIs, or unusual circumstances\n",
    "- Introduce the problem before posting any code\n",
    "- \"Not all questions benefit from including code. But if your problem is with code you've written, you should include some.\"\n",
    "- Include all relevant tags\n",
    "- Proofread\n",
    "\n",
    "Let's examine whether or not including error messages (and the closely related traceback), code, and tags truly improve a question's chances of getting an answer. Let's also take a look at the question length. We will first need to create the relevant features."
   ]
  },
  {
   "cell_type": "markdown",
   "metadata": {},
   "source": [
    "### Questions containing Python-formatted errors"
   ]
  },
  {
   "cell_type": "code",
   "execution_count": 9,
   "metadata": {},
   "outputs": [],
   "source": [
    "Questions['HasError'] = Questions['QuestionBody'].str.contains(\"[A-Z][a-z]+Error:\\s\")"
   ]
  },
  {
   "cell_type": "code",
   "execution_count": 10,
   "metadata": {},
   "outputs": [
    {
     "name": "stdout",
     "output_type": "stream",
     "text": [
      "0.14075997641952173 of questions have a full Python-formatted error message\n"
     ]
    }
   ],
   "source": [
    "print(str(Questions['HasError'].sum() / Questions['HasError'].count()) + \" of questions have a full Python-formatted error message\")"
   ]
  },
  {
   "cell_type": "markdown",
   "metadata": {},
   "source": [
    "### Questions containing Python-formatted tracebacks"
   ]
  },
  {
   "cell_type": "code",
   "execution_count": 11,
   "metadata": {},
   "outputs": [],
   "source": [
    "Questions['HasTraceback'] = Questions['QuestionBody'].str.contains(\"Traceback \\(most recent call last\\):\")"
   ]
  },
  {
   "cell_type": "code",
   "execution_count": 12,
   "metadata": {},
   "outputs": [
    {
     "name": "stdout",
     "output_type": "stream",
     "text": [
      "0.06771977433877506 of questions have a full Python-formatted traceback\n"
     ]
    }
   ],
   "source": [
    "print(str(Questions['HasTraceback'].sum() / Questions['HasTraceback'].count()) + \" of questions have a full Python-formatted traceback\")"
   ]
  },
  {
   "cell_type": "markdown",
   "metadata": {},
   "source": [
    "### Questions containing code"
   ]
  },
  {
   "cell_type": "code",
   "execution_count": 13,
   "metadata": {},
   "outputs": [],
   "source": [
    "Questions['HasMultiLineCode'] = Questions['QuestionBody'].str.contains(\"<code>.*\\n.*</code>\")"
   ]
  },
  {
   "cell_type": "code",
   "execution_count": 14,
   "metadata": {},
   "outputs": [
    {
     "name": "stdout",
     "output_type": "stream",
     "text": [
      "0.23783514084066382 of questions have multi line code\n"
     ]
    }
   ],
   "source": [
    "print(str(Questions['HasMultiLineCode'].sum() / Questions['HasMultiLineCode'].count()) + \" of questions have multi line code\")"
   ]
  },
  {
   "cell_type": "markdown",
   "metadata": {},
   "source": [
    "### Overall average number of answers per question and answer rate per question"
   ]
  },
  {
   "cell_type": "code",
   "execution_count": 15,
   "metadata": {},
   "outputs": [],
   "source": [
    "QA = Questions.merge(Answers, left_on='QID', right_on='ParentId')"
   ]
  },
  {
   "cell_type": "code",
   "execution_count": 16,
   "metadata": {},
   "outputs": [],
   "source": [
    "AnswersPerQuestion = QA.groupby('QID').count().iloc[:,[0]].reset_index()\n",
    "AnswersPerQuestion.columns = ['QID', 'NumAnswers']\n",
    "Questions = Questions.merge(AnswersPerQuestion, how='left', on='QID')\n",
    "Questions[['NumAnswers']] = Questions[['NumAnswers']].fillna(0)"
   ]
  },
  {
   "cell_type": "code",
   "execution_count": 17,
   "metadata": {},
   "outputs": [],
   "source": [
    "def avgNumAnswers(df):\n",
    "    return df['NumAnswers'].sum() / df.shape[0]\n",
    "def avgAnswerRate(df):\n",
    "    return (df.shape[0] - df.groupby('NumAnswers').count().iloc[0,0]) / df.shape[0]"
   ]
  },
  {
   "cell_type": "code",
   "execution_count": 18,
   "metadata": {},
   "outputs": [
    {
     "name": "stdout",
     "output_type": "stream",
     "text": [
      "total average answers 1.6034527616494478\n",
      "total answer rate 0.8780945261015476\n"
     ]
    }
   ],
   "source": [
    "print('total average answers ' + str(avgNumAnswers(Questions)))\n",
    "print('total answer rate ' + str(avgAnswerRate(Questions)))"
   ]
  },
  {
   "cell_type": "markdown",
   "metadata": {},
   "source": [
    "### Question 1: Does including errors increase your expected number of answers or your likelihood of receiving an answer?"
   ]
  },
  {
   "cell_type": "code",
   "execution_count": 19,
   "metadata": {},
   "outputs": [
    {
     "name": "stdout",
     "output_type": "stream",
     "text": [
      "error average answers 1.4409049964319556\n",
      "error answer rate 0.8675027199026685\n"
     ]
    }
   ],
   "source": [
    "QuestionsHasError = Questions[Questions['HasError']]\n",
    "\n",
    "print('error average answers ' + str(avgNumAnswers(QuestionsHasError)))\n",
    "print('error answer rate ' + str(avgAnswerRate(QuestionsHasError)))"
   ]
  },
  {
   "cell_type": "markdown",
   "metadata": {},
   "source": [
    "### Question 2: What about tracebacks?"
   ]
  },
  {
   "cell_type": "code",
   "execution_count": 20,
   "metadata": {},
   "outputs": [
    {
     "name": "stdout",
     "output_type": "stream",
     "text": [
      "traceback average answers 1.3890091185410334\n",
      "traceback answer rate 0.8483161094224924\n"
     ]
    }
   ],
   "source": [
    "QuestionsHasTraceback = Questions[Questions['HasTraceback']]\n",
    "\n",
    "print('traceback average answers ' + str(avgNumAnswers(QuestionsHasTraceback)))\n",
    "print('traceback answer rate ' + str(avgAnswerRate(QuestionsHasTraceback)))"
   ]
  },
  {
   "cell_type": "markdown",
   "metadata": {},
   "source": [
    "### Question 3: What about both errors and tracebacks?"
   ]
  },
  {
   "cell_type": "code",
   "execution_count": 21,
   "metadata": {},
   "outputs": [
    {
     "name": "stdout",
     "output_type": "stream",
     "text": [
      "error traceback average answers 1.4137732533478762\n",
      "error traceback answer rate 0.858207598618433\n"
     ]
    }
   ],
   "source": [
    "QuestionsHasErrorAndTraceback = Questions[(Questions['HasError'] & Questions['HasTraceback'])]\n",
    "\n",
    "print('error traceback average answers ' + str(avgNumAnswers(QuestionsHasErrorAndTraceback)))\n",
    "print('error traceback answer rate ' + str(avgAnswerRate(QuestionsHasErrorAndTraceback)))"
   ]
  },
  {
   "cell_type": "markdown",
   "metadata": {},
   "source": [
    "### Question 4: Do questions with code have more or less answers or likelihood of receiving any answer?"
   ]
  },
  {
   "cell_type": "code",
   "execution_count": 22,
   "metadata": {},
   "outputs": [
    {
     "name": "stdout",
     "output_type": "stream",
     "text": [
      "multiline code average answers 1.6783560543643072\n",
      "multiline code answer rate 0.8934523273767075\n"
     ]
    }
   ],
   "source": [
    "QuestionsHasMultiLineCode = Questions[Questions['HasMultiLineCode']]\n",
    "\n",
    "print('multiline code average answers ' + str(avgNumAnswers(QuestionsHasMultiLineCode)))\n",
    "print('multiline code answer rate ' + str(avgAnswerRate(QuestionsHasMultiLineCode)))"
   ]
  },
  {
   "cell_type": "markdown",
   "metadata": {},
   "source": [
    "Yay! Finally a feature that corresponds with higher average number of answers and answer rate!"
   ]
  },
  {
   "cell_type": "markdown",
   "metadata": {},
   "source": [
    "### Overall average number of tags per question"
   ]
  },
  {
   "cell_type": "code",
   "execution_count": 23,
   "metadata": {},
   "outputs": [
    {
     "data": {
      "text/html": [
       "<div>\n",
       "<style scoped>\n",
       "    .dataframe tbody tr th:only-of-type {\n",
       "        vertical-align: middle;\n",
       "    }\n",
       "\n",
       "    .dataframe tbody tr th {\n",
       "        vertical-align: top;\n",
       "    }\n",
       "\n",
       "    .dataframe thead th {\n",
       "        text-align: right;\n",
       "    }\n",
       "</style>\n",
       "<table border=\"1\" class=\"dataframe\">\n",
       "  <thead>\n",
       "    <tr style=\"text-align: right;\">\n",
       "      <th></th>\n",
       "      <th>QID</th>\n",
       "      <th>QuestionUserId</th>\n",
       "      <th>QuestionCreateDate</th>\n",
       "      <th>QuestionScore</th>\n",
       "      <th>QuestionTitle</th>\n",
       "      <th>QuestionBody</th>\n",
       "      <th>QuestionTitleAndBody</th>\n",
       "      <th>QuestionTitleAndBodyLemmatized</th>\n",
       "      <th>HasError</th>\n",
       "      <th>HasTraceback</th>\n",
       "      <th>HasMultiLineCode</th>\n",
       "      <th>NumAnswers</th>\n",
       "    </tr>\n",
       "  </thead>\n",
       "  <tbody>\n",
       "    <tr>\n",
       "      <th>0</th>\n",
       "      <td>469</td>\n",
       "      <td>147.0</td>\n",
       "      <td>2008-08-02T15:11:16Z</td>\n",
       "      <td>21</td>\n",
       "      <td>How can I find the full path to a font from it...</td>\n",
       "      <td>&lt;p&gt;I am using the Photoshop's javascript API t...</td>\n",
       "      <td>How can I find the full path to a font from it...</td>\n",
       "      <td>['how', 'can', 'i', 'find', 'the', 'full', 'pa...</td>\n",
       "      <td>False</td>\n",
       "      <td>False</td>\n",
       "      <td>False</td>\n",
       "      <td>4.0</td>\n",
       "    </tr>\n",
       "    <tr>\n",
       "      <th>1</th>\n",
       "      <td>502</td>\n",
       "      <td>147.0</td>\n",
       "      <td>2008-08-02T17:01:58Z</td>\n",
       "      <td>27</td>\n",
       "      <td>Get a preview JPEG of a PDF on Windows?</td>\n",
       "      <td>&lt;p&gt;I have a cross-platform (Python) applicatio...</td>\n",
       "      <td>Get a preview JPEG of a PDF on Windows? &lt;p&gt;I h...</td>\n",
       "      <td>['get', 'a', 'preview', 'jpeg', 'of', 'a', 'pd...</td>\n",
       "      <td>False</td>\n",
       "      <td>False</td>\n",
       "      <td>False</td>\n",
       "      <td>3.0</td>\n",
       "    </tr>\n",
       "  </tbody>\n",
       "</table>\n",
       "</div>"
      ],
      "text/plain": [
       "   QID  QuestionUserId    QuestionCreateDate  QuestionScore  \\\n",
       "0  469           147.0  2008-08-02T15:11:16Z             21   \n",
       "1  502           147.0  2008-08-02T17:01:58Z             27   \n",
       "\n",
       "                                       QuestionTitle  \\\n",
       "0  How can I find the full path to a font from it...   \n",
       "1            Get a preview JPEG of a PDF on Windows?   \n",
       "\n",
       "                                        QuestionBody  \\\n",
       "0  <p>I am using the Photoshop's javascript API t...   \n",
       "1  <p>I have a cross-platform (Python) applicatio...   \n",
       "\n",
       "                                QuestionTitleAndBody  \\\n",
       "0  How can I find the full path to a font from it...   \n",
       "1  Get a preview JPEG of a PDF on Windows? <p>I h...   \n",
       "\n",
       "                      QuestionTitleAndBodyLemmatized  HasError  HasTraceback  \\\n",
       "0  ['how', 'can', 'i', 'find', 'the', 'full', 'pa...     False         False   \n",
       "1  ['get', 'a', 'preview', 'jpeg', 'of', 'a', 'pd...     False         False   \n",
       "\n",
       "   HasMultiLineCode  NumAnswers  \n",
       "0             False         4.0  \n",
       "1             False         3.0  "
      ]
     },
     "execution_count": 23,
     "metadata": {},
     "output_type": "execute_result"
    }
   ],
   "source": [
    "Questions.head(2)"
   ]
  },
  {
   "cell_type": "code",
   "execution_count": 24,
   "metadata": {},
   "outputs": [],
   "source": [
    "QT = Questions.merge(Tags.dropna(axis=0, how='any'), left_on='QID', right_on='TID')"
   ]
  },
  {
   "cell_type": "code",
   "execution_count": 25,
   "metadata": {},
   "outputs": [],
   "source": [
    "TagsPerQuestion = QT.groupby('QID').count().iloc[:,[0]].reset_index()\n",
    "TagsPerQuestion.columns = ['QID', 'NumTags']\n",
    "Questions = Questions.merge(TagsPerQuestion, how='left', on='QID')\n",
    "Questions[['NumTags']] = Questions[['NumTags']].fillna(0)"
   ]
  },
  {
   "cell_type": "code",
   "execution_count": 26,
   "metadata": {},
   "outputs": [
    {
     "name": "stdout",
     "output_type": "stream",
     "text": [
      "total average tags 3.073772975322832\n"
     ]
    }
   ],
   "source": [
    "total_average_tags = Questions['NumTags'].sum() / Questions.shape[0]\n",
    "print('total average tags ' + str(total_average_tags))"
   ]
  },
  {
   "cell_type": "code",
   "execution_count": 41,
   "metadata": {},
   "outputs": [
    {
     "name": "stderr",
     "output_type": "stream",
     "text": [
      "/usr/local/lib/python3.4/dist-packages/matplotlib/axes/_axes.py:6462: UserWarning: The 'normed' kwarg is deprecated, and has been replaced by the 'density' kwarg.\n",
      "  warnings.warn(\"The 'normed' kwarg is deprecated, and has been \"\n"
     ]
    },
    {
     "data": {
      "text/plain": [
       "<matplotlib.axes._subplots.AxesSubplot at 0x7feda9a32780>"
      ]
     },
     "execution_count": 41,
     "metadata": {},
     "output_type": "execute_result"
    },
    {
     "data": {
      "image/png": "[encoded data removed]",
      "text/plain": [
       "<Figure size 842.4x597.6 with 1 Axes>"
      ]
     },
     "metadata": {},
     "output_type": "display_data"
    }
   ],
   "source": [
    "sns.distplot(Questions.NumTags , kde=False)"
   ]
  },
  {
   "cell_type": "markdown",
   "metadata": {},
   "source": [
    "### Question 5: Do number of tags correspond to number of answers?"
   ]
  },
  {
   "cell_type": "code",
   "execution_count": 28,
   "metadata": {},
   "outputs": [
    {
     "data": {
      "text/plain": [
       "Index(['QID', 'QuestionUserId', 'QuestionCreateDate', 'QuestionScore',\n",
       "       'QuestionTitle', 'QuestionBody', 'QuestionTitleAndBody',\n",
       "       'QuestionTitleAndBodyLemmatized', 'HasError', 'HasTraceback',\n",
       "       'HasMultiLineCode', 'NumAnswers', 'NumTags'],\n",
       "      dtype='object')"
      ]
     },
     "execution_count": 28,
     "metadata": {},
     "output_type": "execute_result"
    }
   ],
   "source": [
    "Questions.columns"
   ]
  },
  {
   "cell_type": "code",
   "execution_count": 29,
   "metadata": {},
   "outputs": [
    {
     "data": {
      "text/html": [
       "<div>\n",
       "<style scoped>\n",
       "    .dataframe tbody tr th:only-of-type {\n",
       "        vertical-align: middle;\n",
       "    }\n",
       "\n",
       "    .dataframe tbody tr th {\n",
       "        vertical-align: top;\n",
       "    }\n",
       "\n",
       "    .dataframe thead th {\n",
       "        text-align: right;\n",
       "    }\n",
       "</style>\n",
       "<table border=\"1\" class=\"dataframe\">\n",
       "  <thead>\n",
       "    <tr style=\"text-align: right;\">\n",
       "      <th></th>\n",
       "      <th>NumAnswers</th>\n",
       "    </tr>\n",
       "    <tr>\n",
       "      <th>NumTags</th>\n",
       "      <th></th>\n",
       "    </tr>\n",
       "  </thead>\n",
       "  <tbody>\n",
       "    <tr>\n",
       "      <th>0</th>\n",
       "      <td>0.000000</td>\n",
       "    </tr>\n",
       "    <tr>\n",
       "      <th>1</th>\n",
       "      <td>2.176044</td>\n",
       "    </tr>\n",
       "    <tr>\n",
       "      <th>2</th>\n",
       "      <td>1.710365</td>\n",
       "    </tr>\n",
       "    <tr>\n",
       "      <th>3</th>\n",
       "      <td>1.579643</td>\n",
       "    </tr>\n",
       "    <tr>\n",
       "      <th>4</th>\n",
       "      <td>1.508321</td>\n",
       "    </tr>\n",
       "    <tr>\n",
       "      <th>5</th>\n",
       "      <td>1.441169</td>\n",
       "    </tr>\n",
       "  </tbody>\n",
       "</table>\n",
       "</div>"
      ],
      "text/plain": [
       "         NumAnswers\n",
       "NumTags            \n",
       "0          0.000000\n",
       "1          2.176044\n",
       "2          1.710365\n",
       "3          1.579643\n",
       "4          1.508321\n",
       "5          1.441169"
      ]
     },
     "execution_count": 29,
     "metadata": {},
     "output_type": "execute_result"
    }
   ],
   "source": [
    "Questions.groupby('NumTags').sum()[['NumAnswers']] / Questions.groupby('NumTags').count()[['NumAnswers']]"
   ]
  },
  {
   "cell_type": "markdown",
   "metadata": {},
   "source": [
    "This is also rather counterintuitive. Those with fewer tags had more answers (compared to the overall average of 1.6 answers). Stack Overflow uses tags to show questions to users on the STO homepage. Perhaps people don't go on the homepage much?"
   ]
  },
  {
   "cell_type": "code",
   "execution_count": 31,
   "metadata": {},
   "outputs": [],
   "source": [
    "valuecounts = Tags['Tag'].value_counts()"
   ]
  },
  {
   "cell_type": "code",
   "execution_count": 61,
   "metadata": {},
   "outputs": [],
   "source": [
    "top50tags = pd.DataFrame(valuecounts).index[:50]"
   ]
  },
  {
   "cell_type": "code",
   "execution_count": 66,
   "metadata": {},
   "outputs": [
    {
     "data": {
      "text/plain": [
       "True"
      ]
     },
     "execution_count": 66,
     "metadata": {},
     "output_type": "execute_result"
    }
   ],
   "source": [
    "'django' in top50tags"
   ]
  },
  {
   "cell_type": "code",
   "execution_count": 54,
   "metadata": {},
   "outputs": [
    {
     "data": {
      "text/plain": [
       "python               100.000165\n",
       "django                10.344123\n",
       "python-2.7             5.700152\n",
       "pandas                 4.421998\n",
       "python-3.x             4.415412\n",
       "numpy                  4.256342\n",
       "list                   3.120626\n",
       "matplotlib             2.720482\n",
       "regex                  2.313093\n",
       "dictionary             2.208694\n",
       "tkinter                1.772817\n",
       "string                 1.748117\n",
       "flask                  1.727039\n",
       "google-app-engine      1.693777\n",
       "csv                    1.535201\n",
       "arrays                 1.510007\n",
       "json                   1.321133\n",
       "mysql                  1.239786\n",
       "linux                  1.172602\n",
       "html                   1.172108\n",
       "scipy                  1.137528\n",
       "multithreading         1.120402\n",
       "sqlalchemy             1.096855\n",
       "windows                1.031975\n",
       "beautifulsoup          0.996901\n",
       "django-models          0.954581\n",
       "javascript             0.953099\n",
       "selenium               0.931034\n",
       "xml                    0.878011\n",
       "pyqt                   0.859074\n",
       "class                  0.837008\n",
       "osx                    0.832562\n",
       "pygame                 0.831574\n",
       "opencv                 0.822517\n",
       "dataframe              0.816425\n",
       "function               0.801440\n",
       "c++                    0.798640\n",
       "file                   0.768177\n",
       "scrapy                 0.763731\n",
       "sockets                0.755003\n",
       "subprocess             0.727504\n",
       "loops                  0.717130\n",
       "scikit-learn           0.706262\n",
       "pip                    0.687984\n",
       "algorithm              0.686337\n",
       "unicode                0.680903\n",
       "parsing                0.668882\n",
       "datetime               0.665259\n",
       "web-scraping           0.648792\n",
       "multiprocessing        0.638254\n",
       "Name: Tag, dtype: float64"
      ]
     },
     "execution_count": 54,
     "metadata": {},
     "output_type": "execute_result"
    }
   ],
   "source": [
    "(valuecounts / Questions.shape[0] * 100).head(50)"
   ]
  },
  {
   "cell_type": "code",
   "execution_count": 46,
   "metadata": {
    "scrolled": true
   },
   "outputs": [
    {
     "data": {
      "text/plain": [
       "<matplotlib.axes._subplots.AxesSubplot at 0x7feda94f30b8>"
      ]
     },
     "execution_count": 46,
     "metadata": {},
     "output_type": "execute_result"
    },
    {
     "data": {
      "image/png": "[encoded data removed]",
      "text/plain": [
       "<Figure size 842.4x597.6 with 1 Axes>"
      ]
     },
     "metadata": {},
     "output_type": "display_data"
    }
   ],
   "source": [
    "valuecounts[:15].plot(kind='bar')"
   ]
  },
  {
   "cell_type": "markdown",
   "metadata": {},
   "source": [
    "Since all questions have the 'python' tag (this is the Python dataset), perhaps tags other than 'python' indicate specialization and therefore a smaller community."
   ]
  },
  {
   "cell_type": "markdown",
   "metadata": {},
   "source": [
    "Finally, let's take a look at how the length of the question affects the number of answers."
   ]
  },
  {
   "cell_type": "markdown",
   "metadata": {},
   "source": [
    "### Question length"
   ]
  },
  {
   "cell_type": "code",
   "execution_count": 34,
   "metadata": {},
   "outputs": [],
   "source": [
    "Questions['QuestionLength'] = Questions['QuestionTitleAndBodyLemmatized'].apply(len)"
   ]
  },
  {
   "cell_type": "code",
   "execution_count": 35,
   "metadata": {},
   "outputs": [
    {
     "name": "stdout",
     "output_type": "stream",
     "text": [
      "The average Question has 1545.3440642074029 words.\n"
     ]
    }
   ],
   "source": [
    "print('The average Question has ' + str(Questions['QuestionLength'].mean()) + ' words.')"
   ]
  },
  {
   "cell_type": "markdown",
   "metadata": {},
   "source": [
    "Let's take a look at the distribution."
   ]
  },
  {
   "cell_type": "code",
   "execution_count": 47,
   "metadata": {},
   "outputs": [
    {
     "name": "stderr",
     "output_type": "stream",
     "text": [
      "/usr/local/lib/python3.4/dist-packages/matplotlib/axes/_axes.py:6462: UserWarning: The 'normed' kwarg is deprecated, and has been replaced by the 'density' kwarg.\n",
      "  warnings.warn(\"The 'normed' kwarg is deprecated, and has been \"\n"
     ]
    },
    {
     "data": {
      "text/plain": [
       "<matplotlib.axes._subplots.AxesSubplot at 0x7feda94eeb70>"
      ]
     },
     "execution_count": 47,
     "metadata": {},
     "output_type": "execute_result"
    },
    {
     "data": {
      "image/png": "[encoded data removed]",
      "text/plain": [
       "<Figure size 842.4x597.6 with 1 Axes>"
      ]
     },
     "metadata": {},
     "output_type": "display_data"
    }
   ],
   "source": [
    "sns.distplot(Questions['QuestionLength'])"
   ]
  },
  {
   "cell_type": "markdown",
   "metadata": {},
   "source": [
    "Looks like the number of words in questions are heavily skewed to the right. Let's zoom in on the head."
   ]
  },
  {
   "cell_type": "code",
   "execution_count": 48,
   "metadata": {},
   "outputs": [
    {
     "name": "stderr",
     "output_type": "stream",
     "text": [
      "/usr/local/lib/python3.4/dist-packages/matplotlib/axes/_axes.py:6462: UserWarning: The 'normed' kwarg is deprecated, and has been replaced by the 'density' kwarg.\n",
      "  warnings.warn(\"The 'normed' kwarg is deprecated, and has been \"\n"
     ]
    },
    {
     "data": {
      "text/plain": [
       "[(0, 3000)]"
      ]
     },
     "execution_count": 48,
     "metadata": {},
     "output_type": "execute_result"
    },
    {
     "data": {
      "image/png": "[encoded data removed]",
      "text/plain": [
       "<Figure size 842.4x597.6 with 1 Axes>"
      ]
     },
     "metadata": {},
     "output_type": "display_data"
    }
   ],
   "source": [
    "g = sns.distplot(Questions['QuestionLength'])\n",
    "g.set(xlim=(0, 3000))"
   ]
  },
  {
   "cell_type": "markdown",
   "metadata": {},
   "source": [
    "Looks like most questions have between 60 and 1750 words."
   ]
  },
  {
   "cell_type": "markdown",
   "metadata": {},
   "source": [
    "Now, for the ultimate test: is it true that \"the most valuable of all talents is that of never using two words when one will do\" ?"
   ]
  },
  {
   "cell_type": "code",
   "execution_count": 49,
   "metadata": {},
   "outputs": [
    {
     "name": "stderr",
     "output_type": "stream",
     "text": [
      "/usr/local/lib/python3.4/dist-packages/matplotlib/axes/_axes.py:6462: UserWarning: The 'normed' kwarg is deprecated, and has been replaced by the 'density' kwarg.\n",
      "  warnings.warn(\"The 'normed' kwarg is deprecated, and has been \"\n"
     ]
    },
    {
     "data": {
      "text/plain": [
       "<seaborn.axisgrid.JointGrid at 0x7feda947f780>"
      ]
     },
     "execution_count": 49,
     "metadata": {},
     "output_type": "execute_result"
    },
    {
     "data": {
      "image/png": "[encoded data removed]",
      "text/plain": [
       "<Figure size 432x432 with 3 Axes>"
      ]
     },
     "metadata": {},
     "output_type": "display_data"
    }
   ],
   "source": [
    "sns.jointplot(x=\"QuestionLength\", y=\"NumAnswers\", data=Questions)"
   ]
  },
  {
   "cell_type": "markdown",
   "metadata": {},
   "source": [
    "This is a really dense plot, but we can see that the Pearson's correlation coefficient is negative. Let's make a regression plot with a low alpha value."
   ]
  },
  {
   "cell_type": "code",
   "execution_count": 50,
   "metadata": {},
   "outputs": [
    {
     "data": {
      "text/plain": [
       "<matplotlib.axes._subplots.AxesSubplot at 0x7fed9c98a860>"
      ]
     },
     "execution_count": 50,
     "metadata": {},
     "output_type": "execute_result"
    },
    {
     "data": {
      "image/png": "[encoded data removed]",
      "text/plain": [
       "<Figure size 842.4x597.6 with 1 Axes>"
      ]
     },
     "metadata": {},
     "output_type": "display_data"
    }
   ],
   "source": [
    "sns.regplot(x=\"QuestionLength\", y=\"NumAnswers\", data=Questions, \n",
    "    ci = None,\n",
    "    scatter_kws={\"color\":\"darkred\",\"alpha\":0.1,\"s\":50},\n",
    "    line_kws={\"color\":\"b\",\"alpha\":0.5,\"lw\":4})"
   ]
  },
  {
   "cell_type": "markdown",
   "metadata": {},
   "source": [
    "From this plot, we can see that questions that get many answers tend to have fewer words. Across all question lengths, there are many questions with vew answers--this contributed to the low slope and low intercept of the regression line."
   ]
  },
  {
   "cell_type": "markdown",
   "metadata": {},
   "source": [
    "## Conclusion"
   ]
  },
  {
   "cell_type": "markdown",
   "metadata": {},
   "source": [
    "Overall, it seems like many easily capturable \"common sense\" practices of asking good questions didn't translate to more answers or higher likelihoods of getting an answer. It'd be interesting to know how Stack Overflow's server automatically filters out questions that don't meet minimum standards.\n",
    "\n",
    "However, we did find that including at least two lines of code does help improve both number of answers and likelihood of getting an answer, and keeping your questions short also tends to lead to more answers. Hope this was interesting and got you thinking about what makes a \"good\" question!"
   ]
  },
  {
   "cell_type": "code",
   "execution_count": 53,
   "metadata": {},
   "outputs": [
    {
     "data": {
      "text/plain": [
       "Index(['QID', 'QuestionUserId', 'QuestionCreateDate', 'QuestionScore',\n",
       "       'QuestionTitle', 'QuestionBody', 'QuestionTitleAndBody',\n",
       "       'QuestionTitleAndBodyLemmatized', 'HasError', 'HasTraceback',\n",
       "       'HasMultiLineCode', 'NumAnswers', 'NumTags', 'QuestionLength'],\n",
       "      dtype='object')"
      ]
     },
     "execution_count": 53,
     "metadata": {},
     "output_type": "execute_result"
    }
   ],
   "source": [
    "Questions.columns"
   ]
  },
  {
   "cell_type": "code",
   "execution_count": 58,
   "metadata": {},
   "outputs": [
    {
     "name": "stderr",
     "output_type": "stream",
     "text": [
      "/usr/local/lib/python3.4/dist-packages/matplotlib/axes/_axes.py:6462: UserWarning: The 'normed' kwarg is deprecated, and has been replaced by the 'density' kwarg.\n",
      "  warnings.warn(\"The 'normed' kwarg is deprecated, and has been \"\n"
     ]
    },
    {
     "data": {
      "text/plain": [
       "<matplotlib.axes._subplots.AxesSubplot at 0x7fed886db160>"
      ]
     },
     "execution_count": 58,
     "metadata": {},
     "output_type": "execute_result"
    },
    {
     "data": {
      "image/png": "[encoded data removed]",
      "text/plain": [
       "<Figure size 842.4x597.6 with 1 Axes>"
      ]
     },
     "metadata": {},
     "output_type": "display_data"
    }
   ],
   "source": [
    "sns.distplot(Questions['NumAnswers'], kde=False)"
   ]
  },
  {
   "cell_type": "code",
   "execution_count": null,
   "metadata": {},
   "outputs": [],
   "source": []
  }
 ],
 "metadata": {
  "kernelspec": {
   "display_name": "Python 3",
   "language": "python",
   "name": "python3"
  },
  "language_info": {
   "codemirror_mode": {
    "name": "ipython",
    "version": 3
   },
   "file_extension": ".py",
   "mimetype": "text/x-python",
   "name": "python",
   "nbconvert_exporter": "python",
   "pygments_lexer": "ipython3",
   "version": "3.4.3"
  }
 },
 "nbformat": 4,
 "nbformat_minor": 2
}
