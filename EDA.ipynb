{
 "cells": [
  {
   "cell_type": "markdown",
   "metadata": {},
   "source": [
    "# Asking and Answering Questions on Stack Overflow\n",
    "Stack Overflow has released official [How do I ask a good question?](https://stackoverflow.com/help/how-to-ask) and [How do I write a good answer?](https://stackoverflow.com/help/how-to-answer) guides.\n",
    "\n",
    "Why do we care about the quality of the questions asked? Where does that put the pedagogical \"There is no such thing as a bad question?\"\n",
    "\n",
    "Although there is a educational aspect to Stack Overflow, at the end of the day, it is a question and answer forum for developers to get and give help. If you are asking for help, you want to maximize your chances at getting it. If you are helping, you want to maximize your chances of being effective at helping. In this context, we could rephrase \"good\" questions to be questions likely to be answered, and \"good\" answers to be answers likely to be accepted.\n",
    "\n",
    "Stack Overflow has the feature that\n",
    "\n",
    "> Sometimes users encounter the following message when posting a question: \n",
    ">> 'This post does not meet our quality standards.'\n",
    "\n",
    ">If you see this message, then your question was automatically blocked by the server. All new questions are subjected to a \"minimum quality\" filter that checks for some basic indicators of a good, complete question. Check to make sure that your question has the following:\n",
    "A clear title.\n",
    "A reasonable explanation of what your question is. Add as much detail as you can.\n",
    "Any background research you've tried but wasn't enough to solve your problem.\n",
    "Correct use of English spelling and grammar to the best of your ability.\n",
    "\n",
    "However, everything they list above is quite subjective. Let's explore what features correlate with the votes and answers for a question."
   ]
  },
  {
   "cell_type": "code",
   "execution_count": 1,
   "metadata": {},
   "outputs": [],
   "source": [
    "import pandas as pd\n",
    "import numpy as np\n",
    "import matplotlib.pyplot as plt\n",
    "%matplotlib inline\n",
    "import nltk\n",
    "from multiprocessing import Pool\n",
    "from nltk.tokenize import word_tokenize\n",
    "from nltk.corpus import stopwords\n",
    "from nltk.stem import WordNetLemmatizer\n",
    "from sklearn.feature_extraction.text import TfidfVectorizer, CountVectorizer\n",
    "from sklearn.manifold import TSNE\n",
    "import re"
   ]
  },
  {
   "cell_type": "code",
   "execution_count": 2,
   "metadata": {
    "collapsed": true
   },
   "outputs": [
    {
     "name": "stderr",
     "output_type": "stream",
     "text": [
      "/Users/captain/anaconda3/lib/python3.6/site-packages/numpy/lib/arraysetops.py:472: FutureWarning: elementwise comparison failed; returning scalar instead, but in the future will perform elementwise comparison\n",
      "  mask |= (ar1 == a)\n"
     ]
    }
   ],
   "source": [
    "Questions = pd.read_csv('pythonquestions/Questions.csv', encoding=\"ISO-8859-1\", index_col='Id')\n",
    "Answers = pd.read_csv('pythonquestions/Answers.csv', encoding=\"ISO-8859-1\", index_col='Id')\n",
    "Tags = pd.read_csv('pythonquestions/Tags.csv', encoding=\"ISO-8859-1\", index_col='Id')\n",
    "\n",
    "Questions.columns = ['QuestionUserId', 'QuestionCreateDate', 'QuestionScore', 'QuestionTitle', 'QuestionBody']\n",
    "Answers.columns = ['AnswerUserId', 'AnswerCreateDate', 'ParentId', 'AnswerScore', 'AnswerBody']"
   ]
  },
  {
   "cell_type": "code",
   "execution_count": 3,
   "metadata": {},
   "outputs": [
    {
     "name": "stdout",
     "output_type": "stream",
     "text": [
      "(607282, 5)\n"
     ]
    },
    {
     "data": {
      "text/html": [
       "<div>\n",
       "<style scoped>\n",
       "    .dataframe tbody tr th:only-of-type {\n",
       "        vertical-align: middle;\n",
       "    }\n",
       "\n",
       "    .dataframe tbody tr th {\n",
       "        vertical-align: top;\n",
       "    }\n",
       "\n",
       "    .dataframe thead th {\n",
       "        text-align: right;\n",
       "    }\n",
       "</style>\n",
       "<table border=\"1\" class=\"dataframe\">\n",
       "  <thead>\n",
       "    <tr style=\"text-align: right;\">\n",
       "      <th></th>\n",
       "      <th>QuestionUserId</th>\n",
       "      <th>QuestionCreateDate</th>\n",
       "      <th>QuestionScore</th>\n",
       "      <th>QuestionTitle</th>\n",
       "      <th>QuestionBody</th>\n",
       "    </tr>\n",
       "    <tr>\n",
       "      <th>Id</th>\n",
       "      <th></th>\n",
       "      <th></th>\n",
       "      <th></th>\n",
       "      <th></th>\n",
       "      <th></th>\n",
       "    </tr>\n",
       "  </thead>\n",
       "  <tbody>\n",
       "    <tr>\n",
       "      <th>469</th>\n",
       "      <td>147.0</td>\n",
       "      <td>2008-08-02T15:11:16Z</td>\n",
       "      <td>21</td>\n",
       "      <td>How can I find the full path to a font from it...</td>\n",
       "      <td>&lt;p&gt;I am using the Photoshop's javascript API t...</td>\n",
       "    </tr>\n",
       "    <tr>\n",
       "      <th>502</th>\n",
       "      <td>147.0</td>\n",
       "      <td>2008-08-02T17:01:58Z</td>\n",
       "      <td>27</td>\n",
       "      <td>Get a preview JPEG of a PDF on Windows?</td>\n",
       "      <td>&lt;p&gt;I have a cross-platform (Python) applicatio...</td>\n",
       "    </tr>\n",
       "    <tr>\n",
       "      <th>535</th>\n",
       "      <td>154.0</td>\n",
       "      <td>2008-08-02T18:43:54Z</td>\n",
       "      <td>40</td>\n",
       "      <td>Continuous Integration System for a Python Cod...</td>\n",
       "      <td>&lt;p&gt;I'm starting work on a hobby project with a...</td>\n",
       "    </tr>\n",
       "    <tr>\n",
       "      <th>594</th>\n",
       "      <td>116.0</td>\n",
       "      <td>2008-08-03T01:15:08Z</td>\n",
       "      <td>25</td>\n",
       "      <td>cx_Oracle: How do I iterate over a result set?</td>\n",
       "      <td>&lt;p&gt;There are several ways to iterate over a re...</td>\n",
       "    </tr>\n",
       "    <tr>\n",
       "      <th>683</th>\n",
       "      <td>199.0</td>\n",
       "      <td>2008-08-03T13:19:16Z</td>\n",
       "      <td>28</td>\n",
       "      <td>Using 'in' to match an attribute of Python obj...</td>\n",
       "      <td>&lt;p&gt;I don't remember whether I was dreaming or ...</td>\n",
       "    </tr>\n",
       "  </tbody>\n",
       "</table>\n",
       "</div>"
      ],
      "text/plain": [
       "     QuestionUserId    QuestionCreateDate  QuestionScore  \\\n",
       "Id                                                         \n",
       "469           147.0  2008-08-02T15:11:16Z             21   \n",
       "502           147.0  2008-08-02T17:01:58Z             27   \n",
       "535           154.0  2008-08-02T18:43:54Z             40   \n",
       "594           116.0  2008-08-03T01:15:08Z             25   \n",
       "683           199.0  2008-08-03T13:19:16Z             28   \n",
       "\n",
       "                                         QuestionTitle  \\\n",
       "Id                                                       \n",
       "469  How can I find the full path to a font from it...   \n",
       "502            Get a preview JPEG of a PDF on Windows?   \n",
       "535  Continuous Integration System for a Python Cod...   \n",
       "594     cx_Oracle: How do I iterate over a result set?   \n",
       "683  Using 'in' to match an attribute of Python obj...   \n",
       "\n",
       "                                          QuestionBody  \n",
       "Id                                                      \n",
       "469  <p>I am using the Photoshop's javascript API t...  \n",
       "502  <p>I have a cross-platform (Python) applicatio...  \n",
       "535  <p>I'm starting work on a hobby project with a...  \n",
       "594  <p>There are several ways to iterate over a re...  \n",
       "683  <p>I don't remember whether I was dreaming or ...  "
      ]
     },
     "execution_count": 3,
     "metadata": {},
     "output_type": "execute_result"
    }
   ],
   "source": [
    "print(Questions.shape)\n",
    "Questions.head()"
   ]
  },
  {
   "cell_type": "code",
   "execution_count": 4,
   "metadata": {},
   "outputs": [
    {
     "name": "stdout",
     "output_type": "stream",
     "text": [
      "(987122, 5)\n"
     ]
    },
    {
     "data": {
      "text/html": [
       "<div>\n",
       "<style scoped>\n",
       "    .dataframe tbody tr th:only-of-type {\n",
       "        vertical-align: middle;\n",
       "    }\n",
       "\n",
       "    .dataframe tbody tr th {\n",
       "        vertical-align: top;\n",
       "    }\n",
       "\n",
       "    .dataframe thead th {\n",
       "        text-align: right;\n",
       "    }\n",
       "</style>\n",
       "<table border=\"1\" class=\"dataframe\">\n",
       "  <thead>\n",
       "    <tr style=\"text-align: right;\">\n",
       "      <th></th>\n",
       "      <th>AnswerUserId</th>\n",
       "      <th>AnswerCreateDate</th>\n",
       "      <th>ParentId</th>\n",
       "      <th>AnswerScore</th>\n",
       "      <th>AnswerBody</th>\n",
       "    </tr>\n",
       "    <tr>\n",
       "      <th>Id</th>\n",
       "      <th></th>\n",
       "      <th></th>\n",
       "      <th></th>\n",
       "      <th></th>\n",
       "      <th></th>\n",
       "    </tr>\n",
       "  </thead>\n",
       "  <tbody>\n",
       "    <tr>\n",
       "      <th>497</th>\n",
       "      <td>50.0</td>\n",
       "      <td>2008-08-02T16:56:53Z</td>\n",
       "      <td>469</td>\n",
       "      <td>4</td>\n",
       "      <td>&lt;p&gt;open up a terminal (Applications-&amp;gt;Utilit...</td>\n",
       "    </tr>\n",
       "    <tr>\n",
       "      <th>518</th>\n",
       "      <td>153.0</td>\n",
       "      <td>2008-08-02T17:42:28Z</td>\n",
       "      <td>469</td>\n",
       "      <td>2</td>\n",
       "      <td>&lt;p&gt;I haven't been able to find anything that d...</td>\n",
       "    </tr>\n",
       "    <tr>\n",
       "      <th>536</th>\n",
       "      <td>161.0</td>\n",
       "      <td>2008-08-02T18:49:07Z</td>\n",
       "      <td>502</td>\n",
       "      <td>9</td>\n",
       "      <td>&lt;p&gt;You can use ImageMagick's convert utility f...</td>\n",
       "    </tr>\n",
       "    <tr>\n",
       "      <th>538</th>\n",
       "      <td>156.0</td>\n",
       "      <td>2008-08-02T18:56:56Z</td>\n",
       "      <td>535</td>\n",
       "      <td>23</td>\n",
       "      <td>&lt;p&gt;One possibility is Hudson.  It's written in...</td>\n",
       "    </tr>\n",
       "    <tr>\n",
       "      <th>541</th>\n",
       "      <td>157.0</td>\n",
       "      <td>2008-08-02T19:06:40Z</td>\n",
       "      <td>535</td>\n",
       "      <td>20</td>\n",
       "      <td>&lt;p&gt;We run &lt;a href=\"http://buildbot.net/trac\"&gt;B...</td>\n",
       "    </tr>\n",
       "  </tbody>\n",
       "</table>\n",
       "</div>"
      ],
      "text/plain": [
       "     AnswerUserId      AnswerCreateDate  ParentId  AnswerScore  \\\n",
       "Id                                                               \n",
       "497          50.0  2008-08-02T16:56:53Z       469            4   \n",
       "518         153.0  2008-08-02T17:42:28Z       469            2   \n",
       "536         161.0  2008-08-02T18:49:07Z       502            9   \n",
       "538         156.0  2008-08-02T18:56:56Z       535           23   \n",
       "541         157.0  2008-08-02T19:06:40Z       535           20   \n",
       "\n",
       "                                            AnswerBody  \n",
       "Id                                                      \n",
       "497  <p>open up a terminal (Applications-&gt;Utilit...  \n",
       "518  <p>I haven't been able to find anything that d...  \n",
       "536  <p>You can use ImageMagick's convert utility f...  \n",
       "538  <p>One possibility is Hudson.  It's written in...  \n",
       "541  <p>We run <a href=\"http://buildbot.net/trac\">B...  "
      ]
     },
     "execution_count": 4,
     "metadata": {},
     "output_type": "execute_result"
    }
   ],
   "source": [
    "print(Answers.shape)\n",
    "Answers.head()"
   ]
  },
  {
   "cell_type": "code",
   "execution_count": 5,
   "metadata": {},
   "outputs": [
    {
     "name": "stdout",
     "output_type": "stream",
     "text": [
      "(1885078, 1)\n"
     ]
    },
    {
     "data": {
      "text/html": [
       "<div>\n",
       "<style scoped>\n",
       "    .dataframe tbody tr th:only-of-type {\n",
       "        vertical-align: middle;\n",
       "    }\n",
       "\n",
       "    .dataframe tbody tr th {\n",
       "        vertical-align: top;\n",
       "    }\n",
       "\n",
       "    .dataframe thead th {\n",
       "        text-align: right;\n",
       "    }\n",
       "</style>\n",
       "<table border=\"1\" class=\"dataframe\">\n",
       "  <thead>\n",
       "    <tr style=\"text-align: right;\">\n",
       "      <th></th>\n",
       "      <th>Tag</th>\n",
       "    </tr>\n",
       "    <tr>\n",
       "      <th>Id</th>\n",
       "      <th></th>\n",
       "    </tr>\n",
       "  </thead>\n",
       "  <tbody>\n",
       "    <tr>\n",
       "      <th>469</th>\n",
       "      <td>python</td>\n",
       "    </tr>\n",
       "    <tr>\n",
       "      <th>469</th>\n",
       "      <td>osx</td>\n",
       "    </tr>\n",
       "    <tr>\n",
       "      <th>469</th>\n",
       "      <td>fonts</td>\n",
       "    </tr>\n",
       "    <tr>\n",
       "      <th>469</th>\n",
       "      <td>photoshop</td>\n",
       "    </tr>\n",
       "    <tr>\n",
       "      <th>502</th>\n",
       "      <td>python</td>\n",
       "    </tr>\n",
       "  </tbody>\n",
       "</table>\n",
       "</div>"
      ],
      "text/plain": [
       "           Tag\n",
       "Id            \n",
       "469     python\n",
       "469        osx\n",
       "469      fonts\n",
       "469  photoshop\n",
       "502     python"
      ]
     },
     "execution_count": 5,
     "metadata": {},
     "output_type": "execute_result"
    }
   ],
   "source": [
    "print(Tags.shape)\n",
    "Tags.head()"
   ]
  },
  {
   "cell_type": "code",
   "execution_count": 6,
   "metadata": {},
   "outputs": [
    {
     "name": "stdout",
     "output_type": "stream",
     "text": [
      "QuestionUserId        6212\n",
      "QuestionCreateDate       0\n",
      "QuestionScore            0\n",
      "QuestionTitle            0\n",
      "QuestionBody             0\n",
      "dtype: int64\n",
      "AnswerUserId        5367\n",
      "AnswerCreateDate       0\n",
      "ParentId               0\n",
      "AnswerScore            0\n",
      "AnswerBody             0\n",
      "dtype: int64\n",
      "Tag    443\n",
      "dtype: int64\n"
     ]
    }
   ],
   "source": [
    "print(Questions.isnull().sum())\n",
    "print(Answers.isnull().sum())\n",
    "print(Tags.isnull().sum())"
   ]
  },
  {
   "cell_type": "markdown",
   "metadata": {},
   "source": [
    "Looks like this data is pretty clean. The only nulls are for users (probably users that have deleted their accounts since posting), and tags (since these are optional)."
   ]
  },
  {
   "cell_type": "markdown",
   "metadata": {},
   "source": [
    "# Question 1: How many users are engaged on Q, A, & Q&A?"
   ]
  },
  {
   "cell_type": "code",
   "execution_count": 7,
   "metadata": {
    "collapsed": true
   },
   "outputs": [],
   "source": [
    "User_id_inQ = Questions['QuestionUserId'].unique()\n",
    "User_id_inA = Answers['AnswerUserId'].unique()\n",
    "User_id_inBoth=set(User_id_inQ).intersection(User_id_inA)"
   ]
  },
  {
   "cell_type": "code",
   "execution_count": 8,
   "metadata": {},
   "outputs": [
    {
     "name": "stdout",
     "output_type": "stream",
     "text": [
      "213928 users posting questions\n",
      "149177 users posting answers\n",
      "63779 users posting both\n"
     ]
    }
   ],
   "source": [
    "print(str(len(User_id_inQ)) + ' users posting questions')\n",
    "print(str(len(User_id_inA)) + ' users posting answers')\n",
    "print(str(len(User_id_inBoth)) + ' users posting both')"
   ]
  },
  {
   "cell_type": "code",
   "execution_count": 9,
   "metadata": {
    "collapsed": true
   },
   "outputs": [],
   "source": [
    "# reduce memory and computation\n",
    "# selected_ids = np.random.choice(range(Questions.shape[0]), 10000, replace=False)\n",
    "# Questions = Questions.loc[selected_ids, :]"
   ]
  },
  {
   "cell_type": "markdown",
   "metadata": {},
   "source": [
    "# Question 2: How many questions contain Python errors and tracebacks?"
   ]
  },
  {
   "cell_type": "code",
   "execution_count": 10,
   "metadata": {},
   "outputs": [],
   "source": [
    "Questions['HasError'] = Questions['QuestionBody'].str.contains(\"[A-Z][a-z]+Error:\\s\")"
   ]
  },
  {
   "cell_type": "code",
   "execution_count": 11,
   "metadata": {},
   "outputs": [
    {
     "name": "stdout",
     "output_type": "stream",
     "text": [
      "118516 96055 95190 85601 85481\n"
     ]
    }
   ],
   "source": [
    "print(\n",
    "    Questions['QuestionBody'].str.contains(\"Error\").sum(), \n",
    "    Questions['QuestionBody'].str.contains(\"Error:\").sum(), \n",
    "    Questions['QuestionBody'].str.contains(\"Error:\\s\").sum(), \n",
    "    Questions['QuestionBody'].str.contains(\"[a-z]+Error:\\s\").sum(), \n",
    "    Questions['HasError'].sum()\n",
    ")"
   ]
  },
  {
   "cell_type": "code",
   "execution_count": 12,
   "metadata": {},
   "outputs": [
    {
     "name": "stdout",
     "output_type": "stream",
     "text": [
      "0.14075997641952173 of questions have a full Python-formatted error message\n"
     ]
    }
   ],
   "source": [
    "print(str(Questions['HasError'].sum() / Questions['HasError'].count()) + \" of questions have a full Python-formatted error message\")"
   ]
  },
  {
   "cell_type": "code",
   "execution_count": 13,
   "metadata": {},
   "outputs": [],
   "source": [
    "Questions['HasTraceback'] = Questions['QuestionBody'].str.contains(\"Traceback \\(most recent call last\\):\")"
   ]
  },
  {
   "cell_type": "code",
   "execution_count": 14,
   "metadata": {},
   "outputs": [
    {
     "name": "stdout",
     "output_type": "stream",
     "text": [
      "0.06771977433877506 of questions have a full Python-formatted traceback\n"
     ]
    }
   ],
   "source": [
    "print(str(Questions['HasTraceback'].sum() / Questions['HasTraceback'].count()) + \" of questions have a full Python-formatted traceback\")"
   ]
  },
  {
   "cell_type": "code",
   "execution_count": 15,
   "metadata": {},
   "outputs": [
    {
     "data": {
      "text/html": [
       "<div>\n",
       "<style scoped>\n",
       "    .dataframe tbody tr th:only-of-type {\n",
       "        vertical-align: middle;\n",
       "    }\n",
       "\n",
       "    .dataframe tbody tr th {\n",
       "        vertical-align: top;\n",
       "    }\n",
       "\n",
       "    .dataframe thead th {\n",
       "        text-align: right;\n",
       "    }\n",
       "</style>\n",
       "<table border=\"1\" class=\"dataframe\">\n",
       "  <thead>\n",
       "    <tr style=\"text-align: right;\">\n",
       "      <th></th>\n",
       "      <th>QuestionUserId</th>\n",
       "      <th>QuestionCreateDate</th>\n",
       "      <th>QuestionScore</th>\n",
       "      <th>QuestionTitle</th>\n",
       "      <th>QuestionBody</th>\n",
       "      <th>HasError</th>\n",
       "      <th>HasTraceback</th>\n",
       "    </tr>\n",
       "    <tr>\n",
       "      <th>Id</th>\n",
       "      <th></th>\n",
       "      <th></th>\n",
       "      <th></th>\n",
       "      <th></th>\n",
       "      <th></th>\n",
       "      <th></th>\n",
       "      <th></th>\n",
       "    </tr>\n",
       "  </thead>\n",
       "  <tbody>\n",
       "    <tr>\n",
       "      <th>469</th>\n",
       "      <td>147.0</td>\n",
       "      <td>2008-08-02T15:11:16Z</td>\n",
       "      <td>21</td>\n",
       "      <td>How can I find the full path to a font from it...</td>\n",
       "      <td>&lt;p&gt;I am using the Photoshop's javascript API t...</td>\n",
       "      <td>False</td>\n",
       "      <td>False</td>\n",
       "    </tr>\n",
       "    <tr>\n",
       "      <th>502</th>\n",
       "      <td>147.0</td>\n",
       "      <td>2008-08-02T17:01:58Z</td>\n",
       "      <td>27</td>\n",
       "      <td>Get a preview JPEG of a PDF on Windows?</td>\n",
       "      <td>&lt;p&gt;I have a cross-platform (Python) applicatio...</td>\n",
       "      <td>False</td>\n",
       "      <td>False</td>\n",
       "    </tr>\n",
       "    <tr>\n",
       "      <th>535</th>\n",
       "      <td>154.0</td>\n",
       "      <td>2008-08-02T18:43:54Z</td>\n",
       "      <td>40</td>\n",
       "      <td>Continuous Integration System for a Python Cod...</td>\n",
       "      <td>&lt;p&gt;I'm starting work on a hobby project with a...</td>\n",
       "      <td>False</td>\n",
       "      <td>False</td>\n",
       "    </tr>\n",
       "    <tr>\n",
       "      <th>594</th>\n",
       "      <td>116.0</td>\n",
       "      <td>2008-08-03T01:15:08Z</td>\n",
       "      <td>25</td>\n",
       "      <td>cx_Oracle: How do I iterate over a result set?</td>\n",
       "      <td>&lt;p&gt;There are several ways to iterate over a re...</td>\n",
       "      <td>False</td>\n",
       "      <td>False</td>\n",
       "    </tr>\n",
       "    <tr>\n",
       "      <th>683</th>\n",
       "      <td>199.0</td>\n",
       "      <td>2008-08-03T13:19:16Z</td>\n",
       "      <td>28</td>\n",
       "      <td>Using 'in' to match an attribute of Python obj...</td>\n",
       "      <td>&lt;p&gt;I don't remember whether I was dreaming or ...</td>\n",
       "      <td>False</td>\n",
       "      <td>False</td>\n",
       "    </tr>\n",
       "  </tbody>\n",
       "</table>\n",
       "</div>"
      ],
      "text/plain": [
       "     QuestionUserId    QuestionCreateDate  QuestionScore  \\\n",
       "Id                                                         \n",
       "469           147.0  2008-08-02T15:11:16Z             21   \n",
       "502           147.0  2008-08-02T17:01:58Z             27   \n",
       "535           154.0  2008-08-02T18:43:54Z             40   \n",
       "594           116.0  2008-08-03T01:15:08Z             25   \n",
       "683           199.0  2008-08-03T13:19:16Z             28   \n",
       "\n",
       "                                         QuestionTitle  \\\n",
       "Id                                                       \n",
       "469  How can I find the full path to a font from it...   \n",
       "502            Get a preview JPEG of a PDF on Windows?   \n",
       "535  Continuous Integration System for a Python Cod...   \n",
       "594     cx_Oracle: How do I iterate over a result set?   \n",
       "683  Using 'in' to match an attribute of Python obj...   \n",
       "\n",
       "                                          QuestionBody  HasError  HasTraceback  \n",
       "Id                                                                              \n",
       "469  <p>I am using the Photoshop's javascript API t...     False         False  \n",
       "502  <p>I have a cross-platform (Python) applicatio...     False         False  \n",
       "535  <p>I'm starting work on a hobby project with a...     False         False  \n",
       "594  <p>There are several ways to iterate over a re...     False         False  \n",
       "683  <p>I don't remember whether I was dreaming or ...     False         False  "
      ]
     },
     "execution_count": 15,
     "metadata": {},
     "output_type": "execute_result"
    }
   ],
   "source": [
    "Questions.head()"
   ]
  },
  {
   "cell_type": "markdown",
   "metadata": {},
   "source": [
    "# Overall number of votes per question"
   ]
  },
  {
   "cell_type": "code",
   "execution_count": 16,
   "metadata": {},
   "outputs": [
    {
     "name": "stdout",
     "output_type": "stream",
     "text": [
      "total average votes 2.2831369940159596\n"
     ]
    }
   ],
   "source": [
    "total_average_votes = Questions['QuestionScore'].sum() / len(Questions['QuestionScore'])\n",
    "print('total average votes ' + str(total_average_votes))"
   ]
  },
  {
   "cell_type": "markdown",
   "metadata": {},
   "source": [
    "# Question 3: Do questions with errors have more or less votes?"
   ]
  },
  {
   "cell_type": "code",
   "execution_count": 17,
   "metadata": {},
   "outputs": [
    {
     "name": "stdout",
     "output_type": "stream",
     "text": [
      "error average votes 1.7215053637650473\n",
      "only error average votes 1.6573415912339209\n"
     ]
    }
   ],
   "source": [
    "QuestionsWithError = Questions[Questions['HasError']]\n",
    "hasError_average_votes = QuestionsWithError['QuestionScore'].sum() / len(QuestionsWithError['QuestionScore'])\n",
    "print('error average votes ' + str(hasError_average_votes))\n",
    "QuestionsWithOnlyError = Questions[(Questions['HasError'] & ~Questions['HasTraceback'])]\n",
    "hasOnlyError_average_votes = QuestionsWithOnlyError['QuestionScore'].sum() / len(QuestionsWithOnlyError['QuestionScore'])\n",
    "print('only error average votes ' + str(hasOnlyError_average_votes))"
   ]
  },
  {
   "cell_type": "markdown",
   "metadata": {},
   "source": [
    "# Question 4: Do questions with tracebacks have more or less votes?"
   ]
  },
  {
   "cell_type": "code",
   "execution_count": 18,
   "metadata": {},
   "outputs": [
    {
     "name": "stdout",
     "output_type": "stream",
     "text": [
      "traceback average votes 1.8253617021276596\n",
      "only traceback average votes 1.8328611898016998\n"
     ]
    }
   ],
   "source": [
    "QuestionsWithTraceback = Questions[Questions['HasTraceback']]\n",
    "hasTraceback_average_votes = QuestionsWithTraceback['QuestionScore'].sum() / len(QuestionsWithTraceback['QuestionScore'])\n",
    "print('traceback average votes ' + str(hasTraceback_average_votes))\n",
    "QuestionsWithOnlyTraceback = Questions[(~Questions['HasError'] & Questions['HasTraceback'])]\n",
    "hasOnlyTraceback_average_votes = QuestionsWithOnlyTraceback['QuestionScore'].sum() / len(QuestionsWithOnlyTraceback['QuestionScore'])\n",
    "print('only traceback average votes ' + str(hasOnlyTraceback_average_votes))"
   ]
  },
  {
   "cell_type": "markdown",
   "metadata": {},
   "source": [
    "# Question 5: Do questions with errors and tracebacks have more or less votes?"
   ]
  },
  {
   "cell_type": "code",
   "execution_count": 19,
   "metadata": {},
   "outputs": [],
   "source": [
    "QuestionsWithErrorAndTraceback = Questions[(Questions['HasError'] & Questions['HasTraceback'])]"
   ]
  },
  {
   "cell_type": "code",
   "execution_count": 20,
   "metadata": {},
   "outputs": [
    {
     "name": "stdout",
     "output_type": "stream",
     "text": [
      "error and traceback average votes 1.8235169363146095\n"
     ]
    }
   ],
   "source": [
    "QuestionsWithErrorAndTraceback = QuestionsWithError[QuestionsWithError['HasTraceback']]\n",
    "hasErrorAndTraceback_average_votes = QuestionsWithErrorAndTraceback['QuestionScore'].sum() / len(QuestionsWithErrorAndTraceback['QuestionScore'])\n",
    "print('error and traceback average votes ' + str(hasErrorAndTraceback_average_votes))"
   ]
  },
  {
   "cell_type": "markdown",
   "metadata": {},
   "source": [
    "# Overall average number of answers per question"
   ]
  },
  {
   "cell_type": "code",
   "execution_count": 21,
   "metadata": {},
   "outputs": [
    {
     "data": {
      "text/html": [
       "<div>\n",
       "<style scoped>\n",
       "    .dataframe tbody tr th:only-of-type {\n",
       "        vertical-align: middle;\n",
       "    }\n",
       "\n",
       "    .dataframe tbody tr th {\n",
       "        vertical-align: top;\n",
       "    }\n",
       "\n",
       "    .dataframe thead th {\n",
       "        text-align: right;\n",
       "    }\n",
       "</style>\n",
       "<table border=\"1\" class=\"dataframe\">\n",
       "  <thead>\n",
       "    <tr style=\"text-align: right;\">\n",
       "      <th></th>\n",
       "      <th>QuestionUserId</th>\n",
       "      <th>QuestionCreateDate</th>\n",
       "      <th>QuestionScore</th>\n",
       "      <th>QuestionTitle</th>\n",
       "      <th>QuestionBody</th>\n",
       "      <th>HasError</th>\n",
       "      <th>HasTraceback</th>\n",
       "      <th>AnswerUserId</th>\n",
       "      <th>AnswerCreateDate</th>\n",
       "      <th>ParentId</th>\n",
       "      <th>AnswerScore</th>\n",
       "      <th>AnswerBody</th>\n",
       "    </tr>\n",
       "    <tr>\n",
       "      <th>Id</th>\n",
       "      <th></th>\n",
       "      <th></th>\n",
       "      <th></th>\n",
       "      <th></th>\n",
       "      <th></th>\n",
       "      <th></th>\n",
       "      <th></th>\n",
       "      <th></th>\n",
       "      <th></th>\n",
       "      <th></th>\n",
       "      <th></th>\n",
       "      <th></th>\n",
       "    </tr>\n",
       "  </thead>\n",
       "  <tbody>\n",
       "    <tr>\n",
       "      <th>497</th>\n",
       "      <td>147.0</td>\n",
       "      <td>2008-08-02T15:11:16Z</td>\n",
       "      <td>21</td>\n",
       "      <td>How can I find the full path to a font from it...</td>\n",
       "      <td>&lt;p&gt;I am using the Photoshop's javascript API t...</td>\n",
       "      <td>False</td>\n",
       "      <td>False</td>\n",
       "      <td>50.0</td>\n",
       "      <td>2008-08-02T16:56:53Z</td>\n",
       "      <td>469</td>\n",
       "      <td>4.0</td>\n",
       "      <td>&lt;p&gt;open up a terminal (Applications-&amp;gt;Utilit...</td>\n",
       "    </tr>\n",
       "    <tr>\n",
       "      <th>518</th>\n",
       "      <td>147.0</td>\n",
       "      <td>2008-08-02T15:11:16Z</td>\n",
       "      <td>21</td>\n",
       "      <td>How can I find the full path to a font from it...</td>\n",
       "      <td>&lt;p&gt;I am using the Photoshop's javascript API t...</td>\n",
       "      <td>False</td>\n",
       "      <td>False</td>\n",
       "      <td>153.0</td>\n",
       "      <td>2008-08-02T17:42:28Z</td>\n",
       "      <td>469</td>\n",
       "      <td>2.0</td>\n",
       "      <td>&lt;p&gt;I haven't been able to find anything that d...</td>\n",
       "    </tr>\n",
       "    <tr>\n",
       "      <th>3040</th>\n",
       "      <td>147.0</td>\n",
       "      <td>2008-08-02T15:11:16Z</td>\n",
       "      <td>21</td>\n",
       "      <td>How can I find the full path to a font from it...</td>\n",
       "      <td>&lt;p&gt;I am using the Photoshop's javascript API t...</td>\n",
       "      <td>False</td>\n",
       "      <td>False</td>\n",
       "      <td>457.0</td>\n",
       "      <td>2008-08-06T03:01:23Z</td>\n",
       "      <td>469</td>\n",
       "      <td>12.0</td>\n",
       "      <td>&lt;p&gt;Unfortunately the only API that isn't depre...</td>\n",
       "    </tr>\n",
       "  </tbody>\n",
       "</table>\n",
       "</div>"
      ],
      "text/plain": [
       "      QuestionUserId    QuestionCreateDate  QuestionScore  \\\n",
       "Id                                                          \n",
       "497            147.0  2008-08-02T15:11:16Z             21   \n",
       "518            147.0  2008-08-02T15:11:16Z             21   \n",
       "3040           147.0  2008-08-02T15:11:16Z             21   \n",
       "\n",
       "                                          QuestionTitle  \\\n",
       "Id                                                        \n",
       "497   How can I find the full path to a font from it...   \n",
       "518   How can I find the full path to a font from it...   \n",
       "3040  How can I find the full path to a font from it...   \n",
       "\n",
       "                                           QuestionBody  HasError  \\\n",
       "Id                                                                  \n",
       "497   <p>I am using the Photoshop's javascript API t...     False   \n",
       "518   <p>I am using the Photoshop's javascript API t...     False   \n",
       "3040  <p>I am using the Photoshop's javascript API t...     False   \n",
       "\n",
       "      HasTraceback  AnswerUserId      AnswerCreateDate  ParentId  AnswerScore  \\\n",
       "Id                                                                              \n",
       "497          False          50.0  2008-08-02T16:56:53Z       469          4.0   \n",
       "518          False         153.0  2008-08-02T17:42:28Z       469          2.0   \n",
       "3040         False         457.0  2008-08-06T03:01:23Z       469         12.0   \n",
       "\n",
       "                                             AnswerBody  \n",
       "Id                                                       \n",
       "497   <p>open up a terminal (Applications-&gt;Utilit...  \n",
       "518   <p>I haven't been able to find anything that d...  \n",
       "3040  <p>Unfortunately the only API that isn't depre...  "
      ]
     },
     "execution_count": 21,
     "metadata": {},
     "output_type": "execute_result"
    }
   ],
   "source": [
    "QA = Questions.merge(Answers, how='left', left_index=True, right_on='ParentId')\n",
    "QA.head(3)"
   ]
  },
  {
   "cell_type": "code",
   "execution_count": 22,
   "metadata": {},
   "outputs": [
    {
     "data": {
      "text/html": [
       "<div>\n",
       "<style scoped>\n",
       "    .dataframe tbody tr th:only-of-type {\n",
       "        vertical-align: middle;\n",
       "    }\n",
       "\n",
       "    .dataframe tbody tr th {\n",
       "        vertical-align: top;\n",
       "    }\n",
       "\n",
       "    .dataframe thead th {\n",
       "        text-align: right;\n",
       "    }\n",
       "</style>\n",
       "<table border=\"1\" class=\"dataframe\">\n",
       "  <thead>\n",
       "    <tr style=\"text-align: right;\">\n",
       "      <th></th>\n",
       "      <th>QuestionUserId</th>\n",
       "      <th>QuestionCreateDate</th>\n",
       "      <th>QuestionScore</th>\n",
       "      <th>QuestionTitle</th>\n",
       "      <th>QuestionBody</th>\n",
       "      <th>HasError</th>\n",
       "      <th>HasTraceback</th>\n",
       "      <th>AnswerUserId</th>\n",
       "      <th>AnswerCreateDate</th>\n",
       "      <th>AnswerScore</th>\n",
       "      <th>AnswerBody</th>\n",
       "    </tr>\n",
       "    <tr>\n",
       "      <th>ParentId</th>\n",
       "      <th></th>\n",
       "      <th></th>\n",
       "      <th></th>\n",
       "      <th></th>\n",
       "      <th></th>\n",
       "      <th></th>\n",
       "      <th></th>\n",
       "      <th></th>\n",
       "      <th></th>\n",
       "      <th></th>\n",
       "      <th></th>\n",
       "    </tr>\n",
       "  </thead>\n",
       "  <tbody>\n",
       "    <tr>\n",
       "      <th>550632</th>\n",
       "      <td>55</td>\n",
       "      <td>55</td>\n",
       "      <td>55</td>\n",
       "      <td>55</td>\n",
       "      <td>55</td>\n",
       "      <td>55</td>\n",
       "      <td>55</td>\n",
       "      <td>54</td>\n",
       "      <td>55</td>\n",
       "      <td>55</td>\n",
       "      <td>55</td>\n",
       "    </tr>\n",
       "    <tr>\n",
       "      <th>312443</th>\n",
       "      <td>45</td>\n",
       "      <td>45</td>\n",
       "      <td>45</td>\n",
       "      <td>45</td>\n",
       "      <td>45</td>\n",
       "      <td>45</td>\n",
       "      <td>45</td>\n",
       "      <td>45</td>\n",
       "      <td>45</td>\n",
       "      <td>45</td>\n",
       "      <td>45</td>\n",
       "    </tr>\n",
       "    <tr>\n",
       "      <th>36932</th>\n",
       "      <td>43</td>\n",
       "      <td>43</td>\n",
       "      <td>43</td>\n",
       "      <td>43</td>\n",
       "      <td>43</td>\n",
       "      <td>43</td>\n",
       "      <td>43</td>\n",
       "      <td>42</td>\n",
       "      <td>43</td>\n",
       "      <td>43</td>\n",
       "      <td>43</td>\n",
       "    </tr>\n",
       "    <tr>\n",
       "      <th>89228</th>\n",
       "      <td>42</td>\n",
       "      <td>42</td>\n",
       "      <td>42</td>\n",
       "      <td>42</td>\n",
       "      <td>42</td>\n",
       "      <td>42</td>\n",
       "      <td>42</td>\n",
       "      <td>42</td>\n",
       "      <td>42</td>\n",
       "      <td>42</td>\n",
       "      <td>42</td>\n",
       "    </tr>\n",
       "    <tr>\n",
       "      <th>38987</th>\n",
       "      <td>37</td>\n",
       "      <td>37</td>\n",
       "      <td>37</td>\n",
       "      <td>37</td>\n",
       "      <td>37</td>\n",
       "      <td>37</td>\n",
       "      <td>37</td>\n",
       "      <td>37</td>\n",
       "      <td>37</td>\n",
       "      <td>37</td>\n",
       "      <td>37</td>\n",
       "    </tr>\n",
       "  </tbody>\n",
       "</table>\n",
       "</div>"
      ],
      "text/plain": [
       "          QuestionUserId  QuestionCreateDate  QuestionScore  QuestionTitle  \\\n",
       "ParentId                                                                     \n",
       "550632                55                  55             55             55   \n",
       "312443                45                  45             45             45   \n",
       "36932                 43                  43             43             43   \n",
       "89228                 42                  42             42             42   \n",
       "38987                 37                  37             37             37   \n",
       "\n",
       "          QuestionBody  HasError  HasTraceback  AnswerUserId  \\\n",
       "ParentId                                                       \n",
       "550632              55        55            55            54   \n",
       "312443              45        45            45            45   \n",
       "36932               43        43            43            42   \n",
       "89228               42        42            42            42   \n",
       "38987               37        37            37            37   \n",
       "\n",
       "          AnswerCreateDate  AnswerScore  AnswerBody  \n",
       "ParentId                                             \n",
       "550632                  55           55          55  \n",
       "312443                  45           45          45  \n",
       "36932                   43           43          43  \n",
       "89228                   42           42          42  \n",
       "38987                   37           37          37  "
      ]
     },
     "execution_count": 22,
     "metadata": {},
     "output_type": "execute_result"
    }
   ],
   "source": [
    "AnswersPerQuestion = QA.groupby('ParentId').count()\n",
    "AnswersPerQuestion.sort_values('AnswerCreateDate', ascending=False).head()"
   ]
  },
  {
   "cell_type": "code",
   "execution_count": 23,
   "metadata": {},
   "outputs": [
    {
     "name": "stdout",
     "output_type": "stream",
     "text": [
      "total average answers 1.625475479266634\n"
     ]
    }
   ],
   "source": [
    "total_average_answers = AnswersPerQuestion['AnswerCreateDate'].sum() / AnswersPerQuestion['AnswerCreateDate'].count()\n",
    "print('total average answers ' + str(total_average_answers))"
   ]
  },
  {
   "cell_type": "markdown",
   "metadata": {},
   "source": [
    "# Question 6: Do questions with errors have more or less answers?"
   ]
  },
  {
   "cell_type": "code",
   "execution_count": 24,
   "metadata": {},
   "outputs": [
    {
     "name": "stdout",
     "output_type": "stream",
     "text": [
      "error average answers 1.4572361109486318\n",
      "only error average answers 1.4740924249642686\n"
     ]
    }
   ],
   "source": [
    "AnswersPerQuestionWithError = QA[QA['HasError']].groupby('ParentId').count()\n",
    "hasError_average_answers = AnswersPerQuestionWithError['AnswerCreateDate'].sum() / len(AnswersPerQuestionWithError['AnswerCreateDate'])\n",
    "print('error average answers ' + str(hasError_average_answers))\n",
    "AnswersPerQuestionWithOnlyError = QA[(QA['HasError'] & ~QA['HasTraceback'])].groupby('ParentId').count()\n",
    "hasOnlyError_average_answers = AnswersPerQuestionWithOnlyError['AnswerCreateDate'].sum() / len(AnswersPerQuestionWithOnlyError['AnswerCreateDate'])\n",
    "print('only error average answers ' + str(hasOnlyError_average_answers))"
   ]
  },
  {
   "cell_type": "markdown",
   "metadata": {},
   "source": [
    "# Question 7: Do questions with tracebacks have more or less answers?"
   ]
  },
  {
   "cell_type": "code",
   "execution_count": 25,
   "metadata": {},
   "outputs": [
    {
     "name": "stdout",
     "output_type": "stream",
     "text": [
      "traceback average answers 1.4572361109486318\n",
      "only traceback average answers 1.3069343515211234\n"
     ]
    }
   ],
   "source": [
    "AnswersPerQuestionWithTraceback = QA[QA['HasTraceback']].groupby('ParentId').count()\n",
    "hasTraceback_average_answers = AnswersPerQuestionWithTraceback['AnswerCreateDate'].sum() / len(AnswersPerQuestionWithTraceback['AnswerCreateDate'])\n",
    "print('traceback average answers ' + str(hasError_average_answers))\n",
    "AnswersPerQuestionWithOnlyTraceback = QA[(~QA['HasError'] & QA['HasTraceback'])].groupby('ParentId').count()\n",
    "hasOnlyTraceback_average_answers = AnswersPerQuestionWithOnlyTraceback['AnswerCreateDate'].sum() / len(AnswersPerQuestionWithOnlyTraceback['AnswerCreateDate'])\n",
    "print('only traceback average answers ' + str(hasOnlyTraceback_average_answers))"
   ]
  },
  {
   "cell_type": "markdown",
   "metadata": {},
   "source": [
    "# Question 8: Do questions with errors and tracebacks have more or less answers?"
   ]
  },
  {
   "cell_type": "code",
   "execution_count": 26,
   "metadata": {},
   "outputs": [
    {
     "name": "stdout",
     "output_type": "stream",
     "text": [
      "error traceback average answers 1.4304368902623765\n"
     ]
    }
   ],
   "source": [
    "AnswersPerQuestionWithErrorAndTraceback = QA[(QA['HasError'] & QA['HasTraceback'])].groupby('ParentId').count()\n",
    "hasErrorAndTraceback_average_answers = AnswersPerQuestionWithErrorAndTraceback['AnswerCreateDate'].sum() / len(AnswersPerQuestionWithErrorAndTraceback['AnswerCreateDate'])\n",
    "print('error traceback average answers ' + str(hasErrorAndTraceback_average_answers))"
   ]
  },
  {
   "cell_type": "code",
   "execution_count": null,
   "metadata": {},
   "outputs": [],
   "source": []
  },
  {
   "cell_type": "code",
   "execution_count": null,
   "metadata": {},
   "outputs": [],
   "source": []
  },
  {
   "cell_type": "code",
   "execution_count": null,
   "metadata": {},
   "outputs": [],
   "source": []
  },
  {
   "cell_type": "code",
   "execution_count": null,
   "metadata": {},
   "outputs": [],
   "source": []
  },
  {
   "cell_type": "code",
   "execution_count": null,
   "metadata": {},
   "outputs": [],
   "source": []
  },
  {
   "cell_type": "code",
   "execution_count": 17,
   "metadata": {
    "collapsed": true
   },
   "outputs": [],
   "source": [
    "def purify_string(html):\n",
    "    # removes line breaks and tags\n",
    "    return re.sub('(\\r\\n)+|\\r+|\\n+', \" \", re.sub('<[^<]+?>', '', html))"
   ]
  },
  {
   "cell_type": "code",
   "execution_count": 61,
   "metadata": {
    "collapsed": true
   },
   "outputs": [],
   "source": [
    "Questionsbodytext = Questions.loc[:, 'QuestionBody'].apply(purify_string)"
   ]
  },
  {
   "cell_type": "code",
   "execution_count": 63,
   "metadata": {
    "collapsed": true
   },
   "outputs": [],
   "source": [
    "def combine_title_body(tnb):\n",
    "    return tnb[0] + \" \" + tnb[1]"
   ]
  },
  {
   "cell_type": "code",
   "execution_count": 64,
   "metadata": {
    "collapsed": true
   },
   "outputs": [],
   "source": [
    "p = Pool(8)\n",
    "Questionstext = p.map(combine_title_body, zip(Questions['QuestionTitle'], Questionsbodytext))\n",
    "p.close()"
   ]
  },
  {
   "cell_type": "code",
   "execution_count": 65,
   "metadata": {},
   "outputs": [
    {
     "data": {
      "text/html": [
       "<div>\n",
       "<style scoped>\n",
       "    .dataframe tbody tr th:only-of-type {\n",
       "        vertical-align: middle;\n",
       "    }\n",
       "\n",
       "    .dataframe tbody tr th {\n",
       "        vertical-align: top;\n",
       "    }\n",
       "\n",
       "    .dataframe thead th {\n",
       "        text-align: right;\n",
       "    }\n",
       "</style>\n",
       "<table border=\"1\" class=\"dataframe\">\n",
       "  <thead>\n",
       "    <tr style=\"text-align: right;\">\n",
       "      <th></th>\n",
       "      <th>QuestionUserId</th>\n",
       "      <th>QuestionCreateDate</th>\n",
       "      <th>QuestionScore</th>\n",
       "      <th>QuestionTitle</th>\n",
       "      <th>QuestionBody</th>\n",
       "      <th>HasError</th>\n",
       "      <th>HasTraceback</th>\n",
       "    </tr>\n",
       "    <tr>\n",
       "      <th>Id</th>\n",
       "      <th></th>\n",
       "      <th></th>\n",
       "      <th></th>\n",
       "      <th></th>\n",
       "      <th></th>\n",
       "      <th></th>\n",
       "      <th></th>\n",
       "    </tr>\n",
       "  </thead>\n",
       "  <tbody>\n",
       "    <tr>\n",
       "      <th>469</th>\n",
       "      <td>147.0</td>\n",
       "      <td>2008-08-02T15:11:16Z</td>\n",
       "      <td>21</td>\n",
       "      <td>How can I find the full path to a font from it...</td>\n",
       "      <td>&lt;p&gt;I am using the Photoshop's javascript API t...</td>\n",
       "      <td>False</td>\n",
       "      <td>False</td>\n",
       "    </tr>\n",
       "  </tbody>\n",
       "</table>\n",
       "</div>"
      ],
      "text/plain": [
       "     QuestionUserId    QuestionCreateDate  QuestionScore  \\\n",
       "Id                                                         \n",
       "469           147.0  2008-08-02T15:11:16Z             21   \n",
       "\n",
       "                                         QuestionTitle  \\\n",
       "Id                                                       \n",
       "469  How can I find the full path to a font from it...   \n",
       "\n",
       "                                          QuestionBody  HasError  HasTraceback  \n",
       "Id                                                                              \n",
       "469  <p>I am using the Photoshop's javascript API t...     False         False  "
      ]
     },
     "execution_count": 65,
     "metadata": {},
     "output_type": "execute_result"
    }
   ],
   "source": [
    "Questions[:1]"
   ]
  },
  {
   "cell_type": "code",
   "execution_count": 67,
   "metadata": {
    "collapsed": true
   },
   "outputs": [
    {
     "name": "stderr",
     "output_type": "stream",
     "text": [
      "ERROR:root:Internal Python error in the inspect module.\n",
      "Below is the traceback from this internal error.\n",
      "\n",
      "Process ForkPoolWorker-29:\n",
      "Process ForkPoolWorker-26:\n",
      "Process ForkPoolWorker-27:\n",
      "Process ForkPoolWorker-28:\n",
      "Process ForkPoolWorker-25:\n",
      "Process ForkPoolWorker-30:\n",
      "Process ForkPoolWorker-32:\n",
      "Process ForkPoolWorker-31:\n",
      "Traceback (most recent call last):\n",
      "  File \"/Users/captain/anaconda3/lib/python3.6/multiprocessing/process.py\", line 249, in _bootstrap\n",
      "    self.run()\n",
      "  File \"/Users/captain/anaconda3/lib/python3.6/multiprocessing/process.py\", line 93, in run\n",
      "    self._target(*self._args, **self._kwargs)\n",
      "Traceback (most recent call last):\n",
      "Traceback (most recent call last):\n",
      "Traceback (most recent call last):\n",
      "  File \"/Users/captain/anaconda3/lib/python3.6/multiprocessing/pool.py\", line 119, in worker\n",
      "    result = (True, func(*args, **kwds))\n",
      "Traceback (most recent call last):\n",
      "  File \"/Users/captain/anaconda3/lib/python3.6/multiprocessing/process.py\", line 249, in _bootstrap\n",
      "    self.run()\n",
      "  File \"/Users/captain/anaconda3/lib/python3.6/multiprocessing/process.py\", line 249, in _bootstrap\n",
      "    self.run()\n",
      "  File \"/Users/captain/anaconda3/lib/python3.6/multiprocessing/process.py\", line 249, in _bootstrap\n",
      "    self.run()\n",
      "  File \"/Users/captain/anaconda3/lib/python3.6/multiprocessing/process.py\", line 93, in run\n",
      "    self._target(*self._args, **self._kwargs)\n",
      "  File \"/Users/captain/anaconda3/lib/python3.6/multiprocessing/process.py\", line 93, in run\n",
      "    self._target(*self._args, **self._kwargs)\n",
      "  File \"/Users/captain/anaconda3/lib/python3.6/multiprocessing/process.py\", line 93, in run\n",
      "    self._target(*self._args, **self._kwargs)\n",
      "  File \"/Users/captain/anaconda3/lib/python3.6/multiprocessing/process.py\", line 249, in _bootstrap\n",
      "    self.run()\n",
      "  File \"<ipython-input-67-f836d262599d>\", line 6, in cond_tokenize\n",
      "    return [lem.lemmatize(w.lower()) for w in word_tokenize(t)]\n",
      "  File \"/Users/captain/anaconda3/lib/python3.6/multiprocessing/process.py\", line 93, in run\n",
      "    self._target(*self._args, **self._kwargs)\n",
      "  File \"/Users/captain/anaconda3/lib/python3.6/multiprocessing/pool.py\", line 119, in worker\n",
      "    result = (True, func(*args, **kwds))\n",
      "  File \"/Users/captain/anaconda3/lib/python3.6/multiprocessing/pool.py\", line 119, in worker\n",
      "    result = (True, func(*args, **kwds))\n",
      "  File \"/Users/captain/anaconda3/lib/python3.6/multiprocessing/pool.py\", line 119, in worker\n",
      "    result = (True, func(*args, **kwds))\n",
      "  File \"<ipython-input-67-f836d262599d>\", line 6, in cond_tokenize\n",
      "    return [lem.lemmatize(w.lower()) for w in word_tokenize(t)]\n",
      "  File \"/Users/captain/anaconda3/lib/python3.6/multiprocessing/pool.py\", line 119, in worker\n",
      "    result = (True, func(*args, **kwds))\n",
      "  File \"<ipython-input-67-f836d262599d>\", line 6, in <listcomp>\n",
      "    return [lem.lemmatize(w.lower()) for w in word_tokenize(t)]\n",
      "  File \"<ipython-input-67-f836d262599d>\", line 6, in cond_tokenize\n",
      "    return [lem.lemmatize(w.lower()) for w in word_tokenize(t)]\n",
      "  File \"<ipython-input-67-f836d262599d>\", line 6, in cond_tokenize\n",
      "    return [lem.lemmatize(w.lower()) for w in word_tokenize(t)]\n",
      "  File \"/Users/captain/anaconda3/lib/python3.6/site-packages/nltk/stem/wordnet.py\", line 40, in lemmatize\n",
      "    lemmas = wordnet._morphy(word, pos)\n",
      "  File \"/Users/captain/anaconda3/lib/python3.6/site-packages/nltk/corpus/util.py\", line 116, in __getattr__\n",
      "    self.__load()\n",
      "  File \"<ipython-input-67-f836d262599d>\", line 6, in cond_tokenize\n",
      "    return [lem.lemmatize(w.lower()) for w in word_tokenize(t)]\n",
      "  File \"<ipython-input-67-f836d262599d>\", line 6, in <listcomp>\n",
      "    return [lem.lemmatize(w.lower()) for w in word_tokenize(t)]\n",
      "  File \"<ipython-input-67-f836d262599d>\", line 6, in <listcomp>\n",
      "    return [lem.lemmatize(w.lower()) for w in word_tokenize(t)]\n",
      "  File \"/Users/captain/anaconda3/lib/python3.6/site-packages/nltk/corpus/util.py\", line 84, in __load\n",
      "    corpus = self.__reader_cls(root, *self.__args, **self.__kwargs)\n",
      "  File \"<ipython-input-67-f836d262599d>\", line 6, in <listcomp>\n",
      "    return [lem.lemmatize(w.lower()) for w in word_tokenize(t)]\n",
      "  File \"/Users/captain/anaconda3/lib/python3.6/site-packages/nltk/corpus/reader/wordnet.py\", line 1113, in __init__\n",
      "    self._load_lemma_pos_offset_map()\n",
      "  File \"/Users/captain/anaconda3/lib/python3.6/site-packages/nltk/stem/wordnet.py\", line 40, in lemmatize\n",
      "    lemmas = wordnet._morphy(word, pos)\n",
      "  File \"/Users/captain/anaconda3/lib/python3.6/site-packages/nltk/corpus/reader/wordnet.py\", line 1163, in _load_lemma_pos_offset_map\n",
      "    _iter = iter(line.split())\n",
      "  File \"/Users/captain/anaconda3/lib/python3.6/site-packages/nltk/stem/wordnet.py\", line 40, in lemmatize\n",
      "    lemmas = wordnet._morphy(word, pos)\n",
      "  File \"/Users/captain/anaconda3/lib/python3.6/site-packages/nltk/corpus/util.py\", line 116, in __getattr__\n",
      "    self.__load()\n",
      "KeyboardInterrupt\n",
      "  File \"<ipython-input-67-f836d262599d>\", line 6, in <listcomp>\n",
      "    return [lem.lemmatize(w.lower()) for w in word_tokenize(t)]\n",
      "  File \"/Users/captain/anaconda3/lib/python3.6/site-packages/nltk/stem/wordnet.py\", line 40, in lemmatize\n",
      "    lemmas = wordnet._morphy(word, pos)\n",
      "  File \"/Users/captain/anaconda3/lib/python3.6/site-packages/nltk/corpus/util.py\", line 116, in __getattr__\n",
      "    self.__load()\n",
      "  File \"/Users/captain/anaconda3/lib/python3.6/site-packages/nltk/corpus/util.py\", line 116, in __getattr__\n",
      "    self.__load()\n",
      "  File \"/Users/captain/anaconda3/lib/python3.6/site-packages/nltk/stem/wordnet.py\", line 40, in lemmatize\n",
      "    lemmas = wordnet._morphy(word, pos)\n",
      "  File \"/Users/captain/anaconda3/lib/python3.6/site-packages/nltk/corpus/util.py\", line 84, in __load\n",
      "    corpus = self.__reader_cls(root, *self.__args, **self.__kwargs)\n",
      "  File \"/Users/captain/anaconda3/lib/python3.6/site-packages/nltk/corpus/util.py\", line 84, in __load\n",
      "    corpus = self.__reader_cls(root, *self.__args, **self.__kwargs)\n",
      "  File \"/Users/captain/anaconda3/lib/python3.6/site-packages/nltk/corpus/util.py\", line 84, in __load\n",
      "    corpus = self.__reader_cls(root, *self.__args, **self.__kwargs)\n",
      "  File \"/Users/captain/anaconda3/lib/python3.6/site-packages/nltk/corpus/util.py\", line 116, in __getattr__\n",
      "    self.__load()\n",
      "Traceback (most recent call last):\n",
      "  File \"/Users/captain/anaconda3/lib/python3.6/site-packages/nltk/corpus/reader/wordnet.py\", line 1113, in __init__\n",
      "    self._load_lemma_pos_offset_map()\n",
      "  File \"/Users/captain/anaconda3/lib/python3.6/site-packages/nltk/corpus/reader/wordnet.py\", line 1113, in __init__\n",
      "    self._load_lemma_pos_offset_map()\n",
      "  File \"/Users/captain/anaconda3/lib/python3.6/site-packages/nltk/corpus/util.py\", line 84, in __load\n",
      "    corpus = self.__reader_cls(root, *self.__args, **self.__kwargs)\n",
      "  File \"/Users/captain/anaconda3/lib/python3.6/multiprocessing/process.py\", line 249, in _bootstrap\n",
      "    self.run()\n",
      "  File \"/Users/captain/anaconda3/lib/python3.6/site-packages/nltk/corpus/reader/wordnet.py\", line 1163, in _load_lemma_pos_offset_map\n",
      "    _iter = iter(line.split())\n",
      "  File \"/Users/captain/anaconda3/lib/python3.6/site-packages/nltk/corpus/reader/wordnet.py\", line 1163, in _load_lemma_pos_offset_map\n",
      "    _iter = iter(line.split())\n",
      "  File \"/Users/captain/anaconda3/lib/python3.6/site-packages/nltk/corpus/reader/wordnet.py\", line 1113, in __init__\n",
      "    self._load_lemma_pos_offset_map()\n",
      "  File \"/Users/captain/anaconda3/lib/python3.6/site-packages/nltk/corpus/reader/wordnet.py\", line 1113, in __init__\n",
      "    self._load_lemma_pos_offset_map()\n",
      "  File \"/Users/captain/anaconda3/lib/python3.6/site-packages/nltk/corpus/reader/wordnet.py\", line 1163, in _load_lemma_pos_offset_map\n",
      "    _iter = iter(line.split())\n",
      "KeyboardInterrupt\n",
      "  File \"/Users/captain/anaconda3/lib/python3.6/multiprocessing/process.py\", line 93, in run\n",
      "    self._target(*self._args, **self._kwargs)\n",
      "  File \"/Users/captain/anaconda3/lib/python3.6/site-packages/nltk/corpus/reader/wordnet.py\", line 1159, in _load_lemma_pos_offset_map\n",
      "    for i, line in enumerate(self.open('index.%s' % suffix)):\n",
      "KeyboardInterrupt\n",
      "KeyboardInterrupt\n",
      "  File \"/Users/captain/anaconda3/lib/python3.6/multiprocessing/pool.py\", line 119, in worker\n",
      "    result = (True, func(*args, **kwds))\n",
      "  File \"/Users/captain/anaconda3/lib/python3.6/site-packages/nltk/data.py\", line 1221, in __next__\n",
      "    return self.next()\n",
      "  File \"<ipython-input-67-f836d262599d>\", line 6, in cond_tokenize\n",
      "    return [lem.lemmatize(w.lower()) for w in word_tokenize(t)]\n",
      "  File \"<ipython-input-67-f836d262599d>\", line 6, in <listcomp>\n",
      "    return [lem.lemmatize(w.lower()) for w in word_tokenize(t)]\n",
      "  File \"/Users/captain/anaconda3/lib/python3.6/site-packages/nltk/data.py\", line 1214, in next\n",
      "    line = self.readline()\n",
      "Traceback (most recent call last):\n",
      "Traceback (most recent call last):\n",
      "  File \"/Users/captain/anaconda3/lib/python3.6/site-packages/nltk/data.py\", line 1179, in readline\n",
      "    self.linebuffer = lines[1:]\n",
      "  File \"/Users/captain/anaconda3/lib/python3.6/multiprocessing/process.py\", line 249, in _bootstrap\n",
      "    self.run()\n",
      "  File \"/Users/captain/anaconda3/lib/python3.6/multiprocessing/process.py\", line 249, in _bootstrap\n",
      "    self.run()\n",
      "  File \"/Users/captain/anaconda3/lib/python3.6/site-packages/nltk/stem/wordnet.py\", line 40, in lemmatize\n",
      "    lemmas = wordnet._morphy(word, pos)\n",
      "  File \"/Users/captain/anaconda3/lib/python3.6/site-packages/nltk/corpus/util.py\", line 116, in __getattr__\n",
      "    self.__load()\n",
      "  File \"/Users/captain/anaconda3/lib/python3.6/multiprocessing/process.py\", line 93, in run\n",
      "    self._target(*self._args, **self._kwargs)\n",
      "  File \"/Users/captain/anaconda3/lib/python3.6/multiprocessing/process.py\", line 93, in run\n",
      "    self._target(*self._args, **self._kwargs)\n",
      "  File \"/Users/captain/anaconda3/lib/python3.6/site-packages/nltk/corpus/util.py\", line 84, in __load\n",
      "    corpus = self.__reader_cls(root, *self.__args, **self.__kwargs)\n",
      "  File \"/Users/captain/anaconda3/lib/python3.6/multiprocessing/pool.py\", line 119, in worker\n",
      "    result = (True, func(*args, **kwds))\n",
      "  File \"/Users/captain/anaconda3/lib/python3.6/multiprocessing/pool.py\", line 119, in worker\n",
      "    result = (True, func(*args, **kwds))\n",
      "  File \"<ipython-input-67-f836d262599d>\", line 6, in cond_tokenize\n",
      "    return [lem.lemmatize(w.lower()) for w in word_tokenize(t)]\n",
      "  File \"/Users/captain/anaconda3/lib/python3.6/site-packages/nltk/corpus/reader/wordnet.py\", line 1113, in __init__\n",
      "    self._load_lemma_pos_offset_map()\n",
      "KeyboardInterrupt\n",
      "  File \"<ipython-input-67-f836d262599d>\", line 6, in <listcomp>\n",
      "    return [lem.lemmatize(w.lower()) for w in word_tokenize(t)]\n",
      "  File \"<ipython-input-67-f836d262599d>\", line 6, in cond_tokenize\n",
      "    return [lem.lemmatize(w.lower()) for w in word_tokenize(t)]\n",
      "  File \"/Users/captain/anaconda3/lib/python3.6/site-packages/nltk/corpus/reader/wordnet.py\", line 1159, in _load_lemma_pos_offset_map\n",
      "    for i, line in enumerate(self.open('index.%s' % suffix)):\n",
      "  File \"/Users/captain/anaconda3/lib/python3.6/site-packages/nltk/stem/wordnet.py\", line 40, in lemmatize\n",
      "    lemmas = wordnet._morphy(word, pos)\n",
      "  File \"/Users/captain/anaconda3/lib/python3.6/site-packages/nltk/data.py\", line 1221, in __next__\n",
      "    return self.next()\n",
      "  File \"<ipython-input-67-f836d262599d>\", line 6, in <listcomp>\n",
      "    return [lem.lemmatize(w.lower()) for w in word_tokenize(t)]\n",
      "  File \"/Users/captain/anaconda3/lib/python3.6/site-packages/nltk/corpus/util.py\", line 116, in __getattr__\n",
      "    self.__load()\n",
      "  File \"/Users/captain/anaconda3/lib/python3.6/site-packages/nltk/stem/wordnet.py\", line 40, in lemmatize\n",
      "    lemmas = wordnet._morphy(word, pos)\n",
      "  File \"/Users/captain/anaconda3/lib/python3.6/site-packages/nltk/data.py\", line 1214, in next\n",
      "    line = self.readline()\n",
      "  File \"/Users/captain/anaconda3/lib/python3.6/site-packages/nltk/corpus/util.py\", line 116, in __getattr__\n",
      "    self.__load()\n",
      "  File \"/Users/captain/anaconda3/lib/python3.6/site-packages/nltk/corpus/util.py\", line 84, in __load\n",
      "    corpus = self.__reader_cls(root, *self.__args, **self.__kwargs)\n",
      "  File \"/Users/captain/anaconda3/lib/python3.6/site-packages/nltk/data.py\", line 1179, in readline\n",
      "    self.linebuffer = lines[1:]\n",
      "  File \"/Users/captain/anaconda3/lib/python3.6/site-packages/nltk/corpus/reader/wordnet.py\", line 1113, in __init__\n",
      "    self._load_lemma_pos_offset_map()\n",
      "KeyboardInterrupt\n",
      "  File \"/Users/captain/anaconda3/lib/python3.6/site-packages/nltk/corpus/util.py\", line 84, in __load\n",
      "    corpus = self.__reader_cls(root, *self.__args, **self.__kwargs)\n",
      "  File \"/Users/captain/anaconda3/lib/python3.6/site-packages/nltk/corpus/reader/wordnet.py\", line 1163, in _load_lemma_pos_offset_map\n",
      "    _iter = iter(line.split())\n",
      "  File \"/Users/captain/anaconda3/lib/python3.6/site-packages/nltk/corpus/reader/wordnet.py\", line 1113, in __init__\n",
      "    self._load_lemma_pos_offset_map()\n",
      "KeyboardInterrupt\n",
      "  File \"/Users/captain/anaconda3/lib/python3.6/site-packages/nltk/corpus/reader/wordnet.py\", line 1163, in _load_lemma_pos_offset_map\n",
      "    _iter = iter(line.split())\n",
      "KeyboardInterrupt\n",
      "\n",
      "KeyboardInterrupt\n",
      "\n"
     ]
    }
   ],
   "source": [
    "lem = WordNetLemmatizer()\n",
    "def cond_tokenize(t):\n",
    "    if t is None:\n",
    "        return []\n",
    "    else:\n",
    "        return [lem.lemmatize(w.lower()) for w in word_tokenize(t)]\n",
    "\n",
    "p = Pool(8)\n",
    "tokens = list(p.imap(cond_tokenize, Questionstext))\n",
    "p.close()"
   ]
  },
  {
   "cell_type": "code",
   "execution_count": null,
   "metadata": {
    "collapsed": true
   },
   "outputs": [],
   "source": [
    "pure_tokens = [\" \".join(sent) for sent in tokens]"
   ]
  },
  {
   "cell_type": "code",
   "execution_count": null,
   "metadata": {},
   "outputs": [],
   "source": [
    "pure_tokens[:2]"
   ]
  },
  {
   "cell_type": "code",
   "execution_count": null,
   "metadata": {
    "collapsed": true
   },
   "outputs": [],
   "source": [
    "vectorizer = TfidfVectorizer(max_features=2000, stop_words='english', ngram_range=[1, 1], sublinear_tf=True)\n",
    "tfidf = vectorizer.fit_transform(pure_tokens)"
   ]
  },
  {
   "cell_type": "code",
   "execution_count": null,
   "metadata": {},
   "outputs": [],
   "source": [
    "idfs = pd.DataFrame([[v, k] for k, v in vectorizer.vocabulary_.items()], columns=['id', 'word']).sort_values('id')\n",
    "idfs['idf'] = vectorizer.idf_\n",
    "idfs.sort_values('idf').head(10)"
   ]
  },
  {
   "cell_type": "code",
   "execution_count": null,
   "metadata": {},
   "outputs": [],
   "source": []
  }
 ],
 "metadata": {
  "kernelspec": {
   "display_name": "Python 3",
   "language": "python",
   "name": "python3"
  },
  "language_info": {
   "codemirror_mode": {
    "name": "ipython",
    "version": 3
   },
   "file_extension": ".py",
   "mimetype": "text/x-python",
   "name": "python",
   "nbconvert_exporter": "python",
   "pygments_lexer": "ipython3",
   "version": "3.6.1"
  }
 },
 "nbformat": 4,
 "nbformat_minor": 2
}
