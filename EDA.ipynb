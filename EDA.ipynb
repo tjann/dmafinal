{
 "cells": [
  {
   "cell_type": "markdown",
   "metadata": {},
   "source": [
    "# Asking and Answering Questions on Stack Overflow\n",
    "Stack Overflow has released official [How do I ask a good question?](https://stackoverflow.com/help/how-to-ask) and [How do I write a good answer?](https://stackoverflow.com/help/how-to-answer) guides.\n",
    "\n",
    "Why do we care about the quality of the questions asked? Where does that put the pedagogical \"There is no such thing as a bad question?\"\n",
    "\n",
    "Although there is an educational aspect to Stack Overflow, at the end of the day, it is a question and answer forum for developers to get and give help. If you are asking for help, you want to maximize your chances of getting it. If you are helping, you want to maximize your chances of being effective at helping. In this context, we could rephrase \"good\" questions to be questions likely to be answered, and \"good\" answers to be answers likely to be accepted.\n",
    "\n",
    "Stack Overflow has the feature that\n",
    "\n",
    "> Sometimes users encounter the following message when posting a question: \n",
    ">> 'This post does not meet our quality standards.'\n",
    "\n",
    ">If you see this message, then your question was automatically blocked by the server. All new questions are subjected to a \"minimum quality\" filter that checks for some basic indicators of a good, complete question. Check to make sure that your question has the following:\n",
    "A clear title.\n",
    "A reasonable explanation of what your question is. Add as much detail as you can.\n",
    "Any background research you've tried but wasn't enough to solve your problem.\n",
    "Correct use of English spelling and grammar to the best of your ability.\n",
    "\n",
    "However, everything they list above is quite subjective. Let's explore what features correlate with the votes and answers for a question."
   ]
  },
  {
   "cell_type": "code",
   "execution_count": 1,
   "metadata": {},
   "outputs": [],
   "source": [
    "import pandas as pd\n",
    "import numpy as np\n",
    "import matplotlib.pyplot as plt\n",
    "%matplotlib inline\n",
    "import nltk\n",
    "from nltk.tokenize import word_tokenize\n",
    "from nltk.corpus import stopwords\n",
    "from nltk.stem import WordNetLemmatizer\n",
    "import re"
   ]
  },
  {
   "cell_type": "markdown",
   "metadata": {},
   "source": [
    "Let's read in the processed data by Text\\ Processing.ipynb"
   ]
  },
  {
   "cell_type": "code",
   "execution_count": 87,
   "metadata": {},
   "outputs": [],
   "source": [
    "Questions = pd.read_csv('LemmatizedQuestions.csv', encoding=\"ISO-8859-1\")\n",
    "Answers = pd.read_csv('LemmatizedAnswers.csv', encoding=\"ISO-8859-1\")\n",
    "Tags = pd.read_csv('pythonquestions/Tags.csv', encoding=\"ISO-8859-1\")\n",
    "Tags.columns = ['TID', 'Tag']"
   ]
  },
  {
   "cell_type": "code",
   "execution_count": 88,
   "metadata": {},
   "outputs": [
    {
     "name": "stdout",
     "output_type": "stream",
     "text": [
      "(607282, 8)\n"
     ]
    },
    {
     "data": {
      "text/html": [
       "<div>\n",
       "<style scoped>\n",
       "    .dataframe tbody tr th:only-of-type {\n",
       "        vertical-align: middle;\n",
       "    }\n",
       "\n",
       "    .dataframe tbody tr th {\n",
       "        vertical-align: top;\n",
       "    }\n",
       "\n",
       "    .dataframe thead th {\n",
       "        text-align: right;\n",
       "    }\n",
       "</style>\n",
       "<table border=\"1\" class=\"dataframe\">\n",
       "  <thead>\n",
       "    <tr style=\"text-align: right;\">\n",
       "      <th></th>\n",
       "      <th>QID</th>\n",
       "      <th>QuestionUserId</th>\n",
       "      <th>QuestionCreateDate</th>\n",
       "      <th>QuestionScore</th>\n",
       "      <th>QuestionTitle</th>\n",
       "      <th>QuestionBody</th>\n",
       "      <th>QuestionTitleAndBody</th>\n",
       "      <th>QuestionTitleAndBodyLemmatized</th>\n",
       "    </tr>\n",
       "  </thead>\n",
       "  <tbody>\n",
       "    <tr>\n",
       "      <th>0</th>\n",
       "      <td>469</td>\n",
       "      <td>147.0</td>\n",
       "      <td>2008-08-02T15:11:16Z</td>\n",
       "      <td>21</td>\n",
       "      <td>How can I find the full path to a font from it...</td>\n",
       "      <td>&lt;p&gt;I am using the Photoshop's javascript API t...</td>\n",
       "      <td>How can I find the full path to a font from it...</td>\n",
       "      <td>['How', 'can', 'I', 'find', 'the', 'full', 'pa...</td>\n",
       "    </tr>\n",
       "    <tr>\n",
       "      <th>1</th>\n",
       "      <td>502</td>\n",
       "      <td>147.0</td>\n",
       "      <td>2008-08-02T17:01:58Z</td>\n",
       "      <td>27</td>\n",
       "      <td>Get a preview JPEG of a PDF on Windows?</td>\n",
       "      <td>&lt;p&gt;I have a cross-platform (Python) applicatio...</td>\n",
       "      <td>Get a preview JPEG of a PDF on Windows? &lt;p&gt;I h...</td>\n",
       "      <td>['Get', 'a', 'preview', 'JPEG', 'of', 'a', 'PD...</td>\n",
       "    </tr>\n",
       "    <tr>\n",
       "      <th>2</th>\n",
       "      <td>535</td>\n",
       "      <td>154.0</td>\n",
       "      <td>2008-08-02T18:43:54Z</td>\n",
       "      <td>40</td>\n",
       "      <td>Continuous Integration System for a Python Cod...</td>\n",
       "      <td>&lt;p&gt;I'm starting work on a hobby project with a...</td>\n",
       "      <td>Continuous Integration System for a Python Cod...</td>\n",
       "      <td>['Continuous', 'Integration', 'System', 'for',...</td>\n",
       "    </tr>\n",
       "    <tr>\n",
       "      <th>3</th>\n",
       "      <td>594</td>\n",
       "      <td>116.0</td>\n",
       "      <td>2008-08-03T01:15:08Z</td>\n",
       "      <td>25</td>\n",
       "      <td>cx_Oracle: How do I iterate over a result set?</td>\n",
       "      <td>&lt;p&gt;There are several ways to iterate over a re...</td>\n",
       "      <td>cx_Oracle: How do I iterate over a result set?...</td>\n",
       "      <td>['cx_Oracle', ':', 'How', 'do', 'I', 'iterate'...</td>\n",
       "    </tr>\n",
       "    <tr>\n",
       "      <th>4</th>\n",
       "      <td>683</td>\n",
       "      <td>199.0</td>\n",
       "      <td>2008-08-03T13:19:16Z</td>\n",
       "      <td>28</td>\n",
       "      <td>Using 'in' to match an attribute of Python obj...</td>\n",
       "      <td>&lt;p&gt;I don't remember whether I was dreaming or ...</td>\n",
       "      <td>Using 'in' to match an attribute of Python obj...</td>\n",
       "      <td>['Using', \"'in\", \"'\", 'to', 'match', 'an', 'at...</td>\n",
       "    </tr>\n",
       "  </tbody>\n",
       "</table>\n",
       "</div>"
      ],
      "text/plain": [
       "   QID  QuestionUserId    QuestionCreateDate  QuestionScore  \\\n",
       "0  469           147.0  2008-08-02T15:11:16Z             21   \n",
       "1  502           147.0  2008-08-02T17:01:58Z             27   \n",
       "2  535           154.0  2008-08-02T18:43:54Z             40   \n",
       "3  594           116.0  2008-08-03T01:15:08Z             25   \n",
       "4  683           199.0  2008-08-03T13:19:16Z             28   \n",
       "\n",
       "                                       QuestionTitle  \\\n",
       "0  How can I find the full path to a font from it...   \n",
       "1            Get a preview JPEG of a PDF on Windows?   \n",
       "2  Continuous Integration System for a Python Cod...   \n",
       "3     cx_Oracle: How do I iterate over a result set?   \n",
       "4  Using 'in' to match an attribute of Python obj...   \n",
       "\n",
       "                                        QuestionBody  \\\n",
       "0  <p>I am using the Photoshop's javascript API t...   \n",
       "1  <p>I have a cross-platform (Python) applicatio...   \n",
       "2  <p>I'm starting work on a hobby project with a...   \n",
       "3  <p>There are several ways to iterate over a re...   \n",
       "4  <p>I don't remember whether I was dreaming or ...   \n",
       "\n",
       "                                QuestionTitleAndBody  \\\n",
       "0  How can I find the full path to a font from it...   \n",
       "1  Get a preview JPEG of a PDF on Windows? <p>I h...   \n",
       "2  Continuous Integration System for a Python Cod...   \n",
       "3  cx_Oracle: How do I iterate over a result set?...   \n",
       "4  Using 'in' to match an attribute of Python obj...   \n",
       "\n",
       "                      QuestionTitleAndBodyLemmatized  \n",
       "0  ['How', 'can', 'I', 'find', 'the', 'full', 'pa...  \n",
       "1  ['Get', 'a', 'preview', 'JPEG', 'of', 'a', 'PD...  \n",
       "2  ['Continuous', 'Integration', 'System', 'for',...  \n",
       "3  ['cx_Oracle', ':', 'How', 'do', 'I', 'iterate'...  \n",
       "4  ['Using', \"'in\", \"'\", 'to', 'match', 'an', 'at...  "
      ]
     },
     "execution_count": 88,
     "metadata": {},
     "output_type": "execute_result"
    }
   ],
   "source": [
    "print(Questions.shape)\n",
    "Questions.head()"
   ]
  },
  {
   "cell_type": "code",
   "execution_count": 89,
   "metadata": {},
   "outputs": [
    {
     "name": "stdout",
     "output_type": "stream",
     "text": [
      "(987122, 7)\n"
     ]
    },
    {
     "data": {
      "text/html": [
       "<div>\n",
       "<style scoped>\n",
       "    .dataframe tbody tr th:only-of-type {\n",
       "        vertical-align: middle;\n",
       "    }\n",
       "\n",
       "    .dataframe tbody tr th {\n",
       "        vertical-align: top;\n",
       "    }\n",
       "\n",
       "    .dataframe thead th {\n",
       "        text-align: right;\n",
       "    }\n",
       "</style>\n",
       "<table border=\"1\" class=\"dataframe\">\n",
       "  <thead>\n",
       "    <tr style=\"text-align: right;\">\n",
       "      <th></th>\n",
       "      <th>AID</th>\n",
       "      <th>AnswerUserId</th>\n",
       "      <th>AnswerCreateDate</th>\n",
       "      <th>ParentId</th>\n",
       "      <th>AnswerScore</th>\n",
       "      <th>AnswerBody</th>\n",
       "      <th>AnswerBodyLemmatized</th>\n",
       "    </tr>\n",
       "  </thead>\n",
       "  <tbody>\n",
       "    <tr>\n",
       "      <th>0</th>\n",
       "      <td>497</td>\n",
       "      <td>50.0</td>\n",
       "      <td>2008-08-02T16:56:53Z</td>\n",
       "      <td>469</td>\n",
       "      <td>4</td>\n",
       "      <td>&lt;p&gt;open up a terminal (Applications-&amp;gt;Utilit...</td>\n",
       "      <td>['open', 'up', 'a', 'terminal', '(', 'Applicat...</td>\n",
       "    </tr>\n",
       "    <tr>\n",
       "      <th>1</th>\n",
       "      <td>518</td>\n",
       "      <td>153.0</td>\n",
       "      <td>2008-08-02T17:42:28Z</td>\n",
       "      <td>469</td>\n",
       "      <td>2</td>\n",
       "      <td>&lt;p&gt;I haven't been able to find anything that d...</td>\n",
       "      <td>['I', 'have', \"n't\", 'been', 'able', 'to', 'fi...</td>\n",
       "    </tr>\n",
       "    <tr>\n",
       "      <th>2</th>\n",
       "      <td>536</td>\n",
       "      <td>161.0</td>\n",
       "      <td>2008-08-02T18:49:07Z</td>\n",
       "      <td>502</td>\n",
       "      <td>9</td>\n",
       "      <td>&lt;p&gt;You can use ImageMagick's convert utility f...</td>\n",
       "      <td>['You', 'can', 'use', 'ImageMagick', \"'s\", 'co...</td>\n",
       "    </tr>\n",
       "    <tr>\n",
       "      <th>3</th>\n",
       "      <td>538</td>\n",
       "      <td>156.0</td>\n",
       "      <td>2008-08-02T18:56:56Z</td>\n",
       "      <td>535</td>\n",
       "      <td>23</td>\n",
       "      <td>&lt;p&gt;One possibility is Hudson.  It's written in...</td>\n",
       "      <td>['One', 'possibility', 'is', 'Hudson', '.', 'I...</td>\n",
       "    </tr>\n",
       "    <tr>\n",
       "      <th>4</th>\n",
       "      <td>541</td>\n",
       "      <td>157.0</td>\n",
       "      <td>2008-08-02T19:06:40Z</td>\n",
       "      <td>535</td>\n",
       "      <td>20</td>\n",
       "      <td>&lt;p&gt;We run &lt;a href=\"http://buildbot.net/trac\"&gt;B...</td>\n",
       "      <td>['We', 'run', 'Buildbot', '-', 'Trac', 'at', '...</td>\n",
       "    </tr>\n",
       "  </tbody>\n",
       "</table>\n",
       "</div>"
      ],
      "text/plain": [
       "   AID  AnswerUserId      AnswerCreateDate  ParentId  AnswerScore  \\\n",
       "0  497          50.0  2008-08-02T16:56:53Z       469            4   \n",
       "1  518         153.0  2008-08-02T17:42:28Z       469            2   \n",
       "2  536         161.0  2008-08-02T18:49:07Z       502            9   \n",
       "3  538         156.0  2008-08-02T18:56:56Z       535           23   \n",
       "4  541         157.0  2008-08-02T19:06:40Z       535           20   \n",
       "\n",
       "                                          AnswerBody  \\\n",
       "0  <p>open up a terminal (Applications-&gt;Utilit...   \n",
       "1  <p>I haven't been able to find anything that d...   \n",
       "2  <p>You can use ImageMagick's convert utility f...   \n",
       "3  <p>One possibility is Hudson.  It's written in...   \n",
       "4  <p>We run <a href=\"http://buildbot.net/trac\">B...   \n",
       "\n",
       "                                AnswerBodyLemmatized  \n",
       "0  ['open', 'up', 'a', 'terminal', '(', 'Applicat...  \n",
       "1  ['I', 'have', \"n't\", 'been', 'able', 'to', 'fi...  \n",
       "2  ['You', 'can', 'use', 'ImageMagick', \"'s\", 'co...  \n",
       "3  ['One', 'possibility', 'is', 'Hudson', '.', 'I...  \n",
       "4  ['We', 'run', 'Buildbot', '-', 'Trac', 'at', '...  "
      ]
     },
     "execution_count": 89,
     "metadata": {},
     "output_type": "execute_result"
    }
   ],
   "source": [
    "print(Answers.shape)\n",
    "Answers.head()"
   ]
  },
  {
   "cell_type": "code",
   "execution_count": 90,
   "metadata": {},
   "outputs": [
    {
     "name": "stdout",
     "output_type": "stream",
     "text": [
      "(1885078, 2)\n"
     ]
    },
    {
     "data": {
      "text/html": [
       "<div>\n",
       "<style scoped>\n",
       "    .dataframe tbody tr th:only-of-type {\n",
       "        vertical-align: middle;\n",
       "    }\n",
       "\n",
       "    .dataframe tbody tr th {\n",
       "        vertical-align: top;\n",
       "    }\n",
       "\n",
       "    .dataframe thead th {\n",
       "        text-align: right;\n",
       "    }\n",
       "</style>\n",
       "<table border=\"1\" class=\"dataframe\">\n",
       "  <thead>\n",
       "    <tr style=\"text-align: right;\">\n",
       "      <th></th>\n",
       "      <th>Id</th>\n",
       "      <th>Tag</th>\n",
       "    </tr>\n",
       "  </thead>\n",
       "  <tbody>\n",
       "    <tr>\n",
       "      <th>0</th>\n",
       "      <td>469</td>\n",
       "      <td>python</td>\n",
       "    </tr>\n",
       "    <tr>\n",
       "      <th>1</th>\n",
       "      <td>469</td>\n",
       "      <td>osx</td>\n",
       "    </tr>\n",
       "    <tr>\n",
       "      <th>2</th>\n",
       "      <td>469</td>\n",
       "      <td>fonts</td>\n",
       "    </tr>\n",
       "    <tr>\n",
       "      <th>3</th>\n",
       "      <td>469</td>\n",
       "      <td>photoshop</td>\n",
       "    </tr>\n",
       "    <tr>\n",
       "      <th>4</th>\n",
       "      <td>502</td>\n",
       "      <td>python</td>\n",
       "    </tr>\n",
       "  </tbody>\n",
       "</table>\n",
       "</div>"
      ],
      "text/plain": [
       "    Id        Tag\n",
       "0  469     python\n",
       "1  469        osx\n",
       "2  469      fonts\n",
       "3  469  photoshop\n",
       "4  502     python"
      ]
     },
     "execution_count": 90,
     "metadata": {},
     "output_type": "execute_result"
    }
   ],
   "source": [
    "print(Tags.shape)\n",
    "Tags.head()"
   ]
  },
  {
   "cell_type": "code",
   "execution_count": 91,
   "metadata": {},
   "outputs": [
    {
     "name": "stdout",
     "output_type": "stream",
     "text": [
      "QID                                  0\n",
      "QuestionUserId                    6212\n",
      "QuestionCreateDate                   0\n",
      "QuestionScore                        0\n",
      "QuestionTitle                        0\n",
      "QuestionBody                         0\n",
      "QuestionTitleAndBody                 0\n",
      "QuestionTitleAndBodyLemmatized       0\n",
      "dtype: int64\n",
      "AID                        0\n",
      "AnswerUserId            5367\n",
      "AnswerCreateDate           0\n",
      "ParentId                   0\n",
      "AnswerScore                0\n",
      "AnswerBody                 0\n",
      "AnswerBodyLemmatized       0\n",
      "dtype: int64\n",
      "Id       0\n",
      "Tag    443\n",
      "dtype: int64\n"
     ]
    }
   ],
   "source": [
    "print(Questions.isnull().sum())\n",
    "print(Answers.isnull().sum())\n",
    "print(Tags.isnull().sum())"
   ]
  },
  {
   "cell_type": "markdown",
   "metadata": {},
   "source": [
    "Looks like this data is pretty clean. The only nulls are for users (probably users that have deleted their accounts since posting), and tags (since these are optional)."
   ]
  },
  {
   "cell_type": "markdown",
   "metadata": {},
   "source": [
    "### Question 1: How many users are engaged on Q, A, & Q&A?"
   ]
  },
  {
   "cell_type": "code",
   "execution_count": 92,
   "metadata": {},
   "outputs": [],
   "source": [
    "User_id_inQ = Questions['QuestionUserId'].unique()\n",
    "User_id_inA = Answers['AnswerUserId'].unique()\n",
    "User_id_inBoth=set(User_id_inQ).intersection(User_id_inA)"
   ]
  },
  {
   "cell_type": "code",
   "execution_count": 93,
   "metadata": {},
   "outputs": [
    {
     "name": "stdout",
     "output_type": "stream",
     "text": [
      "213928 users posting questions\n",
      "149177 users posting answers\n",
      "63779 users posting both\n"
     ]
    }
   ],
   "source": [
    "print(str(len(User_id_inQ)) + ' users posting questions')\n",
    "print(str(len(User_id_inA)) + ' users posting answers')\n",
    "print(str(len(User_id_inBoth)) + ' users posting both')"
   ]
  },
  {
   "cell_type": "code",
   "execution_count": 94,
   "metadata": {},
   "outputs": [],
   "source": [
    "# reduce memory and computation\n",
    "# selected_ids = np.random.choice(range(Questions.shape[0]), 10000, replace=False)\n",
    "# Questions = Questions.loc[selected_ids, :]"
   ]
  },
  {
   "cell_type": "markdown",
   "metadata": {},
   "source": [
    "### Question 2: How many questions contain errors, tracebacks, or code?"
   ]
  },
  {
   "cell_type": "code",
   "execution_count": 96,
   "metadata": {},
   "outputs": [],
   "source": [
    "Questions['HasError'] = Questions['QuestionBody'].str.contains(\"[A-Z][a-z]+Error:\\s\")"
   ]
  },
  {
   "cell_type": "markdown",
   "metadata": {},
   "source": [
    "The following is to see what happens as I build up the regex to what Python error messages are formatted as:"
   ]
  },
  {
   "cell_type": "code",
   "execution_count": 97,
   "metadata": {},
   "outputs": [
    {
     "name": "stdout",
     "output_type": "stream",
     "text": [
      "118516 96055 95190 85601 85481\n"
     ]
    }
   ],
   "source": [
    "print(\n",
    "    Questions['QuestionBody'].str.contains(\"Error\").sum(), \n",
    "    Questions['QuestionBody'].str.contains(\"Error:\").sum(), \n",
    "    Questions['QuestionBody'].str.contains(\"Error:\\s\").sum(), \n",
    "    Questions['QuestionBody'].str.contains(\"[a-z]+Error:\\s\").sum(), \n",
    "    Questions['HasError'].sum()\n",
    ")"
   ]
  },
  {
   "cell_type": "code",
   "execution_count": 98,
   "metadata": {},
   "outputs": [
    {
     "name": "stdout",
     "output_type": "stream",
     "text": [
      "0.14075997641952173 of questions have a full Python-formatted error message\n"
     ]
    }
   ],
   "source": [
    "print(str(Questions['HasError'].sum() / Questions['HasError'].count()) + \" of questions have a full Python-formatted error message\")"
   ]
  },
  {
   "cell_type": "code",
   "execution_count": 99,
   "metadata": {},
   "outputs": [],
   "source": [
    "Questions['HasTraceback'] = Questions['QuestionBody'].str.contains(\"Traceback \\(most recent call last\\):\")"
   ]
  },
  {
   "cell_type": "code",
   "execution_count": 100,
   "metadata": {},
   "outputs": [
    {
     "name": "stdout",
     "output_type": "stream",
     "text": [
      "0.06771977433877506 of questions have a full Python-formatted traceback\n"
     ]
    }
   ],
   "source": [
    "print(str(Questions['HasTraceback'].sum() / Questions['HasTraceback'].count()) + \" of questions have a full Python-formatted traceback\")"
   ]
  },
  {
   "cell_type": "code",
   "execution_count": 101,
   "metadata": {},
   "outputs": [],
   "source": [
    "Questions['HasCodeTag'] = Questions['QuestionBody'].str.contains(\"</code>\")"
   ]
  },
  {
   "cell_type": "code",
   "execution_count": 102,
   "metadata": {},
   "outputs": [
    {
     "name": "stdout",
     "output_type": "stream",
     "text": [
      "0.8603647070059709 of questions have the code tag\n"
     ]
    }
   ],
   "source": [
    "print(str(Questions['HasCodeTag'].sum() / Questions['HasCodeTag'].count()) + \" of questions have the code tag\")"
   ]
  },
  {
   "cell_type": "code",
   "execution_count": 103,
   "metadata": {},
   "outputs": [],
   "source": [
    "Questions['HasMultiLineCode'] = Questions['QuestionBody'].str.contains(\"<code>.*\\n.*</code>\")"
   ]
  },
  {
   "cell_type": "code",
   "execution_count": 104,
   "metadata": {},
   "outputs": [
    {
     "name": "stdout",
     "output_type": "stream",
     "text": [
      "0.23783514084066382 of questions have multi line code\n"
     ]
    }
   ],
   "source": [
    "print(str(Questions['HasMultiLineCode'].sum() / Questions['HasMultiLineCode'].count()) + \" of questions have multi line code\")"
   ]
  },
  {
   "cell_type": "code",
   "execution_count": 105,
   "metadata": {},
   "outputs": [
    {
     "data": {
      "text/html": [
       "<div>\n",
       "<style scoped>\n",
       "    .dataframe tbody tr th:only-of-type {\n",
       "        vertical-align: middle;\n",
       "    }\n",
       "\n",
       "    .dataframe tbody tr th {\n",
       "        vertical-align: top;\n",
       "    }\n",
       "\n",
       "    .dataframe thead th {\n",
       "        text-align: right;\n",
       "    }\n",
       "</style>\n",
       "<table border=\"1\" class=\"dataframe\">\n",
       "  <thead>\n",
       "    <tr style=\"text-align: right;\">\n",
       "      <th></th>\n",
       "      <th>QID</th>\n",
       "      <th>QuestionUserId</th>\n",
       "      <th>QuestionCreateDate</th>\n",
       "      <th>QuestionScore</th>\n",
       "      <th>QuestionTitle</th>\n",
       "      <th>QuestionBody</th>\n",
       "      <th>QuestionTitleAndBody</th>\n",
       "      <th>QuestionTitleAndBodyLemmatized</th>\n",
       "      <th>HasError</th>\n",
       "      <th>HasTraceback</th>\n",
       "      <th>HasCodeTag</th>\n",
       "      <th>HasMultiLineCode</th>\n",
       "    </tr>\n",
       "  </thead>\n",
       "  <tbody>\n",
       "    <tr>\n",
       "      <th>0</th>\n",
       "      <td>469</td>\n",
       "      <td>147.0</td>\n",
       "      <td>2008-08-02T15:11:16Z</td>\n",
       "      <td>21</td>\n",
       "      <td>How can I find the full path to a font from it...</td>\n",
       "      <td>&lt;p&gt;I am using the Photoshop's javascript API t...</td>\n",
       "      <td>How can I find the full path to a font from it...</td>\n",
       "      <td>['How', 'can', 'I', 'find', 'the', 'full', 'pa...</td>\n",
       "      <td>False</td>\n",
       "      <td>False</td>\n",
       "      <td>False</td>\n",
       "      <td>False</td>\n",
       "    </tr>\n",
       "    <tr>\n",
       "      <th>1</th>\n",
       "      <td>502</td>\n",
       "      <td>147.0</td>\n",
       "      <td>2008-08-02T17:01:58Z</td>\n",
       "      <td>27</td>\n",
       "      <td>Get a preview JPEG of a PDF on Windows?</td>\n",
       "      <td>&lt;p&gt;I have a cross-platform (Python) applicatio...</td>\n",
       "      <td>Get a preview JPEG of a PDF on Windows? &lt;p&gt;I h...</td>\n",
       "      <td>['Get', 'a', 'preview', 'JPEG', 'of', 'a', 'PD...</td>\n",
       "      <td>False</td>\n",
       "      <td>False</td>\n",
       "      <td>False</td>\n",
       "      <td>False</td>\n",
       "    </tr>\n",
       "    <tr>\n",
       "      <th>2</th>\n",
       "      <td>535</td>\n",
       "      <td>154.0</td>\n",
       "      <td>2008-08-02T18:43:54Z</td>\n",
       "      <td>40</td>\n",
       "      <td>Continuous Integration System for a Python Cod...</td>\n",
       "      <td>&lt;p&gt;I'm starting work on a hobby project with a...</td>\n",
       "      <td>Continuous Integration System for a Python Cod...</td>\n",
       "      <td>['Continuous', 'Integration', 'System', 'for',...</td>\n",
       "      <td>False</td>\n",
       "      <td>False</td>\n",
       "      <td>False</td>\n",
       "      <td>False</td>\n",
       "    </tr>\n",
       "    <tr>\n",
       "      <th>3</th>\n",
       "      <td>594</td>\n",
       "      <td>116.0</td>\n",
       "      <td>2008-08-03T01:15:08Z</td>\n",
       "      <td>25</td>\n",
       "      <td>cx_Oracle: How do I iterate over a result set?</td>\n",
       "      <td>&lt;p&gt;There are several ways to iterate over a re...</td>\n",
       "      <td>cx_Oracle: How do I iterate over a result set?...</td>\n",
       "      <td>['cx_Oracle', ':', 'How', 'do', 'I', 'iterate'...</td>\n",
       "      <td>False</td>\n",
       "      <td>False</td>\n",
       "      <td>False</td>\n",
       "      <td>False</td>\n",
       "    </tr>\n",
       "    <tr>\n",
       "      <th>4</th>\n",
       "      <td>683</td>\n",
       "      <td>199.0</td>\n",
       "      <td>2008-08-03T13:19:16Z</td>\n",
       "      <td>28</td>\n",
       "      <td>Using 'in' to match an attribute of Python obj...</td>\n",
       "      <td>&lt;p&gt;I don't remember whether I was dreaming or ...</td>\n",
       "      <td>Using 'in' to match an attribute of Python obj...</td>\n",
       "      <td>['Using', \"'in\", \"'\", 'to', 'match', 'an', 'at...</td>\n",
       "      <td>False</td>\n",
       "      <td>False</td>\n",
       "      <td>True</td>\n",
       "      <td>False</td>\n",
       "    </tr>\n",
       "  </tbody>\n",
       "</table>\n",
       "</div>"
      ],
      "text/plain": [
       "   QID  QuestionUserId    QuestionCreateDate  QuestionScore  \\\n",
       "0  469           147.0  2008-08-02T15:11:16Z             21   \n",
       "1  502           147.0  2008-08-02T17:01:58Z             27   \n",
       "2  535           154.0  2008-08-02T18:43:54Z             40   \n",
       "3  594           116.0  2008-08-03T01:15:08Z             25   \n",
       "4  683           199.0  2008-08-03T13:19:16Z             28   \n",
       "\n",
       "                                       QuestionTitle  \\\n",
       "0  How can I find the full path to a font from it...   \n",
       "1            Get a preview JPEG of a PDF on Windows?   \n",
       "2  Continuous Integration System for a Python Cod...   \n",
       "3     cx_Oracle: How do I iterate over a result set?   \n",
       "4  Using 'in' to match an attribute of Python obj...   \n",
       "\n",
       "                                        QuestionBody  \\\n",
       "0  <p>I am using the Photoshop's javascript API t...   \n",
       "1  <p>I have a cross-platform (Python) applicatio...   \n",
       "2  <p>I'm starting work on a hobby project with a...   \n",
       "3  <p>There are several ways to iterate over a re...   \n",
       "4  <p>I don't remember whether I was dreaming or ...   \n",
       "\n",
       "                                QuestionTitleAndBody  \\\n",
       "0  How can I find the full path to a font from it...   \n",
       "1  Get a preview JPEG of a PDF on Windows? <p>I h...   \n",
       "2  Continuous Integration System for a Python Cod...   \n",
       "3  cx_Oracle: How do I iterate over a result set?...   \n",
       "4  Using 'in' to match an attribute of Python obj...   \n",
       "\n",
       "                      QuestionTitleAndBodyLemmatized  HasError  HasTraceback  \\\n",
       "0  ['How', 'can', 'I', 'find', 'the', 'full', 'pa...     False         False   \n",
       "1  ['Get', 'a', 'preview', 'JPEG', 'of', 'a', 'PD...     False         False   \n",
       "2  ['Continuous', 'Integration', 'System', 'for',...     False         False   \n",
       "3  ['cx_Oracle', ':', 'How', 'do', 'I', 'iterate'...     False         False   \n",
       "4  ['Using', \"'in\", \"'\", 'to', 'match', 'an', 'at...     False         False   \n",
       "\n",
       "   HasCodeTag  HasMultiLineCode  \n",
       "0       False             False  \n",
       "1       False             False  \n",
       "2       False             False  \n",
       "3       False             False  \n",
       "4        True             False  "
      ]
     },
     "execution_count": 105,
     "metadata": {},
     "output_type": "execute_result"
    }
   ],
   "source": [
    "Questions.head()"
   ]
  },
  {
   "cell_type": "markdown",
   "metadata": {},
   "source": [
    "### Overall number of votes per question"
   ]
  },
  {
   "cell_type": "code",
   "execution_count": 106,
   "metadata": {},
   "outputs": [
    {
     "name": "stdout",
     "output_type": "stream",
     "text": [
      "total average votes 2.2831369940159596\n"
     ]
    }
   ],
   "source": [
    "total_average_votes = Questions['QuestionScore'].sum() / len(Questions['QuestionScore'])\n",
    "print('total average votes ' + str(total_average_votes))"
   ]
  },
  {
   "cell_type": "markdown",
   "metadata": {},
   "source": [
    "### Question 3: Do questions with errors have more or less votes?"
   ]
  },
  {
   "cell_type": "code",
   "execution_count": 107,
   "metadata": {},
   "outputs": [
    {
     "name": "stdout",
     "output_type": "stream",
     "text": [
      "error average votes 1.7215053637650473\n",
      "only error average votes 1.6573415912339209\n"
     ]
    }
   ],
   "source": [
    "QuestionsWithError = Questions[Questions['HasError']]\n",
    "hasError_average_votes = QuestionsWithError['QuestionScore'].sum() / len(QuestionsWithError['QuestionScore'])\n",
    "print('error average votes ' + str(hasError_average_votes))\n",
    "QuestionsWithOnlyError = Questions[(Questions['HasError'] & ~Questions['HasTraceback'])]\n",
    "hasOnlyError_average_votes = QuestionsWithOnlyError['QuestionScore'].sum() / len(QuestionsWithOnlyError['QuestionScore'])\n",
    "print('only error average votes ' + str(hasOnlyError_average_votes))"
   ]
  },
  {
   "cell_type": "markdown",
   "metadata": {},
   "source": [
    "### Question 4: Do questions with tracebacks have more or less votes?"
   ]
  },
  {
   "cell_type": "code",
   "execution_count": 108,
   "metadata": {},
   "outputs": [
    {
     "name": "stdout",
     "output_type": "stream",
     "text": [
      "traceback average votes 1.8253617021276596\n",
      "only traceback average votes 1.8328611898016998\n"
     ]
    }
   ],
   "source": [
    "QuestionsWithTraceback = Questions[Questions['HasTraceback']]\n",
    "hasTraceback_average_votes = QuestionsWithTraceback['QuestionScore'].sum() / len(QuestionsWithTraceback['QuestionScore'])\n",
    "print('traceback average votes ' + str(hasTraceback_average_votes))\n",
    "QuestionsWithOnlyTraceback = Questions[(~Questions['HasError'] & Questions['HasTraceback'])]\n",
    "hasOnlyTraceback_average_votes = QuestionsWithOnlyTraceback['QuestionScore'].sum() / len(QuestionsWithOnlyTraceback['QuestionScore'])\n",
    "print('only traceback average votes ' + str(hasOnlyTraceback_average_votes))"
   ]
  },
  {
   "cell_type": "markdown",
   "metadata": {},
   "source": [
    "### Question 5: Do questions with errors and tracebacks have more or less votes?"
   ]
  },
  {
   "cell_type": "code",
   "execution_count": 109,
   "metadata": {},
   "outputs": [],
   "source": [
    "QuestionsWithErrorAndTraceback = Questions[(Questions['HasError'] & Questions['HasTraceback'])]"
   ]
  },
  {
   "cell_type": "code",
   "execution_count": 110,
   "metadata": {},
   "outputs": [
    {
     "name": "stdout",
     "output_type": "stream",
     "text": [
      "error and traceback average votes 1.8235169363146095\n"
     ]
    }
   ],
   "source": [
    "QuestionsWithErrorAndTraceback = QuestionsWithError[QuestionsWithError['HasTraceback']]\n",
    "hasErrorAndTraceback_average_votes = QuestionsWithErrorAndTraceback['QuestionScore'].sum() / len(QuestionsWithErrorAndTraceback['QuestionScore'])\n",
    "print('error and traceback average votes ' + str(hasErrorAndTraceback_average_votes))"
   ]
  },
  {
   "cell_type": "markdown",
   "metadata": {},
   "source": [
    "### Overall average number of answers per question"
   ]
  },
  {
   "cell_type": "code",
   "execution_count": 111,
   "metadata": {},
   "outputs": [
    {
     "data": {
      "text/html": [
       "<div>\n",
       "<style scoped>\n",
       "    .dataframe tbody tr th:only-of-type {\n",
       "        vertical-align: middle;\n",
       "    }\n",
       "\n",
       "    .dataframe tbody tr th {\n",
       "        vertical-align: top;\n",
       "    }\n",
       "\n",
       "    .dataframe thead th {\n",
       "        text-align: right;\n",
       "    }\n",
       "</style>\n",
       "<table border=\"1\" class=\"dataframe\">\n",
       "  <thead>\n",
       "    <tr style=\"text-align: right;\">\n",
       "      <th></th>\n",
       "      <th>QID</th>\n",
       "      <th>QuestionUserId</th>\n",
       "      <th>QuestionCreateDate</th>\n",
       "      <th>QuestionScore</th>\n",
       "      <th>QuestionTitle</th>\n",
       "      <th>QuestionBody</th>\n",
       "      <th>QuestionTitleAndBody</th>\n",
       "      <th>QuestionTitleAndBodyLemmatized</th>\n",
       "      <th>HasError</th>\n",
       "      <th>HasTraceback</th>\n",
       "      <th>HasCodeTag</th>\n",
       "      <th>HasMultiLineCode</th>\n",
       "      <th>AID</th>\n",
       "      <th>AnswerUserId</th>\n",
       "      <th>AnswerCreateDate</th>\n",
       "      <th>ParentId</th>\n",
       "      <th>AnswerScore</th>\n",
       "      <th>AnswerBody</th>\n",
       "      <th>AnswerBodyLemmatized</th>\n",
       "    </tr>\n",
       "  </thead>\n",
       "  <tbody>\n",
       "    <tr>\n",
       "      <th>0</th>\n",
       "      <td>469</td>\n",
       "      <td>147.0</td>\n",
       "      <td>2008-08-02T15:11:16Z</td>\n",
       "      <td>21</td>\n",
       "      <td>How can I find the full path to a font from it...</td>\n",
       "      <td>&lt;p&gt;I am using the Photoshop's javascript API t...</td>\n",
       "      <td>How can I find the full path to a font from it...</td>\n",
       "      <td>['How', 'can', 'I', 'find', 'the', 'full', 'pa...</td>\n",
       "      <td>False</td>\n",
       "      <td>False</td>\n",
       "      <td>False</td>\n",
       "      <td>False</td>\n",
       "      <td>497.0</td>\n",
       "      <td>50.0</td>\n",
       "      <td>2008-08-02T16:56:53Z</td>\n",
       "      <td>469.0</td>\n",
       "      <td>4.0</td>\n",
       "      <td>&lt;p&gt;open up a terminal (Applications-&amp;gt;Utilit...</td>\n",
       "      <td>['open', 'up', 'a', 'terminal', '(', 'Applicat...</td>\n",
       "    </tr>\n",
       "    <tr>\n",
       "      <th>1</th>\n",
       "      <td>469</td>\n",
       "      <td>147.0</td>\n",
       "      <td>2008-08-02T15:11:16Z</td>\n",
       "      <td>21</td>\n",
       "      <td>How can I find the full path to a font from it...</td>\n",
       "      <td>&lt;p&gt;I am using the Photoshop's javascript API t...</td>\n",
       "      <td>How can I find the full path to a font from it...</td>\n",
       "      <td>['How', 'can', 'I', 'find', 'the', 'full', 'pa...</td>\n",
       "      <td>False</td>\n",
       "      <td>False</td>\n",
       "      <td>False</td>\n",
       "      <td>False</td>\n",
       "      <td>518.0</td>\n",
       "      <td>153.0</td>\n",
       "      <td>2008-08-02T17:42:28Z</td>\n",
       "      <td>469.0</td>\n",
       "      <td>2.0</td>\n",
       "      <td>&lt;p&gt;I haven't been able to find anything that d...</td>\n",
       "      <td>['I', 'have', \"n't\", 'been', 'able', 'to', 'fi...</td>\n",
       "    </tr>\n",
       "    <tr>\n",
       "      <th>2</th>\n",
       "      <td>469</td>\n",
       "      <td>147.0</td>\n",
       "      <td>2008-08-02T15:11:16Z</td>\n",
       "      <td>21</td>\n",
       "      <td>How can I find the full path to a font from it...</td>\n",
       "      <td>&lt;p&gt;I am using the Photoshop's javascript API t...</td>\n",
       "      <td>How can I find the full path to a font from it...</td>\n",
       "      <td>['How', 'can', 'I', 'find', 'the', 'full', 'pa...</td>\n",
       "      <td>False</td>\n",
       "      <td>False</td>\n",
       "      <td>False</td>\n",
       "      <td>False</td>\n",
       "      <td>3040.0</td>\n",
       "      <td>457.0</td>\n",
       "      <td>2008-08-06T03:01:23Z</td>\n",
       "      <td>469.0</td>\n",
       "      <td>12.0</td>\n",
       "      <td>&lt;p&gt;Unfortunately the only API that isn't depre...</td>\n",
       "      <td>['Unfortunately', 'the', 'only', 'API', 'that'...</td>\n",
       "    </tr>\n",
       "  </tbody>\n",
       "</table>\n",
       "</div>"
      ],
      "text/plain": [
       "   QID  QuestionUserId    QuestionCreateDate  QuestionScore  \\\n",
       "0  469           147.0  2008-08-02T15:11:16Z             21   \n",
       "1  469           147.0  2008-08-02T15:11:16Z             21   \n",
       "2  469           147.0  2008-08-02T15:11:16Z             21   \n",
       "\n",
       "                                       QuestionTitle  \\\n",
       "0  How can I find the full path to a font from it...   \n",
       "1  How can I find the full path to a font from it...   \n",
       "2  How can I find the full path to a font from it...   \n",
       "\n",
       "                                        QuestionBody  \\\n",
       "0  <p>I am using the Photoshop's javascript API t...   \n",
       "1  <p>I am using the Photoshop's javascript API t...   \n",
       "2  <p>I am using the Photoshop's javascript API t...   \n",
       "\n",
       "                                QuestionTitleAndBody  \\\n",
       "0  How can I find the full path to a font from it...   \n",
       "1  How can I find the full path to a font from it...   \n",
       "2  How can I find the full path to a font from it...   \n",
       "\n",
       "                      QuestionTitleAndBodyLemmatized  HasError  HasTraceback  \\\n",
       "0  ['How', 'can', 'I', 'find', 'the', 'full', 'pa...     False         False   \n",
       "1  ['How', 'can', 'I', 'find', 'the', 'full', 'pa...     False         False   \n",
       "2  ['How', 'can', 'I', 'find', 'the', 'full', 'pa...     False         False   \n",
       "\n",
       "   HasCodeTag  HasMultiLineCode     AID  AnswerUserId      AnswerCreateDate  \\\n",
       "0       False             False   497.0          50.0  2008-08-02T16:56:53Z   \n",
       "1       False             False   518.0         153.0  2008-08-02T17:42:28Z   \n",
       "2       False             False  3040.0         457.0  2008-08-06T03:01:23Z   \n",
       "\n",
       "   ParentId  AnswerScore                                         AnswerBody  \\\n",
       "0     469.0          4.0  <p>open up a terminal (Applications-&gt;Utilit...   \n",
       "1     469.0          2.0  <p>I haven't been able to find anything that d...   \n",
       "2     469.0         12.0  <p>Unfortunately the only API that isn't depre...   \n",
       "\n",
       "                                AnswerBodyLemmatized  \n",
       "0  ['open', 'up', 'a', 'terminal', '(', 'Applicat...  \n",
       "1  ['I', 'have', \"n't\", 'been', 'able', 'to', 'fi...  \n",
       "2  ['Unfortunately', 'the', 'only', 'API', 'that'...  "
      ]
     },
     "execution_count": 111,
     "metadata": {},
     "output_type": "execute_result"
    }
   ],
   "source": [
    "QA = Questions.merge(Answers, how='left', left_on='QID', right_on='ParentId')\n",
    "QA.head(3)"
   ]
  },
  {
   "cell_type": "code",
   "execution_count": 112,
   "metadata": {},
   "outputs": [
    {
     "data": {
      "text/html": [
       "<div>\n",
       "<style scoped>\n",
       "    .dataframe tbody tr th:only-of-type {\n",
       "        vertical-align: middle;\n",
       "    }\n",
       "\n",
       "    .dataframe tbody tr th {\n",
       "        vertical-align: top;\n",
       "    }\n",
       "\n",
       "    .dataframe thead th {\n",
       "        text-align: right;\n",
       "    }\n",
       "</style>\n",
       "<table border=\"1\" class=\"dataframe\">\n",
       "  <thead>\n",
       "    <tr style=\"text-align: right;\">\n",
       "      <th></th>\n",
       "      <th>QID</th>\n",
       "      <th>QuestionUserId</th>\n",
       "      <th>QuestionCreateDate</th>\n",
       "      <th>QuestionScore</th>\n",
       "      <th>QuestionTitle</th>\n",
       "      <th>QuestionBody</th>\n",
       "      <th>QuestionTitleAndBody</th>\n",
       "      <th>QuestionTitleAndBodyLemmatized</th>\n",
       "      <th>HasError</th>\n",
       "      <th>HasTraceback</th>\n",
       "      <th>HasCodeTag</th>\n",
       "      <th>HasMultiLineCode</th>\n",
       "      <th>AID</th>\n",
       "      <th>AnswerUserId</th>\n",
       "      <th>AnswerCreateDate</th>\n",
       "      <th>AnswerScore</th>\n",
       "      <th>AnswerBody</th>\n",
       "      <th>AnswerBodyLemmatized</th>\n",
       "    </tr>\n",
       "    <tr>\n",
       "      <th>ParentId</th>\n",
       "      <th></th>\n",
       "      <th></th>\n",
       "      <th></th>\n",
       "      <th></th>\n",
       "      <th></th>\n",
       "      <th></th>\n",
       "      <th></th>\n",
       "      <th></th>\n",
       "      <th></th>\n",
       "      <th></th>\n",
       "      <th></th>\n",
       "      <th></th>\n",
       "      <th></th>\n",
       "      <th></th>\n",
       "      <th></th>\n",
       "      <th></th>\n",
       "      <th></th>\n",
       "      <th></th>\n",
       "    </tr>\n",
       "  </thead>\n",
       "  <tbody>\n",
       "    <tr>\n",
       "      <th>550632.0</th>\n",
       "      <td>55</td>\n",
       "      <td>55</td>\n",
       "      <td>55</td>\n",
       "      <td>55</td>\n",
       "      <td>55</td>\n",
       "      <td>55</td>\n",
       "      <td>55</td>\n",
       "      <td>55</td>\n",
       "      <td>55</td>\n",
       "      <td>55</td>\n",
       "      <td>55</td>\n",
       "      <td>55</td>\n",
       "      <td>55</td>\n",
       "      <td>54</td>\n",
       "      <td>55</td>\n",
       "      <td>55</td>\n",
       "      <td>55</td>\n",
       "      <td>55</td>\n",
       "    </tr>\n",
       "    <tr>\n",
       "      <th>312443.0</th>\n",
       "      <td>45</td>\n",
       "      <td>45</td>\n",
       "      <td>45</td>\n",
       "      <td>45</td>\n",
       "      <td>45</td>\n",
       "      <td>45</td>\n",
       "      <td>45</td>\n",
       "      <td>45</td>\n",
       "      <td>45</td>\n",
       "      <td>45</td>\n",
       "      <td>45</td>\n",
       "      <td>45</td>\n",
       "      <td>45</td>\n",
       "      <td>45</td>\n",
       "      <td>45</td>\n",
       "      <td>45</td>\n",
       "      <td>45</td>\n",
       "      <td>45</td>\n",
       "    </tr>\n",
       "    <tr>\n",
       "      <th>36932.0</th>\n",
       "      <td>43</td>\n",
       "      <td>43</td>\n",
       "      <td>43</td>\n",
       "      <td>43</td>\n",
       "      <td>43</td>\n",
       "      <td>43</td>\n",
       "      <td>43</td>\n",
       "      <td>43</td>\n",
       "      <td>43</td>\n",
       "      <td>43</td>\n",
       "      <td>43</td>\n",
       "      <td>43</td>\n",
       "      <td>43</td>\n",
       "      <td>42</td>\n",
       "      <td>43</td>\n",
       "      <td>43</td>\n",
       "      <td>43</td>\n",
       "      <td>43</td>\n",
       "    </tr>\n",
       "    <tr>\n",
       "      <th>89228.0</th>\n",
       "      <td>42</td>\n",
       "      <td>42</td>\n",
       "      <td>42</td>\n",
       "      <td>42</td>\n",
       "      <td>42</td>\n",
       "      <td>42</td>\n",
       "      <td>42</td>\n",
       "      <td>42</td>\n",
       "      <td>42</td>\n",
       "      <td>42</td>\n",
       "      <td>42</td>\n",
       "      <td>42</td>\n",
       "      <td>42</td>\n",
       "      <td>42</td>\n",
       "      <td>42</td>\n",
       "      <td>42</td>\n",
       "      <td>42</td>\n",
       "      <td>42</td>\n",
       "    </tr>\n",
       "    <tr>\n",
       "      <th>18686860.0</th>\n",
       "      <td>37</td>\n",
       "      <td>37</td>\n",
       "      <td>37</td>\n",
       "      <td>37</td>\n",
       "      <td>37</td>\n",
       "      <td>37</td>\n",
       "      <td>37</td>\n",
       "      <td>37</td>\n",
       "      <td>37</td>\n",
       "      <td>37</td>\n",
       "      <td>37</td>\n",
       "      <td>37</td>\n",
       "      <td>37</td>\n",
       "      <td>37</td>\n",
       "      <td>37</td>\n",
       "      <td>37</td>\n",
       "      <td>37</td>\n",
       "      <td>37</td>\n",
       "    </tr>\n",
       "  </tbody>\n",
       "</table>\n",
       "</div>"
      ],
      "text/plain": [
       "            QID  QuestionUserId  QuestionCreateDate  QuestionScore  \\\n",
       "ParentId                                                             \n",
       "550632.0     55              55                  55             55   \n",
       "312443.0     45              45                  45             45   \n",
       "36932.0      43              43                  43             43   \n",
       "89228.0      42              42                  42             42   \n",
       "18686860.0   37              37                  37             37   \n",
       "\n",
       "            QuestionTitle  QuestionBody  QuestionTitleAndBody  \\\n",
       "ParentId                                                        \n",
       "550632.0               55            55                    55   \n",
       "312443.0               45            45                    45   \n",
       "36932.0                43            43                    43   \n",
       "89228.0                42            42                    42   \n",
       "18686860.0             37            37                    37   \n",
       "\n",
       "            QuestionTitleAndBodyLemmatized  HasError  HasTraceback  \\\n",
       "ParentId                                                             \n",
       "550632.0                                55        55            55   \n",
       "312443.0                                45        45            45   \n",
       "36932.0                                 43        43            43   \n",
       "89228.0                                 42        42            42   \n",
       "18686860.0                              37        37            37   \n",
       "\n",
       "            HasCodeTag  HasMultiLineCode  AID  AnswerUserId  AnswerCreateDate  \\\n",
       "ParentId                                                                        \n",
       "550632.0            55                55   55            54                55   \n",
       "312443.0            45                45   45            45                45   \n",
       "36932.0             43                43   43            42                43   \n",
       "89228.0             42                42   42            42                42   \n",
       "18686860.0          37                37   37            37                37   \n",
       "\n",
       "            AnswerScore  AnswerBody  AnswerBodyLemmatized  \n",
       "ParentId                                                   \n",
       "550632.0             55          55                    55  \n",
       "312443.0             45          45                    45  \n",
       "36932.0              43          43                    43  \n",
       "89228.0              42          42                    42  \n",
       "18686860.0           37          37                    37  "
      ]
     },
     "execution_count": 112,
     "metadata": {},
     "output_type": "execute_result"
    }
   ],
   "source": [
    "AnswersPerQuestion = QA.groupby('ParentId').count()\n",
    "AnswersPerQuestion.sort_values('AnswerCreateDate', ascending=False).head()"
   ]
  },
  {
   "cell_type": "code",
   "execution_count": 113,
   "metadata": {},
   "outputs": [
    {
     "name": "stdout",
     "output_type": "stream",
     "text": [
      "total average answers 1.8305868651689978\n"
     ]
    }
   ],
   "source": [
    "total_average_answers = AnswersPerQuestion['AnswerCreateDate'].sum() / AnswersPerQuestion['AnswerCreateDate'].count()\n",
    "print('total average answers ' + str(total_average_answers))"
   ]
  },
  {
   "cell_type": "markdown",
   "metadata": {},
   "source": [
    "### Question 6: Do questions with errors have more or less answers?"
   ]
  },
  {
   "cell_type": "code",
   "execution_count": 114,
   "metadata": {},
   "outputs": [
    {
     "name": "stdout",
     "output_type": "stream",
     "text": [
      "error average answers 1.6628310551046561\n",
      "only error average answers 1.671052063080579\n"
     ]
    }
   ],
   "source": [
    "AnswersPerQuestionWithError = QA[QA['HasError']].groupby('ParentId').count()\n",
    "hasError_average_answers = AnswersPerQuestionWithError['AnswerCreateDate'].sum() / len(AnswersPerQuestionWithError['AnswerCreateDate'])\n",
    "print('error average answers ' + str(hasError_average_answers))\n",
    "AnswersPerQuestionWithOnlyError = QA[(QA['HasError'] & ~QA['HasTraceback'])].groupby('ParentId').count()\n",
    "hasOnlyError_average_answers = AnswersPerQuestionWithOnlyError['AnswerCreateDate'].sum() / len(AnswersPerQuestionWithOnlyError['AnswerCreateDate'])\n",
    "print('only error average answers ' + str(hasOnlyError_average_answers))"
   ]
  },
  {
   "cell_type": "markdown",
   "metadata": {},
   "source": [
    "### Question 7: Do questions with tracebacks have more or less answers?"
   ]
  },
  {
   "cell_type": "code",
   "execution_count": 115,
   "metadata": {},
   "outputs": [
    {
     "name": "stdout",
     "output_type": "stream",
     "text": [
      "traceback average answers 1.6628310551046561\n",
      "only traceback average answers 1.600452488687783\n"
     ]
    }
   ],
   "source": [
    "AnswersPerQuestionWithTraceback = QA[QA['HasTraceback']].groupby('ParentId').count()\n",
    "hasTraceback_average_answers = AnswersPerQuestionWithTraceback['AnswerCreateDate'].sum() / len(AnswersPerQuestionWithTraceback['AnswerCreateDate'])\n",
    "print('traceback average answers ' + str(hasError_average_answers))\n",
    "AnswersPerQuestionWithOnlyTraceback = QA[(~QA['HasError'] & QA['HasTraceback'])].groupby('ParentId').count()\n",
    "hasOnlyTraceback_average_answers = AnswersPerQuestionWithOnlyTraceback['AnswerCreateDate'].sum() / len(AnswersPerQuestionWithOnlyTraceback['AnswerCreateDate'])\n",
    "print('only traceback average answers ' + str(hasOnlyTraceback_average_answers))"
   ]
  },
  {
   "cell_type": "markdown",
   "metadata": {},
   "source": [
    "### Question 8: Do questions with errors and tracebacks have more or less answers?"
   ]
  },
  {
   "cell_type": "code",
   "execution_count": 116,
   "metadata": {},
   "outputs": [
    {
     "name": "stdout",
     "output_type": "stream",
     "text": [
      "error traceback average answers 1.6495353224792118\n"
     ]
    }
   ],
   "source": [
    "AnswersPerQuestionWithErrorAndTraceback = QA[(QA['HasError'] & QA['HasTraceback'])].groupby('ParentId').count()\n",
    "hasErrorAndTraceback_average_answers = AnswersPerQuestionWithErrorAndTraceback['AnswerCreateDate'].sum() / len(AnswersPerQuestionWithErrorAndTraceback['AnswerCreateDate'])\n",
    "print('error traceback average answers ' + str(hasErrorAndTraceback_average_answers))"
   ]
  },
  {
   "cell_type": "markdown",
   "metadata": {},
   "source": [
    "## Preparing text for NLP"
   ]
  },
  {
   "cell_type": "markdown",
   "metadata": {},
   "source": [
    "Let's also merge in the tags for the questions."
   ]
  },
  {
   "cell_type": "code",
   "execution_count": 117,
   "metadata": {},
   "outputs": [
    {
     "ename": "KeyError",
     "evalue": "'TID'",
     "output_type": "error",
     "traceback": [
      "\u001b[0;31m---------------------------------------------------------------------------\u001b[0m",
      "\u001b[0;31mKeyError\u001b[0m                                  Traceback (most recent call last)",
      "\u001b[0;32m/usr/local/lib/python3.4/dist-packages/pandas/core/indexes/base.py\u001b[0m in \u001b[0;36mget_loc\u001b[0;34m(self, key, method, tolerance)\u001b[0m\n\u001b[1;32m   2524\u001b[0m             \u001b[0;32mtry\u001b[0m\u001b[0;34m:\u001b[0m\u001b[0;34m\u001b[0m\u001b[0m\n\u001b[0;32m-> 2525\u001b[0;31m                 \u001b[0;32mreturn\u001b[0m \u001b[0mself\u001b[0m\u001b[0;34m.\u001b[0m\u001b[0m_engine\u001b[0m\u001b[0;34m.\u001b[0m\u001b[0mget_loc\u001b[0m\u001b[0;34m(\u001b[0m\u001b[0mkey\u001b[0m\u001b[0;34m)\u001b[0m\u001b[0;34m\u001b[0m\u001b[0m\n\u001b[0m\u001b[1;32m   2526\u001b[0m             \u001b[0;32mexcept\u001b[0m \u001b[0mKeyError\u001b[0m\u001b[0;34m:\u001b[0m\u001b[0;34m\u001b[0m\u001b[0m\n",
      "\u001b[0;32mpandas/_libs/index.pyx\u001b[0m in \u001b[0;36mpandas._libs.index.IndexEngine.get_loc\u001b[0;34m()\u001b[0m\n",
      "\u001b[0;32mpandas/_libs/index.pyx\u001b[0m in \u001b[0;36mpandas._libs.index.IndexEngine.get_loc\u001b[0;34m()\u001b[0m\n",
      "\u001b[0;32mpandas/_libs/hashtable_class_helper.pxi\u001b[0m in \u001b[0;36mpandas._libs.hashtable.PyObjectHashTable.get_item\u001b[0;34m()\u001b[0m\n",
      "\u001b[0;32mpandas/_libs/hashtable_class_helper.pxi\u001b[0m in \u001b[0;36mpandas._libs.hashtable.PyObjectHashTable.get_item\u001b[0;34m()\u001b[0m\n",
      "\u001b[0;31mKeyError\u001b[0m: 'TID'",
      "\nDuring handling of the above exception, another exception occurred:\n",
      "\u001b[0;31mKeyError\u001b[0m                                  Traceback (most recent call last)",
      "\u001b[0;32m<ipython-input-117-040fd41fd67e>\u001b[0m in \u001b[0;36m<module>\u001b[0;34m()\u001b[0m\n\u001b[0;32m----> 1\u001b[0;31m \u001b[0mQAT\u001b[0m \u001b[0;34m=\u001b[0m \u001b[0mQA\u001b[0m\u001b[0;34m.\u001b[0m\u001b[0mmerge\u001b[0m\u001b[0;34m(\u001b[0m\u001b[0mTags\u001b[0m\u001b[0;34m,\u001b[0m \u001b[0mhow\u001b[0m\u001b[0;34m=\u001b[0m\u001b[0;34m'left'\u001b[0m\u001b[0;34m,\u001b[0m \u001b[0mleft_on\u001b[0m\u001b[0;34m=\u001b[0m\u001b[0;34m'QID'\u001b[0m\u001b[0;34m,\u001b[0m \u001b[0mright_on\u001b[0m\u001b[0;34m=\u001b[0m\u001b[0;34m'TID'\u001b[0m\u001b[0;34m)\u001b[0m\u001b[0;34m\u001b[0m\u001b[0m\n\u001b[0m",
      "\u001b[0;32m/usr/local/lib/python3.4/dist-packages/pandas/core/frame.py\u001b[0m in \u001b[0;36mmerge\u001b[0;34m(self, right, how, on, left_on, right_on, left_index, right_index, sort, suffixes, copy, indicator, validate)\u001b[0m\n\u001b[1;32m   5368\u001b[0m                      \u001b[0mright_on\u001b[0m\u001b[0;34m=\u001b[0m\u001b[0mright_on\u001b[0m\u001b[0;34m,\u001b[0m \u001b[0mleft_index\u001b[0m\u001b[0;34m=\u001b[0m\u001b[0mleft_index\u001b[0m\u001b[0;34m,\u001b[0m\u001b[0;34m\u001b[0m\u001b[0m\n\u001b[1;32m   5369\u001b[0m                      \u001b[0mright_index\u001b[0m\u001b[0;34m=\u001b[0m\u001b[0mright_index\u001b[0m\u001b[0;34m,\u001b[0m \u001b[0msort\u001b[0m\u001b[0;34m=\u001b[0m\u001b[0msort\u001b[0m\u001b[0;34m,\u001b[0m \u001b[0msuffixes\u001b[0m\u001b[0;34m=\u001b[0m\u001b[0msuffixes\u001b[0m\u001b[0;34m,\u001b[0m\u001b[0;34m\u001b[0m\u001b[0m\n\u001b[0;32m-> 5370\u001b[0;31m                      copy=copy, indicator=indicator, validate=validate)\n\u001b[0m\u001b[1;32m   5371\u001b[0m \u001b[0;34m\u001b[0m\u001b[0m\n\u001b[1;32m   5372\u001b[0m     \u001b[0;32mdef\u001b[0m \u001b[0mround\u001b[0m\u001b[0;34m(\u001b[0m\u001b[0mself\u001b[0m\u001b[0;34m,\u001b[0m \u001b[0mdecimals\u001b[0m\u001b[0;34m=\u001b[0m\u001b[0;36m0\u001b[0m\u001b[0;34m,\u001b[0m \u001b[0;34m*\u001b[0m\u001b[0margs\u001b[0m\u001b[0;34m,\u001b[0m \u001b[0;34m**\u001b[0m\u001b[0mkwargs\u001b[0m\u001b[0;34m)\u001b[0m\u001b[0;34m:\u001b[0m\u001b[0;34m\u001b[0m\u001b[0m\n",
      "\u001b[0;32m/usr/local/lib/python3.4/dist-packages/pandas/core/reshape/merge.py\u001b[0m in \u001b[0;36mmerge\u001b[0;34m(left, right, how, on, left_on, right_on, left_index, right_index, sort, suffixes, copy, indicator, validate)\u001b[0m\n\u001b[1;32m     55\u001b[0m                          \u001b[0mright_index\u001b[0m\u001b[0;34m=\u001b[0m\u001b[0mright_index\u001b[0m\u001b[0;34m,\u001b[0m \u001b[0msort\u001b[0m\u001b[0;34m=\u001b[0m\u001b[0msort\u001b[0m\u001b[0;34m,\u001b[0m \u001b[0msuffixes\u001b[0m\u001b[0;34m=\u001b[0m\u001b[0msuffixes\u001b[0m\u001b[0;34m,\u001b[0m\u001b[0;34m\u001b[0m\u001b[0m\n\u001b[1;32m     56\u001b[0m                          \u001b[0mcopy\u001b[0m\u001b[0;34m=\u001b[0m\u001b[0mcopy\u001b[0m\u001b[0;34m,\u001b[0m \u001b[0mindicator\u001b[0m\u001b[0;34m=\u001b[0m\u001b[0mindicator\u001b[0m\u001b[0;34m,\u001b[0m\u001b[0;34m\u001b[0m\u001b[0m\n\u001b[0;32m---> 57\u001b[0;31m                          validate=validate)\n\u001b[0m\u001b[1;32m     58\u001b[0m     \u001b[0;32mreturn\u001b[0m \u001b[0mop\u001b[0m\u001b[0;34m.\u001b[0m\u001b[0mget_result\u001b[0m\u001b[0;34m(\u001b[0m\u001b[0;34m)\u001b[0m\u001b[0;34m\u001b[0m\u001b[0m\n\u001b[1;32m     59\u001b[0m \u001b[0;34m\u001b[0m\u001b[0m\n",
      "\u001b[0;32m/usr/local/lib/python3.4/dist-packages/pandas/core/reshape/merge.py\u001b[0m in \u001b[0;36m__init__\u001b[0;34m(self, left, right, how, on, left_on, right_on, axis, left_index, right_index, sort, suffixes, copy, indicator, validate)\u001b[0m\n\u001b[1;32m    563\u001b[0m         (self.left_join_keys,\n\u001b[1;32m    564\u001b[0m          \u001b[0mself\u001b[0m\u001b[0;34m.\u001b[0m\u001b[0mright_join_keys\u001b[0m\u001b[0;34m,\u001b[0m\u001b[0;34m\u001b[0m\u001b[0m\n\u001b[0;32m--> 565\u001b[0;31m          self.join_names) = self._get_merge_keys()\n\u001b[0m\u001b[1;32m    566\u001b[0m \u001b[0;34m\u001b[0m\u001b[0m\n\u001b[1;32m    567\u001b[0m         \u001b[0;31m# validate the merge keys dtypes. We may need to coerce\u001b[0m\u001b[0;34m\u001b[0m\u001b[0;34m\u001b[0m\u001b[0m\n",
      "\u001b[0;32m/usr/local/lib/python3.4/dist-packages/pandas/core/reshape/merge.py\u001b[0m in \u001b[0;36m_get_merge_keys\u001b[0;34m(self)\u001b[0m\n\u001b[1;32m    822\u001b[0m                     \u001b[0;32mif\u001b[0m \u001b[0;32mnot\u001b[0m \u001b[0mis_rkey\u001b[0m\u001b[0;34m(\u001b[0m\u001b[0mrk\u001b[0m\u001b[0;34m)\u001b[0m\u001b[0;34m:\u001b[0m\u001b[0;34m\u001b[0m\u001b[0m\n\u001b[1;32m    823\u001b[0m                         \u001b[0;32mif\u001b[0m \u001b[0mrk\u001b[0m \u001b[0;32mis\u001b[0m \u001b[0;32mnot\u001b[0m \u001b[0;32mNone\u001b[0m\u001b[0;34m:\u001b[0m\u001b[0;34m\u001b[0m\u001b[0m\n\u001b[0;32m--> 824\u001b[0;31m                             \u001b[0mright_keys\u001b[0m\u001b[0;34m.\u001b[0m\u001b[0mappend\u001b[0m\u001b[0;34m(\u001b[0m\u001b[0mright\u001b[0m\u001b[0;34m[\u001b[0m\u001b[0mrk\u001b[0m\u001b[0;34m]\u001b[0m\u001b[0;34m.\u001b[0m\u001b[0m_values\u001b[0m\u001b[0;34m)\u001b[0m\u001b[0;34m\u001b[0m\u001b[0m\n\u001b[0m\u001b[1;32m    825\u001b[0m                         \u001b[0;32melse\u001b[0m\u001b[0;34m:\u001b[0m\u001b[0;34m\u001b[0m\u001b[0m\n\u001b[1;32m    826\u001b[0m                             \u001b[0;31m# work-around for merge_asof(right_index=True)\u001b[0m\u001b[0;34m\u001b[0m\u001b[0;34m\u001b[0m\u001b[0m\n",
      "\u001b[0;32m/usr/local/lib/python3.4/dist-packages/pandas/core/frame.py\u001b[0m in \u001b[0;36m__getitem__\u001b[0;34m(self, key)\u001b[0m\n\u001b[1;32m   2137\u001b[0m             \u001b[0;32mreturn\u001b[0m \u001b[0mself\u001b[0m\u001b[0;34m.\u001b[0m\u001b[0m_getitem_multilevel\u001b[0m\u001b[0;34m(\u001b[0m\u001b[0mkey\u001b[0m\u001b[0;34m)\u001b[0m\u001b[0;34m\u001b[0m\u001b[0m\n\u001b[1;32m   2138\u001b[0m         \u001b[0;32melse\u001b[0m\u001b[0;34m:\u001b[0m\u001b[0;34m\u001b[0m\u001b[0m\n\u001b[0;32m-> 2139\u001b[0;31m             \u001b[0;32mreturn\u001b[0m \u001b[0mself\u001b[0m\u001b[0;34m.\u001b[0m\u001b[0m_getitem_column\u001b[0m\u001b[0;34m(\u001b[0m\u001b[0mkey\u001b[0m\u001b[0;34m)\u001b[0m\u001b[0;34m\u001b[0m\u001b[0m\n\u001b[0m\u001b[1;32m   2140\u001b[0m \u001b[0;34m\u001b[0m\u001b[0m\n\u001b[1;32m   2141\u001b[0m     \u001b[0;32mdef\u001b[0m \u001b[0m_getitem_column\u001b[0m\u001b[0;34m(\u001b[0m\u001b[0mself\u001b[0m\u001b[0;34m,\u001b[0m \u001b[0mkey\u001b[0m\u001b[0;34m)\u001b[0m\u001b[0;34m:\u001b[0m\u001b[0;34m\u001b[0m\u001b[0m\n",
      "\u001b[0;32m/usr/local/lib/python3.4/dist-packages/pandas/core/frame.py\u001b[0m in \u001b[0;36m_getitem_column\u001b[0;34m(self, key)\u001b[0m\n\u001b[1;32m   2144\u001b[0m         \u001b[0;31m# get column\u001b[0m\u001b[0;34m\u001b[0m\u001b[0;34m\u001b[0m\u001b[0m\n\u001b[1;32m   2145\u001b[0m         \u001b[0;32mif\u001b[0m \u001b[0mself\u001b[0m\u001b[0;34m.\u001b[0m\u001b[0mcolumns\u001b[0m\u001b[0;34m.\u001b[0m\u001b[0mis_unique\u001b[0m\u001b[0;34m:\u001b[0m\u001b[0;34m\u001b[0m\u001b[0m\n\u001b[0;32m-> 2146\u001b[0;31m             \u001b[0;32mreturn\u001b[0m \u001b[0mself\u001b[0m\u001b[0;34m.\u001b[0m\u001b[0m_get_item_cache\u001b[0m\u001b[0;34m(\u001b[0m\u001b[0mkey\u001b[0m\u001b[0;34m)\u001b[0m\u001b[0;34m\u001b[0m\u001b[0m\n\u001b[0m\u001b[1;32m   2147\u001b[0m \u001b[0;34m\u001b[0m\u001b[0m\n\u001b[1;32m   2148\u001b[0m         \u001b[0;31m# duplicate columns & possible reduce dimensionality\u001b[0m\u001b[0;34m\u001b[0m\u001b[0;34m\u001b[0m\u001b[0m\n",
      "\u001b[0;32m/usr/local/lib/python3.4/dist-packages/pandas/core/generic.py\u001b[0m in \u001b[0;36m_get_item_cache\u001b[0;34m(self, item)\u001b[0m\n\u001b[1;32m   1840\u001b[0m         \u001b[0mres\u001b[0m \u001b[0;34m=\u001b[0m \u001b[0mcache\u001b[0m\u001b[0;34m.\u001b[0m\u001b[0mget\u001b[0m\u001b[0;34m(\u001b[0m\u001b[0mitem\u001b[0m\u001b[0;34m)\u001b[0m\u001b[0;34m\u001b[0m\u001b[0m\n\u001b[1;32m   1841\u001b[0m         \u001b[0;32mif\u001b[0m \u001b[0mres\u001b[0m \u001b[0;32mis\u001b[0m \u001b[0;32mNone\u001b[0m\u001b[0;34m:\u001b[0m\u001b[0;34m\u001b[0m\u001b[0m\n\u001b[0;32m-> 1842\u001b[0;31m             \u001b[0mvalues\u001b[0m \u001b[0;34m=\u001b[0m \u001b[0mself\u001b[0m\u001b[0;34m.\u001b[0m\u001b[0m_data\u001b[0m\u001b[0;34m.\u001b[0m\u001b[0mget\u001b[0m\u001b[0;34m(\u001b[0m\u001b[0mitem\u001b[0m\u001b[0;34m)\u001b[0m\u001b[0;34m\u001b[0m\u001b[0m\n\u001b[0m\u001b[1;32m   1843\u001b[0m             \u001b[0mres\u001b[0m \u001b[0;34m=\u001b[0m \u001b[0mself\u001b[0m\u001b[0;34m.\u001b[0m\u001b[0m_box_item_values\u001b[0m\u001b[0;34m(\u001b[0m\u001b[0mitem\u001b[0m\u001b[0;34m,\u001b[0m \u001b[0mvalues\u001b[0m\u001b[0;34m)\u001b[0m\u001b[0;34m\u001b[0m\u001b[0m\n\u001b[1;32m   1844\u001b[0m             \u001b[0mcache\u001b[0m\u001b[0;34m[\u001b[0m\u001b[0mitem\u001b[0m\u001b[0;34m]\u001b[0m \u001b[0;34m=\u001b[0m \u001b[0mres\u001b[0m\u001b[0;34m\u001b[0m\u001b[0m\n",
      "\u001b[0;32m/usr/local/lib/python3.4/dist-packages/pandas/core/internals.py\u001b[0m in \u001b[0;36mget\u001b[0;34m(self, item, fastpath)\u001b[0m\n\u001b[1;32m   3841\u001b[0m \u001b[0;34m\u001b[0m\u001b[0m\n\u001b[1;32m   3842\u001b[0m             \u001b[0;32mif\u001b[0m \u001b[0;32mnot\u001b[0m \u001b[0misna\u001b[0m\u001b[0;34m(\u001b[0m\u001b[0mitem\u001b[0m\u001b[0;34m)\u001b[0m\u001b[0;34m:\u001b[0m\u001b[0;34m\u001b[0m\u001b[0m\n\u001b[0;32m-> 3843\u001b[0;31m                 \u001b[0mloc\u001b[0m \u001b[0;34m=\u001b[0m \u001b[0mself\u001b[0m\u001b[0;34m.\u001b[0m\u001b[0mitems\u001b[0m\u001b[0;34m.\u001b[0m\u001b[0mget_loc\u001b[0m\u001b[0;34m(\u001b[0m\u001b[0mitem\u001b[0m\u001b[0;34m)\u001b[0m\u001b[0;34m\u001b[0m\u001b[0m\n\u001b[0m\u001b[1;32m   3844\u001b[0m             \u001b[0;32melse\u001b[0m\u001b[0;34m:\u001b[0m\u001b[0;34m\u001b[0m\u001b[0m\n\u001b[1;32m   3845\u001b[0m                 \u001b[0mindexer\u001b[0m \u001b[0;34m=\u001b[0m \u001b[0mnp\u001b[0m\u001b[0;34m.\u001b[0m\u001b[0marange\u001b[0m\u001b[0;34m(\u001b[0m\u001b[0mlen\u001b[0m\u001b[0;34m(\u001b[0m\u001b[0mself\u001b[0m\u001b[0;34m.\u001b[0m\u001b[0mitems\u001b[0m\u001b[0;34m)\u001b[0m\u001b[0;34m)\u001b[0m\u001b[0;34m[\u001b[0m\u001b[0misna\u001b[0m\u001b[0;34m(\u001b[0m\u001b[0mself\u001b[0m\u001b[0;34m.\u001b[0m\u001b[0mitems\u001b[0m\u001b[0;34m)\u001b[0m\u001b[0;34m]\u001b[0m\u001b[0;34m\u001b[0m\u001b[0m\n",
      "\u001b[0;32m/usr/local/lib/python3.4/dist-packages/pandas/core/indexes/base.py\u001b[0m in \u001b[0;36mget_loc\u001b[0;34m(self, key, method, tolerance)\u001b[0m\n\u001b[1;32m   2525\u001b[0m                 \u001b[0;32mreturn\u001b[0m \u001b[0mself\u001b[0m\u001b[0;34m.\u001b[0m\u001b[0m_engine\u001b[0m\u001b[0;34m.\u001b[0m\u001b[0mget_loc\u001b[0m\u001b[0;34m(\u001b[0m\u001b[0mkey\u001b[0m\u001b[0;34m)\u001b[0m\u001b[0;34m\u001b[0m\u001b[0m\n\u001b[1;32m   2526\u001b[0m             \u001b[0;32mexcept\u001b[0m \u001b[0mKeyError\u001b[0m\u001b[0;34m:\u001b[0m\u001b[0;34m\u001b[0m\u001b[0m\n\u001b[0;32m-> 2527\u001b[0;31m                 \u001b[0;32mreturn\u001b[0m \u001b[0mself\u001b[0m\u001b[0;34m.\u001b[0m\u001b[0m_engine\u001b[0m\u001b[0;34m.\u001b[0m\u001b[0mget_loc\u001b[0m\u001b[0;34m(\u001b[0m\u001b[0mself\u001b[0m\u001b[0;34m.\u001b[0m\u001b[0m_maybe_cast_indexer\u001b[0m\u001b[0;34m(\u001b[0m\u001b[0mkey\u001b[0m\u001b[0;34m)\u001b[0m\u001b[0;34m)\u001b[0m\u001b[0;34m\u001b[0m\u001b[0m\n\u001b[0m\u001b[1;32m   2528\u001b[0m \u001b[0;34m\u001b[0m\u001b[0m\n\u001b[1;32m   2529\u001b[0m         \u001b[0mindexer\u001b[0m \u001b[0;34m=\u001b[0m \u001b[0mself\u001b[0m\u001b[0;34m.\u001b[0m\u001b[0mget_indexer\u001b[0m\u001b[0;34m(\u001b[0m\u001b[0;34m[\u001b[0m\u001b[0mkey\u001b[0m\u001b[0;34m]\u001b[0m\u001b[0;34m,\u001b[0m \u001b[0mmethod\u001b[0m\u001b[0;34m=\u001b[0m\u001b[0mmethod\u001b[0m\u001b[0;34m,\u001b[0m \u001b[0mtolerance\u001b[0m\u001b[0;34m=\u001b[0m\u001b[0mtolerance\u001b[0m\u001b[0;34m)\u001b[0m\u001b[0;34m\u001b[0m\u001b[0m\n",
      "\u001b[0;32mpandas/_libs/index.pyx\u001b[0m in \u001b[0;36mpandas._libs.index.IndexEngine.get_loc\u001b[0;34m()\u001b[0m\n",
      "\u001b[0;32mpandas/_libs/index.pyx\u001b[0m in \u001b[0;36mpandas._libs.index.IndexEngine.get_loc\u001b[0;34m()\u001b[0m\n",
      "\u001b[0;32mpandas/_libs/hashtable_class_helper.pxi\u001b[0m in \u001b[0;36mpandas._libs.hashtable.PyObjectHashTable.get_item\u001b[0;34m()\u001b[0m\n",
      "\u001b[0;32mpandas/_libs/hashtable_class_helper.pxi\u001b[0m in \u001b[0;36mpandas._libs.hashtable.PyObjectHashTable.get_item\u001b[0;34m()\u001b[0m\n",
      "\u001b[0;31mKeyError\u001b[0m: 'TID'"
     ]
    }
   ],
   "source": [
    "QAT = QA.merge(Tags, how='left', left_on='QID', right_on='TID')"
   ]
  },
  {
   "cell_type": "code",
   "execution_count": null,
   "metadata": {},
   "outputs": [],
   "source": [
    "QAT.head()"
   ]
  },
  {
   "cell_type": "code",
   "execution_count": null,
   "metadata": {},
   "outputs": [],
   "source": [
    "# QAT.to_csv('QAT.csv', index=False)"
   ]
  },
  {
   "cell_type": "code",
   "execution_count": null,
   "metadata": {},
   "outputs": [],
   "source": []
  }
 ],
 "metadata": {
  "kernelspec": {
   "display_name": "Python 3",
   "language": "python",
   "name": "python3"
  },
  "language_info": {
   "codemirror_mode": {
    "name": "ipython",
    "version": 3
   },
   "file_extension": ".py",
   "mimetype": "text/x-python",
   "name": "python",
   "nbconvert_exporter": "python",
   "pygments_lexer": "ipython3",
   "version": "3.4.3"
  }
 },
 "nbformat": 4,
 "nbformat_minor": 2
}
