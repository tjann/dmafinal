{
 "cells": [
  {
   "cell_type": "markdown",
   "metadata": {},
   "source": [
    "# Asking and Answering Questions on Stack Overflow\n",
    "Stack Overflow has an official [How do I ask a good question?](https://stackoverflow.com/help/how-to-ask) guide.\n",
    "\n",
    "Why do we care about the quality of the questions asked? Where does that put the pedagogical \"There is no such thing as a bad question?\"\n",
    "\n",
    "Although there is an educational aspect to Stack Overflow, at the end of the day, it is a question and answer forum for developers to get and give help. If you are asking for help, you want to maximize your chances of getting it. In this context, we could rephrase \"good\" questions to be questions likely to be answered.\n",
    "\n",
    "Stack Overflow has the feature that\n",
    "\n",
    "> Sometimes users encounter the following message when posting a question: \n",
    ">> 'This post does not meet our quality standards.'\n",
    "\n",
    ">If you see this message, then your question was automatically blocked by the server. All new questions are subjected to a \"minimum quality\" filter that checks for some basic indicators of a good, complete question. Check to make sure that your question has the following:\n",
    "A clear title.\n",
    "A reasonable explanation of what your question is. Add as much detail as you can.\n",
    "Any background research you've tried but wasn't enough to solve your problem.\n",
    "Correct use of English spelling and grammar to the best of your ability.\n",
    "\n",
    "However, everything they list above is quite subjective. Let's explore if any immediately accessible features correlate with the question getting answered."
   ]
  },
  {
   "cell_type": "code",
   "execution_count": 1,
   "metadata": {},
   "outputs": [],
   "source": [
    "import pandas as pd\n",
    "import numpy as np\n",
    "import matplotlib.pyplot as plt\n",
    "%matplotlib inline\n",
    "plt.rcParams['figure.figsize'] = (11.7, 11.3)\n",
    "plt.rcParams.update({'font.size': 20})\n",
    "import seaborn as sns\n",
    "sns.set(rc={'figure.figsize':(11.7,8.3)})\n",
    "import nltk\n",
    "from nltk.tokenize import word_tokenize\n",
    "from nltk.corpus import stopwords\n",
    "from nltk.stem import WordNetLemmatizer\n",
    "import re"
   ]
  },
  {
   "cell_type": "markdown",
   "metadata": {},
   "source": [
    "We will use a pre-processed data set on Stack Overflow Q&A for Python questions, found here: https://www.kaggle.com/stackoverflow/pythonquestions"
   ]
  },
  {
   "cell_type": "code",
   "execution_count": 2,
   "metadata": {},
   "outputs": [],
   "source": [
    "Questions = pd.read_csv('LemmatizedQuestions.csv', encoding=\"ISO-8859-1\")\n",
    "Answers = pd.read_csv('LemmatizedAnswers.csv', encoding=\"ISO-8859-1\")\n",
    "Tags = pd.read_csv('pythonquestions/Tags.csv', encoding=\"ISO-8859-1\")\n",
    "Tags.columns = ['TID', 'Tag']"
   ]
  },
  {
   "cell_type": "code",
   "execution_count": 3,
   "metadata": {},
   "outputs": [
    {
     "name": "stdout",
     "output_type": "stream",
     "text": [
      "(607282, 12)\n"
     ]
    },
    {
     "data": {
      "text/html": [
       "<div>\n",
       "<style scoped>\n",
       "    .dataframe tbody tr th:only-of-type {\n",
       "        vertical-align: middle;\n",
       "    }\n",
       "\n",
       "    .dataframe tbody tr th {\n",
       "        vertical-align: top;\n",
       "    }\n",
       "\n",
       "    .dataframe thead th {\n",
       "        text-align: right;\n",
       "    }\n",
       "</style>\n",
       "<table border=\"1\" class=\"dataframe\">\n",
       "  <thead>\n",
       "    <tr style=\"text-align: right;\">\n",
       "      <th></th>\n",
       "      <th>QID</th>\n",
       "      <th>QuestionUserId</th>\n",
       "      <th>QuestionCreateDate</th>\n",
       "      <th>QuestionScore</th>\n",
       "      <th>QuestionTitle</th>\n",
       "      <th>QuestionBody</th>\n",
       "      <th>NumAnswers</th>\n",
       "      <th>QuestionTitleAndBody</th>\n",
       "      <th>CodeText</th>\n",
       "      <th>TagFreeNonCodeText</th>\n",
       "      <th>CodeTextLemmatized</th>\n",
       "      <th>TagFreeNonCodeTextLemmatized</th>\n",
       "    </tr>\n",
       "  </thead>\n",
       "  <tbody>\n",
       "    <tr>\n",
       "      <th>0</th>\n",
       "      <td>469</td>\n",
       "      <td>147.0</td>\n",
       "      <td>2008-08-02T15:11:16Z</td>\n",
       "      <td>21</td>\n",
       "      <td>How can I find the full path to a font from it...</td>\n",
       "      <td>&lt;p&gt;I am using the Photoshop's javascript API t...</td>\n",
       "      <td>4.0</td>\n",
       "      <td>How can I find the full path to a font from it...</td>\n",
       "      <td>NaN</td>\n",
       "      <td>How can I find the full path to a font from it...</td>\n",
       "      <td>[]</td>\n",
       "      <td>['how', 'can', 'i', 'find', 'the', 'full', 'pa...</td>\n",
       "    </tr>\n",
       "  </tbody>\n",
       "</table>\n",
       "</div>"
      ],
      "text/plain": [
       "   QID  QuestionUserId    QuestionCreateDate  QuestionScore  \\\n",
       "0  469           147.0  2008-08-02T15:11:16Z             21   \n",
       "\n",
       "                                       QuestionTitle  \\\n",
       "0  How can I find the full path to a font from it...   \n",
       "\n",
       "                                        QuestionBody  NumAnswers  \\\n",
       "0  <p>I am using the Photoshop's javascript API t...         4.0   \n",
       "\n",
       "                                QuestionTitleAndBody CodeText  \\\n",
       "0  How can I find the full path to a font from it...      NaN   \n",
       "\n",
       "                                  TagFreeNonCodeText CodeTextLemmatized  \\\n",
       "0  How can I find the full path to a font from it...                 []   \n",
       "\n",
       "                        TagFreeNonCodeTextLemmatized  \n",
       "0  ['how', 'can', 'i', 'find', 'the', 'full', 'pa...  "
      ]
     },
     "execution_count": 3,
     "metadata": {},
     "output_type": "execute_result"
    }
   ],
   "source": [
    "print(Questions.shape)\n",
    "Questions.head(1)"
   ]
  },
  {
   "cell_type": "code",
   "execution_count": 4,
   "metadata": {},
   "outputs": [
    {
     "name": "stdout",
     "output_type": "stream",
     "text": [
      "(987122, 7)\n"
     ]
    },
    {
     "data": {
      "text/html": [
       "<div>\n",
       "<style scoped>\n",
       "    .dataframe tbody tr th:only-of-type {\n",
       "        vertical-align: middle;\n",
       "    }\n",
       "\n",
       "    .dataframe tbody tr th {\n",
       "        vertical-align: top;\n",
       "    }\n",
       "\n",
       "    .dataframe thead th {\n",
       "        text-align: right;\n",
       "    }\n",
       "</style>\n",
       "<table border=\"1\" class=\"dataframe\">\n",
       "  <thead>\n",
       "    <tr style=\"text-align: right;\">\n",
       "      <th></th>\n",
       "      <th>AID</th>\n",
       "      <th>AnswerUserId</th>\n",
       "      <th>AnswerCreateDate</th>\n",
       "      <th>ParentId</th>\n",
       "      <th>AnswerScore</th>\n",
       "      <th>AnswerBody</th>\n",
       "      <th>AnswerBodyLemmatized</th>\n",
       "    </tr>\n",
       "  </thead>\n",
       "  <tbody>\n",
       "    <tr>\n",
       "      <th>0</th>\n",
       "      <td>497</td>\n",
       "      <td>50.0</td>\n",
       "      <td>2008-08-02T16:56:53Z</td>\n",
       "      <td>469</td>\n",
       "      <td>4</td>\n",
       "      <td>&lt;p&gt;open up a terminal (Applications-&amp;gt;Utilit...</td>\n",
       "      <td>['open', 'up', 'a', 'terminal', 'applicationsg...</td>\n",
       "    </tr>\n",
       "  </tbody>\n",
       "</table>\n",
       "</div>"
      ],
      "text/plain": [
       "   AID  AnswerUserId      AnswerCreateDate  ParentId  AnswerScore  \\\n",
       "0  497          50.0  2008-08-02T16:56:53Z       469            4   \n",
       "\n",
       "                                          AnswerBody  \\\n",
       "0  <p>open up a terminal (Applications-&gt;Utilit...   \n",
       "\n",
       "                                AnswerBodyLemmatized  \n",
       "0  ['open', 'up', 'a', 'terminal', 'applicationsg...  "
      ]
     },
     "execution_count": 4,
     "metadata": {},
     "output_type": "execute_result"
    }
   ],
   "source": [
    "print(Answers.shape)\n",
    "Answers.head(1)"
   ]
  },
  {
   "cell_type": "code",
   "execution_count": 5,
   "metadata": {},
   "outputs": [
    {
     "name": "stdout",
     "output_type": "stream",
     "text": [
      "(1885078, 2)\n"
     ]
    },
    {
     "data": {
      "text/html": [
       "<div>\n",
       "<style scoped>\n",
       "    .dataframe tbody tr th:only-of-type {\n",
       "        vertical-align: middle;\n",
       "    }\n",
       "\n",
       "    .dataframe tbody tr th {\n",
       "        vertical-align: top;\n",
       "    }\n",
       "\n",
       "    .dataframe thead th {\n",
       "        text-align: right;\n",
       "    }\n",
       "</style>\n",
       "<table border=\"1\" class=\"dataframe\">\n",
       "  <thead>\n",
       "    <tr style=\"text-align: right;\">\n",
       "      <th></th>\n",
       "      <th>TID</th>\n",
       "      <th>Tag</th>\n",
       "    </tr>\n",
       "  </thead>\n",
       "  <tbody>\n",
       "    <tr>\n",
       "      <th>0</th>\n",
       "      <td>469</td>\n",
       "      <td>python</td>\n",
       "    </tr>\n",
       "    <tr>\n",
       "      <th>1</th>\n",
       "      <td>469</td>\n",
       "      <td>osx</td>\n",
       "    </tr>\n",
       "    <tr>\n",
       "      <th>2</th>\n",
       "      <td>469</td>\n",
       "      <td>fonts</td>\n",
       "    </tr>\n",
       "  </tbody>\n",
       "</table>\n",
       "</div>"
      ],
      "text/plain": [
       "   TID     Tag\n",
       "0  469  python\n",
       "1  469     osx\n",
       "2  469   fonts"
      ]
     },
     "execution_count": 5,
     "metadata": {},
     "output_type": "execute_result"
    }
   ],
   "source": [
    "print(Tags.shape)\n",
    "Tags.head(3)"
   ]
  },
  {
   "cell_type": "code",
   "execution_count": 6,
   "metadata": {},
   "outputs": [
    {
     "name": "stdout",
     "output_type": "stream",
     "text": [
      "QID                                  0\n",
      "QuestionUserId                    6212\n",
      "QuestionCreateDate                   0\n",
      "QuestionScore                        0\n",
      "QuestionTitle                        0\n",
      "QuestionBody                         0\n",
      "NumAnswers                           0\n",
      "QuestionTitleAndBody                 0\n",
      "CodeText                        408555\n",
      "TagFreeNonCodeText                   0\n",
      "CodeTextLemmatized                   0\n",
      "TagFreeNonCodeTextLemmatized         0\n",
      "dtype: int64\n",
      "AID                        0\n",
      "AnswerUserId            5367\n",
      "AnswerCreateDate           0\n",
      "ParentId                   0\n",
      "AnswerScore                0\n",
      "AnswerBody                 0\n",
      "AnswerBodyLemmatized       0\n",
      "dtype: int64\n",
      "TID      0\n",
      "Tag    443\n",
      "dtype: int64\n"
     ]
    }
   ],
   "source": [
    "print(Questions.isnull().sum())\n",
    "print(Answers.isnull().sum())\n",
    "print(Tags.isnull().sum())"
   ]
  },
  {
   "cell_type": "markdown",
   "metadata": {},
   "source": [
    "Looks like this data is pretty clean. The only nulls are for users (probably users that have deleted their accounts since posting), and tags (since these are optional)."
   ]
  },
  {
   "cell_type": "markdown",
   "metadata": {},
   "source": [
    "### Just curious: How many users are engaged on Q, A, & Q&A?"
   ]
  },
  {
   "cell_type": "code",
   "execution_count": 7,
   "metadata": {},
   "outputs": [],
   "source": [
    "User_id_inQ = Questions['QuestionUserId'].unique()\n",
    "User_id_inA = Answers['AnswerUserId'].unique()\n",
    "User_id_inBoth=set(User_id_inQ).intersection(User_id_inA)"
   ]
  },
  {
   "cell_type": "code",
   "execution_count": 8,
   "metadata": {},
   "outputs": [
    {
     "name": "stdout",
     "output_type": "stream",
     "text": [
      "213928 users posting questions\n",
      "149177 users posting answers\n",
      "63779 users posting both\n"
     ]
    }
   ],
   "source": [
    "print(str(len(User_id_inQ)) + ' users posting questions')\n",
    "print(str(len(User_id_inA)) + ' users posting answers')\n",
    "print(str(len(User_id_inBoth)) + ' users posting both')"
   ]
  },
  {
   "cell_type": "markdown",
   "metadata": {},
   "source": [
    "## So, what makes a good question?\n",
    "Specifically \"to improve your chances of getting an answer\", Stack Overflow suggests\n",
    "- Search and research before posting\n",
    "- Have an informative title\n",
    "- Include any error messages, key APIs, or unusual circumstances\n",
    "- Introduce the problem before posting any code\n",
    "- \"Not all questions benefit from including code. But if your problem is with code you've written, you should include some.\"\n",
    "- Include all relevant tags\n",
    "- Proofread\n",
    "\n",
    "Let's examine whether or not including error messages (and the closely related traceback), code, and tags truly improve a question's chances of getting an answer. Let's also take a look at the question length. We will first need to create the relevant features."
   ]
  },
  {
   "cell_type": "markdown",
   "metadata": {},
   "source": [
    "### Questions containing Python-formatted errors"
   ]
  },
  {
   "cell_type": "code",
   "execution_count": 9,
   "metadata": {},
   "outputs": [],
   "source": [
    "Questions['HasError'] = Questions['QuestionBody'].str.contains(\"[A-Z][a-z]+Error:\\s\")"
   ]
  },
  {
   "cell_type": "code",
   "execution_count": 10,
   "metadata": {},
   "outputs": [
    {
     "name": "stdout",
     "output_type": "stream",
     "text": [
      "0.14075997641952173 of questions have a full Python-formatted error message\n"
     ]
    }
   ],
   "source": [
    "print(str(Questions['HasError'].sum() / Questions['HasError'].count()) + \" of questions have a full Python-formatted error message\")"
   ]
  },
  {
   "cell_type": "markdown",
   "metadata": {},
   "source": [
    "### Questions containing Python-formatted tracebacks"
   ]
  },
  {
   "cell_type": "code",
   "execution_count": 11,
   "metadata": {},
   "outputs": [],
   "source": [
    "Questions['HasTraceback'] = Questions['QuestionBody'].str.contains(\"Traceback \\(most recent call last\\):\")"
   ]
  },
  {
   "cell_type": "code",
   "execution_count": 12,
   "metadata": {},
   "outputs": [
    {
     "name": "stdout",
     "output_type": "stream",
     "text": [
      "0.06771977433877506 of questions have a full Python-formatted traceback\n"
     ]
    }
   ],
   "source": [
    "print(str(Questions['HasTraceback'].sum() / Questions['HasTraceback'].count()) + \" of questions have a full Python-formatted traceback\")"
   ]
  },
  {
   "cell_type": "markdown",
   "metadata": {},
   "source": [
    "### Questions containing code"
   ]
  },
  {
   "cell_type": "code",
   "execution_count": 13,
   "metadata": {},
   "outputs": [],
   "source": [
    "Questions['HasMultiLineCode'] = Questions['QuestionBody'].str.contains(\"<code>.*\\n[\\s\\S]*<\\/code>\")"
   ]
  },
  {
   "cell_type": "code",
   "execution_count": 14,
   "metadata": {},
   "outputs": [
    {
     "name": "stdout",
     "output_type": "stream",
     "text": [
      "0.8323546556624435 of questions have multi line code\n"
     ]
    }
   ],
   "source": [
    "print(str(Questions['HasMultiLineCode'].sum() / Questions.shape[0]) + \" of questions have multi line code\")"
   ]
  },
  {
   "cell_type": "code",
   "execution_count": 15,
   "metadata": {},
   "outputs": [],
   "source": [
    "Questions['HasBlockCode'] = (Questions['QuestionBody'].str.contains(\"<pre><code>\") & Questions['QuestionBody'].str.contains(\"<\\/code><\\/pre>\"))"
   ]
  },
  {
   "cell_type": "code",
   "execution_count": 16,
   "metadata": {},
   "outputs": [
    {
     "name": "stdout",
     "output_type": "stream",
     "text": [
      "0.7991954314470049 of questions have block code\n"
     ]
    }
   ],
   "source": [
    "print(str(Questions['HasBlockCode'].sum() / Questions.shape[0]) + \" of questions have block code\")"
   ]
  },
  {
   "cell_type": "markdown",
   "metadata": {},
   "source": [
    "### Questions containing hyperlinks"
   ]
  },
  {
   "cell_type": "code",
   "execution_count": 70,
   "metadata": {},
   "outputs": [],
   "source": [
    "Questions['HasHyperlink'] = Questions['QuestionBody'].str.contains(\"<a href\")"
   ]
  },
  {
   "cell_type": "code",
   "execution_count": 71,
   "metadata": {},
   "outputs": [
    {
     "name": "stdout",
     "output_type": "stream",
     "text": [
      "0.187527376078988 of questions have hyperlinks\n"
     ]
    }
   ],
   "source": [
    "print(str(Questions['HasHyperlink'].sum() / Questions.shape[0]) + \" of questions have hyperlinks\")"
   ]
  },
  {
   "cell_type": "markdown",
   "metadata": {},
   "source": [
    "### Questions containing img tags"
   ]
  },
  {
   "cell_type": "code",
   "execution_count": 19,
   "metadata": {},
   "outputs": [],
   "source": [
    "Questions['HasEmbedImage'] = Questions['QuestionBody'].str.contains(\"<img\")"
   ]
  },
  {
   "cell_type": "code",
   "execution_count": 20,
   "metadata": {},
   "outputs": [
    {
     "name": "stdout",
     "output_type": "stream",
     "text": [
      "0.035311436861293434 of questions have embed images\n"
     ]
    }
   ],
   "source": [
    "print(str(Questions['HasEmbedImage'].sum() / Questions.shape[0]) + \" of questions have embed images\")"
   ]
  },
  {
   "cell_type": "code",
   "execution_count": 21,
   "metadata": {},
   "outputs": [],
   "source": [
    "Questions['HasTried'] = Questions['TagFreeNonCodeTextLemmatized'].str.contains(\"tried\")"
   ]
  },
  {
   "cell_type": "markdown",
   "metadata": {},
   "source": [
    "### Number of answers per question and answer rate per question"
   ]
  },
  {
   "cell_type": "code",
   "execution_count": 22,
   "metadata": {},
   "outputs": [],
   "source": [
    "def avgNumAnswers(df):\n",
    "    return df['NumAnswers'].sum() / df.shape[0]\n",
    "def avgAnswerRate(df):\n",
    "    return (df.shape[0] - df.groupby('NumAnswers').count().iloc[0,0]) / df.shape[0]"
   ]
  },
  {
   "cell_type": "code",
   "execution_count": 23,
   "metadata": {},
   "outputs": [
    {
     "name": "stdout",
     "output_type": "stream",
     "text": [
      "average number of answers: 1.6034527616494478\n",
      "answer rate: 0.8780945261015476\n"
     ]
    }
   ],
   "source": [
    "print('average number of answers: ' + str(avgNumAnswers(Questions)))\n",
    "print('answer rate: ' + str(avgAnswerRate(Questions)))"
   ]
  },
  {
   "cell_type": "markdown",
   "metadata": {},
   "source": [
    "### Question 1: Does including errors increase your expected number of answers or your likelihood of receiving an answer?"
   ]
  },
  {
   "cell_type": "code",
   "execution_count": 24,
   "metadata": {},
   "outputs": [
    {
     "name": "stdout",
     "output_type": "stream",
     "text": [
      "error average answers 1.4409049964319556\n",
      "error answer rate 0.8675027199026685\n"
     ]
    }
   ],
   "source": [
    "QuestionsHasError = Questions[Questions['HasError']]\n",
    "\n",
    "print('error average answers ' + str(avgNumAnswers(QuestionsHasError)))\n",
    "print('error answer rate ' + str(avgAnswerRate(QuestionsHasError)))"
   ]
  },
  {
   "cell_type": "markdown",
   "metadata": {},
   "source": [
    "### Question 2: What about tracebacks?"
   ]
  },
  {
   "cell_type": "code",
   "execution_count": 25,
   "metadata": {},
   "outputs": [
    {
     "name": "stdout",
     "output_type": "stream",
     "text": [
      "traceback average answers 1.3890091185410334\n",
      "traceback answer rate 0.8483161094224924\n"
     ]
    }
   ],
   "source": [
    "QuestionsHasTraceback = Questions[Questions['HasTraceback']]\n",
    "\n",
    "print('traceback average answers ' + str(avgNumAnswers(QuestionsHasTraceback)))\n",
    "print('traceback answer rate ' + str(avgAnswerRate(QuestionsHasTraceback)))"
   ]
  },
  {
   "cell_type": "markdown",
   "metadata": {},
   "source": [
    "### Question 3: What about both errors and tracebacks?"
   ]
  },
  {
   "cell_type": "code",
   "execution_count": 26,
   "metadata": {},
   "outputs": [
    {
     "name": "stdout",
     "output_type": "stream",
     "text": [
      "error traceback average answers 1.4137732533478762\n",
      "error traceback answer rate 0.858207598618433\n"
     ]
    }
   ],
   "source": [
    "QuestionsHasErrorAndTraceback = Questions[(Questions['HasError'] & Questions['HasTraceback'])]\n",
    "\n",
    "print('error traceback average answers ' + str(avgNumAnswers(QuestionsHasErrorAndTraceback)))\n",
    "print('error traceback answer rate ' + str(avgAnswerRate(QuestionsHasErrorAndTraceback)))"
   ]
  },
  {
   "cell_type": "markdown",
   "metadata": {},
   "source": [
    "### Question 4: Do questions with code have more or less answers or likelihood of receiving any answer?"
   ]
  },
  {
   "cell_type": "code",
   "execution_count": 27,
   "metadata": {},
   "outputs": [
    {
     "name": "stdout",
     "output_type": "stream",
     "text": [
      "multiline code average answers 1.5908810344350055\n",
      "multiline code answer rate 0.8817822479494495\n"
     ]
    }
   ],
   "source": [
    "QuestionsHasMultiLineCode = Questions[Questions['HasMultiLineCode']]\n",
    "\n",
    "print('multiline code average answers ' + str(avgNumAnswers(QuestionsHasMultiLineCode)))\n",
    "print('multiline code answer rate ' + str(avgAnswerRate(QuestionsHasMultiLineCode)))"
   ]
  },
  {
   "cell_type": "markdown",
   "metadata": {},
   "source": [
    "Yay! Finally a feature that corresponds with higher average number of answers and answer rate!"
   ]
  },
  {
   "cell_type": "code",
   "execution_count": 28,
   "metadata": {},
   "outputs": [
    {
     "name": "stdout",
     "output_type": "stream",
     "text": [
      "block code average answers 1.5911521272847526\n",
      "block code answer rate 0.8825846782750955\n"
     ]
    }
   ],
   "source": [
    "QuestionsHasBlockCode = Questions[Questions['HasBlockCode']]\n",
    "\n",
    "print('block code average answers ' + str(avgNumAnswers(QuestionsHasBlockCode)))\n",
    "print('block code answer rate ' + str(avgAnswerRate(QuestionsHasBlockCode)))"
   ]
  },
  {
   "cell_type": "markdown",
   "metadata": {},
   "source": [
    "Even better!"
   ]
  },
  {
   "cell_type": "markdown",
   "metadata": {},
   "source": [
    "### Question 5: Do questions with hyperlinks have more or less answers or likelihood of receiving any answer?"
   ]
  },
  {
   "cell_type": "code",
   "execution_count": 73,
   "metadata": {},
   "outputs": [
    {
     "name": "stdout",
     "output_type": "stream",
     "text": [
      "hyperlink average answers 1.4065523963400712\n",
      "hyperlink answer rate 0.8421348413269876\n"
     ]
    }
   ],
   "source": [
    "QuestionsHasHyperlink = Questions[Questions['HasHyperlink']]\n",
    "\n",
    "print('hyperlink average answers ' + str(avgNumAnswers(QuestionsHasHyperlink)))\n",
    "print('hyperlink answer rate ' + str(avgAnswerRate(QuestionsHasHyperlink)))"
   ]
  },
  {
   "cell_type": "markdown",
   "metadata": {},
   "source": [
    "Maybe people prefer answering self-contained questions?"
   ]
  },
  {
   "cell_type": "markdown",
   "metadata": {},
   "source": [
    "### Question 6: Do questions with images have more or less answers or likelihood of receiving any answer?"
   ]
  },
  {
   "cell_type": "code",
   "execution_count": 30,
   "metadata": {},
   "outputs": [
    {
     "name": "stdout",
     "output_type": "stream",
     "text": [
      "image average answers 1.2328856556612573\n",
      "image answer rate 0.8319809736989368\n"
     ]
    }
   ],
   "source": [
    "QuestionsHasImage = Questions[Questions['HasEmbedImage']]\n",
    "\n",
    "print('image average answers ' + str(avgNumAnswers(QuestionsHasImage)))\n",
    "print('image answer rate ' + str(avgAnswerRate(QuestionsHasImage)))"
   ]
  },
  {
   "cell_type": "markdown",
   "metadata": {},
   "source": [
    "Guess people don't like images either."
   ]
  },
  {
   "cell_type": "code",
   "execution_count": 31,
   "metadata": {},
   "outputs": [
    {
     "name": "stdout",
     "output_type": "stream",
     "text": [
      "tried average answers 1.5070221066319895\n",
      "tried answer rate 0.8626462938881665\n"
     ]
    }
   ],
   "source": [
    "QuestionsHasTried = Questions[Questions['HasTried']]\n",
    "\n",
    "\n",
    "print('tried average answers ' + str(avgNumAnswers(QuestionsHasTried)))\n",
    "print('tried answer rate ' + str(avgAnswerRate(QuestionsHasTried)))"
   ]
  },
  {
   "cell_type": "markdown",
   "metadata": {},
   "source": [
    "Nope."
   ]
  },
  {
   "cell_type": "markdown",
   "metadata": {},
   "source": [
    "### Overall average number of tags per question"
   ]
  },
  {
   "cell_type": "code",
   "execution_count": 32,
   "metadata": {},
   "outputs": [],
   "source": [
    "TagValueCounts = Tags['Tag'].value_counts()"
   ]
  },
  {
   "cell_type": "code",
   "execution_count": 33,
   "metadata": {},
   "outputs": [],
   "source": [
    "Top50Tags = pd.DataFrame(TagValueCounts).index[:50]"
   ]
  },
  {
   "cell_type": "code",
   "execution_count": 34,
   "metadata": {},
   "outputs": [],
   "source": [
    "Top49Tags = Top50Tags.drop('python')"
   ]
  },
  {
   "cell_type": "code",
   "execution_count": 35,
   "metadata": {},
   "outputs": [],
   "source": [
    "QT = Questions.merge(Tags.dropna(axis=0, how='any'), left_on='QID', right_on='TID')"
   ]
  },
  {
   "cell_type": "code",
   "execution_count": 36,
   "metadata": {},
   "outputs": [],
   "source": [
    "QuestionsTags = pd.DataFrame(QT.groupby('QID')['Tag'].apply(list)).reset_index()"
   ]
  },
  {
   "cell_type": "code",
   "execution_count": 37,
   "metadata": {},
   "outputs": [
    {
     "data": {
      "text/html": [
       "<div>\n",
       "<style scoped>\n",
       "    .dataframe tbody tr th:only-of-type {\n",
       "        vertical-align: middle;\n",
       "    }\n",
       "\n",
       "    .dataframe tbody tr th {\n",
       "        vertical-align: top;\n",
       "    }\n",
       "\n",
       "    .dataframe thead th {\n",
       "        text-align: right;\n",
       "    }\n",
       "</style>\n",
       "<table border=\"1\" class=\"dataframe\">\n",
       "  <thead>\n",
       "    <tr style=\"text-align: right;\">\n",
       "      <th></th>\n",
       "      <th>QID</th>\n",
       "      <th>Tag</th>\n",
       "    </tr>\n",
       "  </thead>\n",
       "  <tbody>\n",
       "    <tr>\n",
       "      <th>0</th>\n",
       "      <td>469</td>\n",
       "      <td>[python, osx, fonts, photoshop]</td>\n",
       "    </tr>\n",
       "    <tr>\n",
       "      <th>1</th>\n",
       "      <td>502</td>\n",
       "      <td>[python, windows, image, pdf]</td>\n",
       "    </tr>\n",
       "  </tbody>\n",
       "</table>\n",
       "</div>"
      ],
      "text/plain": [
       "   QID                              Tag\n",
       "0  469  [python, osx, fonts, photoshop]\n",
       "1  502    [python, windows, image, pdf]"
      ]
     },
     "execution_count": 37,
     "metadata": {},
     "output_type": "execute_result"
    }
   ],
   "source": [
    "QuestionsTags.head(2)"
   ]
  },
  {
   "cell_type": "code",
   "execution_count": 38,
   "metadata": {},
   "outputs": [],
   "source": [
    "Questions['Tags'] = QuestionsTags['Tag']"
   ]
  },
  {
   "cell_type": "code",
   "execution_count": 39,
   "metadata": {},
   "outputs": [],
   "source": [
    "Questions['NumTags'] = Questions['Tags'].apply(len)"
   ]
  },
  {
   "cell_type": "code",
   "execution_count": 40,
   "metadata": {},
   "outputs": [],
   "source": [
    "Questions['HasTagsInTop49'] = Questions['Tags'].apply(lambda x: any(pd.Series(x).isin(pd.Series(Top49Tags))))"
   ]
  },
  {
   "cell_type": "code",
   "execution_count": 41,
   "metadata": {},
   "outputs": [
    {
     "data": {
      "text/html": [
       "<div>\n",
       "<style scoped>\n",
       "    .dataframe tbody tr th:only-of-type {\n",
       "        vertical-align: middle;\n",
       "    }\n",
       "\n",
       "    .dataframe tbody tr th {\n",
       "        vertical-align: top;\n",
       "    }\n",
       "\n",
       "    .dataframe thead th {\n",
       "        text-align: right;\n",
       "    }\n",
       "</style>\n",
       "<table border=\"1\" class=\"dataframe\">\n",
       "  <thead>\n",
       "    <tr style=\"text-align: right;\">\n",
       "      <th></th>\n",
       "      <th>QID</th>\n",
       "      <th>QuestionUserId</th>\n",
       "      <th>QuestionCreateDate</th>\n",
       "      <th>QuestionScore</th>\n",
       "      <th>QuestionTitle</th>\n",
       "      <th>QuestionBody</th>\n",
       "      <th>NumAnswers</th>\n",
       "      <th>QuestionTitleAndBody</th>\n",
       "      <th>CodeText</th>\n",
       "      <th>TagFreeNonCodeText</th>\n",
       "      <th>...</th>\n",
       "      <th>HasError</th>\n",
       "      <th>HasTraceback</th>\n",
       "      <th>HasMultiLineCode</th>\n",
       "      <th>HasBlockCode</th>\n",
       "      <th>HasHyperlink</th>\n",
       "      <th>HasEmbedImage</th>\n",
       "      <th>HasTried</th>\n",
       "      <th>Tags</th>\n",
       "      <th>NumTags</th>\n",
       "      <th>HasTagsInTop49</th>\n",
       "    </tr>\n",
       "  </thead>\n",
       "  <tbody>\n",
       "    <tr>\n",
       "      <th>0</th>\n",
       "      <td>469</td>\n",
       "      <td>147.0</td>\n",
       "      <td>2008-08-02T15:11:16Z</td>\n",
       "      <td>21</td>\n",
       "      <td>How can I find the full path to a font from it...</td>\n",
       "      <td>&lt;p&gt;I am using the Photoshop's javascript API t...</td>\n",
       "      <td>4.0</td>\n",
       "      <td>How can I find the full path to a font from it...</td>\n",
       "      <td>NaN</td>\n",
       "      <td>How can I find the full path to a font from it...</td>\n",
       "      <td>...</td>\n",
       "      <td>False</td>\n",
       "      <td>False</td>\n",
       "      <td>False</td>\n",
       "      <td>False</td>\n",
       "      <td>False</td>\n",
       "      <td>False</td>\n",
       "      <td>False</td>\n",
       "      <td>[python, osx, fonts, photoshop]</td>\n",
       "      <td>4</td>\n",
       "      <td>True</td>\n",
       "    </tr>\n",
       "    <tr>\n",
       "      <th>1</th>\n",
       "      <td>502</td>\n",
       "      <td>147.0</td>\n",
       "      <td>2008-08-02T17:01:58Z</td>\n",
       "      <td>27</td>\n",
       "      <td>Get a preview JPEG of a PDF on Windows?</td>\n",
       "      <td>&lt;p&gt;I have a cross-platform (Python) applicatio...</td>\n",
       "      <td>3.0</td>\n",
       "      <td>Get a preview JPEG of a PDF on Windows? &lt;p&gt;I h...</td>\n",
       "      <td>NaN</td>\n",
       "      <td>Get a preview JPEG of a PDF on Windows? I have...</td>\n",
       "      <td>...</td>\n",
       "      <td>False</td>\n",
       "      <td>False</td>\n",
       "      <td>False</td>\n",
       "      <td>False</td>\n",
       "      <td>False</td>\n",
       "      <td>False</td>\n",
       "      <td>False</td>\n",
       "      <td>[python, windows, image, pdf]</td>\n",
       "      <td>4</td>\n",
       "      <td>True</td>\n",
       "    </tr>\n",
       "  </tbody>\n",
       "</table>\n",
       "<p>2 rows × 22 columns</p>\n",
       "</div>"
      ],
      "text/plain": [
       "   QID  QuestionUserId    QuestionCreateDate  QuestionScore  \\\n",
       "0  469           147.0  2008-08-02T15:11:16Z             21   \n",
       "1  502           147.0  2008-08-02T17:01:58Z             27   \n",
       "\n",
       "                                       QuestionTitle  \\\n",
       "0  How can I find the full path to a font from it...   \n",
       "1            Get a preview JPEG of a PDF on Windows?   \n",
       "\n",
       "                                        QuestionBody  NumAnswers  \\\n",
       "0  <p>I am using the Photoshop's javascript API t...         4.0   \n",
       "1  <p>I have a cross-platform (Python) applicatio...         3.0   \n",
       "\n",
       "                                QuestionTitleAndBody CodeText  \\\n",
       "0  How can I find the full path to a font from it...      NaN   \n",
       "1  Get a preview JPEG of a PDF on Windows? <p>I h...      NaN   \n",
       "\n",
       "                                  TagFreeNonCodeText      ...       HasError  \\\n",
       "0  How can I find the full path to a font from it...      ...          False   \n",
       "1  Get a preview JPEG of a PDF on Windows? I have...      ...          False   \n",
       "\n",
       "  HasTraceback  HasMultiLineCode  HasBlockCode  HasHyperlink  HasEmbedImage  \\\n",
       "0        False             False         False         False          False   \n",
       "1        False             False         False         False          False   \n",
       "\n",
       "   HasTried                             Tags  NumTags HasTagsInTop49  \n",
       "0     False  [python, osx, fonts, photoshop]        4           True  \n",
       "1     False    [python, windows, image, pdf]        4           True  \n",
       "\n",
       "[2 rows x 22 columns]"
      ]
     },
     "execution_count": 41,
     "metadata": {},
     "output_type": "execute_result"
    }
   ],
   "source": [
    "Questions.head(2)"
   ]
  },
  {
   "cell_type": "code",
   "execution_count": 42,
   "metadata": {},
   "outputs": [
    {
     "name": "stdout",
     "output_type": "stream",
     "text": [
      "QID                                  0\n",
      "QuestionUserId                    6212\n",
      "QuestionCreateDate                   0\n",
      "QuestionScore                        0\n",
      "QuestionTitle                        0\n",
      "QuestionBody                         0\n",
      "NumAnswers                           0\n",
      "QuestionTitleAndBody                 0\n",
      "CodeText                        408555\n",
      "TagFreeNonCodeText                   0\n",
      "CodeTextLemmatized                   0\n",
      "TagFreeNonCodeTextLemmatized         0\n",
      "HasError                             0\n",
      "HasTraceback                         0\n",
      "HasMultiLineCode                     0\n",
      "HasBlockCode                         0\n",
      "HasHyperlink                         0\n",
      "HasEmbedImage                        0\n",
      "HasTried                             0\n",
      "Tags                                 0\n",
      "NumTags                              0\n",
      "HasTagsInTop49                       0\n",
      "dtype: int64\n"
     ]
    }
   ],
   "source": [
    "print(Questions.isnull().sum())"
   ]
  },
  {
   "cell_type": "code",
   "execution_count": 43,
   "metadata": {},
   "outputs": [],
   "source": [
    "# Questions['NumTags'] = Questions['NumTags'].fillna(0)"
   ]
  },
  {
   "cell_type": "code",
   "execution_count": 44,
   "metadata": {},
   "outputs": [
    {
     "name": "stdout",
     "output_type": "stream",
     "text": [
      "total average tags 3.103386894391732\n"
     ]
    }
   ],
   "source": [
    "total_average_tags = Questions['NumTags'].sum() / Questions.shape[0]\n",
    "print('total average tags ' + str(total_average_tags))"
   ]
  },
  {
   "cell_type": "code",
   "execution_count": 45,
   "metadata": {},
   "outputs": [
    {
     "name": "stderr",
     "output_type": "stream",
     "text": [
      "/usr/local/lib/python3.4/dist-packages/matplotlib/axes/_axes.py:6462: UserWarning: The 'normed' kwarg is deprecated, and has been replaced by the 'density' kwarg.\n",
      "  warnings.warn(\"The 'normed' kwarg is deprecated, and has been \"\n"
     ]
    },
    {
     "data": {
      "text/plain": [
       "<matplotlib.axes._subplots.AxesSubplot at 0x7fe907c956a0>"
      ]
     },
     "execution_count": 45,
     "metadata": {},
     "output_type": "execute_result"
    },
    {
     "data": {
      "image/png": "[encoded data removed]",
      "text/plain": [
       "<Figure size 432x288 with 1 Axes>"
      ]
     },
     "metadata": {},
     "output_type": "display_data"
    }
   ],
   "source": [
    "sns.distplot(Questions.NumTags , kde=False)"
   ]
  },
  {
   "cell_type": "markdown",
   "metadata": {},
   "source": [
    "### Question 7: Do number of tags correspond to number of answers?"
   ]
  },
  {
   "cell_type": "code",
   "execution_count": 46,
   "metadata": {},
   "outputs": [
    {
     "data": {
      "text/html": [
       "<div>\n",
       "<style scoped>\n",
       "    .dataframe tbody tr th:only-of-type {\n",
       "        vertical-align: middle;\n",
       "    }\n",
       "\n",
       "    .dataframe tbody tr th {\n",
       "        vertical-align: top;\n",
       "    }\n",
       "\n",
       "    .dataframe thead th {\n",
       "        text-align: right;\n",
       "    }\n",
       "</style>\n",
       "<table border=\"1\" class=\"dataframe\">\n",
       "  <thead>\n",
       "    <tr style=\"text-align: right;\">\n",
       "      <th></th>\n",
       "      <th>NumAnswers</th>\n",
       "    </tr>\n",
       "    <tr>\n",
       "      <th>NumTags</th>\n",
       "      <th></th>\n",
       "    </tr>\n",
       "  </thead>\n",
       "  <tbody>\n",
       "    <tr>\n",
       "      <th>1</th>\n",
       "      <td>2.140967</td>\n",
       "    </tr>\n",
       "    <tr>\n",
       "      <th>2</th>\n",
       "      <td>1.690527</td>\n",
       "    </tr>\n",
       "    <tr>\n",
       "      <th>3</th>\n",
       "      <td>1.564125</td>\n",
       "    </tr>\n",
       "    <tr>\n",
       "      <th>4</th>\n",
       "      <td>1.495258</td>\n",
       "    </tr>\n",
       "    <tr>\n",
       "      <th>5</th>\n",
       "      <td>1.429479</td>\n",
       "    </tr>\n",
       "  </tbody>\n",
       "</table>\n",
       "</div>"
      ],
      "text/plain": [
       "         NumAnswers\n",
       "NumTags            \n",
       "1          2.140967\n",
       "2          1.690527\n",
       "3          1.564125\n",
       "4          1.495258\n",
       "5          1.429479"
      ]
     },
     "execution_count": 46,
     "metadata": {},
     "output_type": "execute_result"
    }
   ],
   "source": [
    "Questions.groupby('NumTags').sum()[['NumAnswers']] / Questions.groupby('NumTags').count()[['NumAnswers']]"
   ]
  },
  {
   "cell_type": "markdown",
   "metadata": {},
   "source": [
    "This is also rather counterintuitive. Those with fewer tags had more answers (compared to the overall average of 1.6 answers). Stack Overflow uses tags to show questions to users on the STO homepage. Perhaps people don't go on the homepage much?"
   ]
  },
  {
   "cell_type": "code",
   "execution_count": 47,
   "metadata": {},
   "outputs": [
    {
     "data": {
      "text/plain": [
       "python        100.000165\n",
       "django         10.344123\n",
       "python-2.7      5.700152\n",
       "pandas          4.421998\n",
       "python-3.x      4.415412\n",
       "numpy           4.256342\n",
       "list            3.120626\n",
       "matplotlib      2.720482\n",
       "regex           2.313093\n",
       "dictionary      2.208694\n",
       "Name: Tag, dtype: float64"
      ]
     },
     "execution_count": 47,
     "metadata": {},
     "output_type": "execute_result"
    }
   ],
   "source": [
    "(TagValueCounts / Questions.shape[0] * 100).head(10)"
   ]
  },
  {
   "cell_type": "code",
   "execution_count": 48,
   "metadata": {
    "scrolled": true
   },
   "outputs": [
    {
     "data": {
      "text/plain": [
       "<matplotlib.axes._subplots.AxesSubplot at 0x7fe908047470>"
      ]
     },
     "execution_count": 48,
     "metadata": {},
     "output_type": "execute_result"
    },
    {
     "data": {
      "image/png": "[encoded data removed]",
      "text/plain": [
       "<Figure size 432x288 with 1 Axes>"
      ]
     },
     "metadata": {},
     "output_type": "display_data"
    }
   ],
   "source": [
    "TagValueCounts[:15].plot(kind='bar')"
   ]
  },
  {
   "cell_type": "markdown",
   "metadata": {},
   "source": [
    "Since all questions have the 'python' tag (this is the Python dataset), perhaps tags other than 'python' indicate specialization and therefore a smaller community."
   ]
  },
  {
   "cell_type": "markdown",
   "metadata": {},
   "source": [
    "Finally, let's take a look at how the length of the question affects the number of answers."
   ]
  },
  {
   "cell_type": "markdown",
   "metadata": {},
   "source": [
    "### Question length"
   ]
  },
  {
   "cell_type": "code",
   "execution_count": 49,
   "metadata": {},
   "outputs": [],
   "source": [
    "Questions['QuestionLength'] = Questions['TagFreeNonCodeTextLemmatized'].apply(len)"
   ]
  },
  {
   "cell_type": "code",
   "execution_count": 50,
   "metadata": {},
   "outputs": [
    {
     "name": "stdout",
     "output_type": "stream",
     "text": [
      "The average Question has 1494.8989497465757 words.\n"
     ]
    }
   ],
   "source": [
    "print('The average Question has ' + str(Questions['QuestionLength'].mean()) + ' words.')"
   ]
  },
  {
   "cell_type": "markdown",
   "metadata": {},
   "source": [
    "Let's take a look at the distribution."
   ]
  },
  {
   "cell_type": "code",
   "execution_count": 51,
   "metadata": {},
   "outputs": [
    {
     "name": "stderr",
     "output_type": "stream",
     "text": [
      "/usr/local/lib/python3.4/dist-packages/matplotlib/axes/_axes.py:6462: UserWarning: The 'normed' kwarg is deprecated, and has been replaced by the 'density' kwarg.\n",
      "  warnings.warn(\"The 'normed' kwarg is deprecated, and has been \"\n"
     ]
    },
    {
     "data": {
      "text/plain": [
       "<matplotlib.axes._subplots.AxesSubplot at 0x7fe908038898>"
      ]
     },
     "execution_count": 51,
     "metadata": {},
     "output_type": "execute_result"
    },
    {
     "data": {
      "image/png": "[encoded data removed]",
      "text/plain": [
       "<Figure size 432x288 with 1 Axes>"
      ]
     },
     "metadata": {},
     "output_type": "display_data"
    }
   ],
   "source": [
    "sns.distplot(Questions['QuestionLength'])"
   ]
  },
  {
   "cell_type": "markdown",
   "metadata": {},
   "source": [
    "Looks like the number of words in questions are heavily skewed to the right. Let's zoom in on the head."
   ]
  },
  {
   "cell_type": "code",
   "execution_count": 52,
   "metadata": {},
   "outputs": [
    {
     "name": "stderr",
     "output_type": "stream",
     "text": [
      "/usr/local/lib/python3.4/dist-packages/matplotlib/axes/_axes.py:6462: UserWarning: The 'normed' kwarg is deprecated, and has been replaced by the 'density' kwarg.\n",
      "  warnings.warn(\"The 'normed' kwarg is deprecated, and has been \"\n"
     ]
    },
    {
     "data": {
      "text/plain": [
       "[(0, 3000)]"
      ]
     },
     "execution_count": 52,
     "metadata": {},
     "output_type": "execute_result"
    },
    {
     "data": {
      "image/png": "[encoded data removed]",
      "text/plain": [
       "<Figure size 432x288 with 1 Axes>"
      ]
     },
     "metadata": {},
     "output_type": "display_data"
    }
   ],
   "source": [
    "g = sns.distplot(Questions['QuestionLength'])\n",
    "g.set(xlim=(0, 3000))"
   ]
  },
  {
   "cell_type": "markdown",
   "metadata": {},
   "source": [
    "Looks like most questions have between 60 and 1750 words."
   ]
  },
  {
   "cell_type": "markdown",
   "metadata": {},
   "source": [
    "Now, for the ultimate test: is it true that \"the most valuable of all talents is that of never using two words when one will do\" ?"
   ]
  },
  {
   "cell_type": "code",
   "execution_count": 53,
   "metadata": {},
   "outputs": [
    {
     "name": "stderr",
     "output_type": "stream",
     "text": [
      "/usr/local/lib/python3.4/dist-packages/matplotlib/axes/_axes.py:6462: UserWarning: The 'normed' kwarg is deprecated, and has been replaced by the 'density' kwarg.\n",
      "  warnings.warn(\"The 'normed' kwarg is deprecated, and has been \"\n"
     ]
    },
    {
     "data": {
      "text/plain": [
       "<seaborn.axisgrid.JointGrid at 0x7fe907f39240>"
      ]
     },
     "execution_count": 53,
     "metadata": {},
     "output_type": "execute_result"
    },
    {
     "data": {
      "image/png": "[encoded data removed]",
      "text/plain": [
       "<Figure size 432x432 with 3 Axes>"
      ]
     },
     "metadata": {},
     "output_type": "display_data"
    }
   ],
   "source": [
    "sns.jointplot(x=\"QuestionLength\", y=\"NumAnswers\", data=Questions)"
   ]
  },
  {
   "cell_type": "markdown",
   "metadata": {},
   "source": [
    "This is a really dense plot, but we can see that the Pearson's correlation coefficient is negative. Let's make a regression plot with a low alpha value."
   ]
  },
  {
   "cell_type": "code",
   "execution_count": 54,
   "metadata": {},
   "outputs": [
    {
     "data": {
      "text/plain": [
       "<matplotlib.axes._subplots.AxesSubplot at 0x7fe907df7550>"
      ]
     },
     "execution_count": 54,
     "metadata": {},
     "output_type": "execute_result"
    },
    {
     "data": {
      "image/png": "[encoded data removed]",
      "text/plain": [
       "<Figure size 432x288 with 1 Axes>"
      ]
     },
     "metadata": {},
     "output_type": "display_data"
    }
   ],
   "source": [
    "sns.regplot(x=\"QuestionLength\", y=\"NumAnswers\", data=Questions, \n",
    "    ci = None,\n",
    "    scatter_kws={\"color\":\"darkred\",\"alpha\":0.1,\"s\":50},\n",
    "    line_kws={\"color\":\"b\",\"alpha\":0.5,\"lw\":4})"
   ]
  },
  {
   "cell_type": "markdown",
   "metadata": {},
   "source": [
    "From this plot, we can see that questions that get many answers tend to have fewer words. Across all question lengths, there are many questions with vew answers--this contributed to the low slope and low intercept of the regression line."
   ]
  },
  {
   "cell_type": "code",
   "execution_count": 55,
   "metadata": {},
   "outputs": [
    {
     "name": "stdout",
     "output_type": "stream",
     "text": [
      "The average Question has 7.961461067510646 code words.\n"
     ]
    }
   ],
   "source": [
    "Questions['QuestionCodeLength'] = Questions['CodeTextLemmatized'].apply(len)\n",
    "print('The average Question has ' + str(Questions['QuestionCodeLength'].mean()) + ' code words.')"
   ]
  },
  {
   "cell_type": "markdown",
   "metadata": {},
   "source": [
    "Let's look at the distribution."
   ]
  },
  {
   "cell_type": "code",
   "execution_count": 56,
   "metadata": {},
   "outputs": [
    {
     "data": {
      "text/plain": [
       "<matplotlib.axes._subplots.AxesSubplot at 0x7fe8f6e043c8>"
      ]
     },
     "execution_count": 56,
     "metadata": {},
     "output_type": "execute_result"
    },
    {
     "data": {
      "image/png": "[encoded data removed]",
      "text/plain": [
       "<Figure size 432x288 with 1 Axes>"
      ]
     },
     "metadata": {},
     "output_type": "display_data"
    }
   ],
   "source": [
    "sns.distplot(Questions['QuestionCodeLength'], hist=False)"
   ]
  },
  {
   "cell_type": "code",
   "execution_count": 57,
   "metadata": {},
   "outputs": [
    {
     "data": {
      "text/plain": [
       "[(0, 300)]"
      ]
     },
     "execution_count": 57,
     "metadata": {},
     "output_type": "execute_result"
    },
    {
     "data": {
      "image/png": "[encoded data removed]",
      "text/plain": [
       "<Figure size 432x288 with 1 Axes>"
      ]
     },
     "metadata": {},
     "output_type": "display_data"
    }
   ],
   "source": [
    "g = sns.distplot(Questions['QuestionCodeLength'], hist=False)\n",
    "g.set(xlim=(0, 300))"
   ]
  },
  {
   "cell_type": "code",
   "execution_count": 58,
   "metadata": {},
   "outputs": [
    {
     "name": "stderr",
     "output_type": "stream",
     "text": [
      "/usr/local/lib/python3.4/dist-packages/matplotlib/axes/_axes.py:6462: UserWarning: The 'normed' kwarg is deprecated, and has been replaced by the 'density' kwarg.\n",
      "  warnings.warn(\"The 'normed' kwarg is deprecated, and has been \"\n"
     ]
    },
    {
     "data": {
      "text/plain": [
       "<seaborn.axisgrid.JointGrid at 0x7fe907d9cda0>"
      ]
     },
     "execution_count": 58,
     "metadata": {},
     "output_type": "execute_result"
    },
    {
     "data": {
      "image/png": "[encoded data removed]",
      "text/plain": [
       "<Figure size 432x432 with 3 Axes>"
      ]
     },
     "metadata": {},
     "output_type": "display_data"
    }
   ],
   "source": [
    "sns.jointplot(x=\"QuestionCodeLength\", y=\"NumAnswers\", data=Questions)"
   ]
  },
  {
   "cell_type": "code",
   "execution_count": 59,
   "metadata": {},
   "outputs": [
    {
     "data": {
      "text/plain": [
       "<matplotlib.axes._subplots.AxesSubplot at 0x7fe907cd8630>"
      ]
     },
     "execution_count": 59,
     "metadata": {},
     "output_type": "execute_result"
    },
    {
     "data": {
      "image/png": "[encoded data removed]",
      "text/plain": [
       "<Figure size 432x288 with 1 Axes>"
      ]
     },
     "metadata": {},
     "output_type": "display_data"
    }
   ],
   "source": [
    "sns.regplot(x=\"QuestionCodeLength\", y=\"NumAnswers\", data=Questions, \n",
    "    ci = None,\n",
    "    scatter_kws={\"color\":\"darkred\",\"alpha\":0.1,\"s\":50},\n",
    "    line_kws={\"color\":\"b\",\"alpha\":0.5,\"lw\":4})"
   ]
  },
  {
   "cell_type": "markdown",
   "metadata": {},
   "source": [
    "### Question Title length"
   ]
  },
  {
   "cell_type": "markdown",
   "metadata": {},
   "source": [
    "\"Pretend you're talking to a busy colleague and have to sum up your entire question in one sentence\" -- Stack Overflow"
   ]
  },
  {
   "cell_type": "code",
   "execution_count": 60,
   "metadata": {},
   "outputs": [],
   "source": [
    "Questions['QuestionTitleLength'] = Questions.QuestionTitle.apply(lambda x: len(str(x).split(' ')))"
   ]
  },
  {
   "cell_type": "code",
   "execution_count": 61,
   "metadata": {},
   "outputs": [
    {
     "name": "stdout",
     "output_type": "stream",
     "text": [
      "The average Question Title has 8.481726776028271 words.\n"
     ]
    }
   ],
   "source": [
    "print('The average Question Title has ' + str(Questions['QuestionTitleLength'].mean()) + ' words.')"
   ]
  },
  {
   "cell_type": "markdown",
   "metadata": {},
   "source": [
    "Let's take a look at the distribution."
   ]
  },
  {
   "cell_type": "code",
   "execution_count": 62,
   "metadata": {},
   "outputs": [
    {
     "name": "stderr",
     "output_type": "stream",
     "text": [
      "/usr/local/lib/python3.4/dist-packages/matplotlib/axes/_axes.py:6462: UserWarning: The 'normed' kwarg is deprecated, and has been replaced by the 'density' kwarg.\n",
      "  warnings.warn(\"The 'normed' kwarg is deprecated, and has been \"\n"
     ]
    },
    {
     "data": {
      "text/plain": [
       "<matplotlib.axes._subplots.AxesSubplot at 0x7fe907a61f98>"
      ]
     },
     "execution_count": 62,
     "metadata": {},
     "output_type": "execute_result"
    },
    {
     "data": {
      "image/png": "[encoded data removed]",
      "text/plain": [
       "<Figure size 432x288 with 1 Axes>"
      ]
     },
     "metadata": {},
     "output_type": "display_data"
    }
   ],
   "source": [
    "sns.distplot(Questions['QuestionTitleLength'])"
   ]
  },
  {
   "cell_type": "markdown",
   "metadata": {},
   "source": [
    "Now let's see if Stack Overflow's emphasis on a concise and straightforward title is grounded."
   ]
  },
  {
   "cell_type": "code",
   "execution_count": 63,
   "metadata": {},
   "outputs": [
    {
     "name": "stderr",
     "output_type": "stream",
     "text": [
      "/usr/local/lib/python3.4/dist-packages/matplotlib/axes/_axes.py:6462: UserWarning: The 'normed' kwarg is deprecated, and has been replaced by the 'density' kwarg.\n",
      "  warnings.warn(\"The 'normed' kwarg is deprecated, and has been \"\n"
     ]
    },
    {
     "data": {
      "text/plain": [
       "<seaborn.axisgrid.JointGrid at 0x7fe907a22e48>"
      ]
     },
     "execution_count": 63,
     "metadata": {},
     "output_type": "execute_result"
    },
    {
     "data": {
      "image/png": "[encoded data removed]",
      "text/plain": [
       "<Figure size 432x432 with 3 Axes>"
      ]
     },
     "metadata": {},
     "output_type": "display_data"
    }
   ],
   "source": [
    "sns.jointplot(x=\"QuestionTitleLength\", y=\"NumAnswers\", data=Questions)"
   ]
  },
  {
   "cell_type": "code",
   "execution_count": 64,
   "metadata": {},
   "outputs": [
    {
     "data": {
      "text/plain": [
       "<matplotlib.axes._subplots.AxesSubplot at 0x7fe9079beb70>"
      ]
     },
     "execution_count": 64,
     "metadata": {},
     "output_type": "execute_result"
    },
    {
     "data": {
      "image/png": "[encoded data removed]",
      "text/plain": [
       "<Figure size 432x288 with 1 Axes>"
      ]
     },
     "metadata": {},
     "output_type": "display_data"
    }
   ],
   "source": [
    "sns.regplot(x=\"QuestionTitleLength\", y=\"NumAnswers\", data=Questions, \n",
    "    ci = None,\n",
    "    scatter_kws={\"color\":\"darkred\",\"alpha\":0.1,\"s\":50},\n",
    "    line_kws={\"color\":\"b\",\"alpha\":0.5,\"lw\":4})"
   ]
  },
  {
   "cell_type": "code",
   "execution_count": 65,
   "metadata": {},
   "outputs": [
    {
     "data": {
      "text/plain": [
       "<matplotlib.axes._subplots.AxesSubplot at 0x7fe8f78980f0>"
      ]
     },
     "execution_count": 65,
     "metadata": {},
     "output_type": "execute_result"
    },
    {
     "data": {
      "image/png": "[encoded data removed]",
      "text/plain": [
       "<Figure size 432x288 with 1 Axes>"
      ]
     },
     "metadata": {},
     "output_type": "display_data"
    }
   ],
   "source": [
    "sns.regplot(x=\"QuestionTitleLength\", y=\"NumAnswers\", data=Questions, \n",
    "    order = 2,\n",
    "    ci = None,\n",
    "    scatter_kws={\"color\":\"darkred\",\"alpha\":0.1,\"s\":50},\n",
    "    line_kws={\"color\":\"b\",\"alpha\":0.5,\"lw\":4})"
   ]
  },
  {
   "cell_type": "markdown",
   "metadata": {},
   "source": [
    "Looks like there are too many points by the baseline to let the quadratic fit. Regardless, there appears to be a more ideal question title length, in the range between 5 and 10."
   ]
  },
  {
   "cell_type": "markdown",
   "metadata": {},
   "source": [
    "## Conclusion"
   ]
  },
  {
   "cell_type": "markdown",
   "metadata": {},
   "source": [
    "Overall, it seems like many easily capturable \"common sense\" practices of asking good questions didn't translate to more answers or higher likelihoods of getting an answer. It'd be interesting to know how Stack Overflow's server automatically filters out questions that don't meet minimum standards.\n",
    "\n",
    "However, we did find that including at least two lines of code does help improve both number of answers and likelihood of getting an answer, and keeping your questions short also tends to lead to more answers. Hope this was interesting and got you thinking about what makes a \"good\" question!"
   ]
  },
  {
   "cell_type": "code",
   "execution_count": 66,
   "metadata": {},
   "outputs": [
    {
     "data": {
      "text/plain": [
       "Index(['QID', 'QuestionUserId', 'QuestionCreateDate', 'QuestionScore',\n",
       "       'QuestionTitle', 'QuestionBody', 'NumAnswers', 'QuestionTitleAndBody',\n",
       "       'CodeText', 'TagFreeNonCodeText', 'CodeTextLemmatized',\n",
       "       'TagFreeNonCodeTextLemmatized', 'HasError', 'HasTraceback',\n",
       "       'HasMultiLineCode', 'HasBlockCode', 'HasHyperlink', 'HasEmbedImage',\n",
       "       'HasTried', 'Tags', 'NumTags', 'HasTagsInTop49', 'QuestionLength',\n",
       "       'QuestionCodeLength', 'QuestionTitleLength'],\n",
       "      dtype='object')"
      ]
     },
     "execution_count": 66,
     "metadata": {},
     "output_type": "execute_result"
    }
   ],
   "source": [
    "Questions.columns"
   ]
  },
  {
   "cell_type": "code",
   "execution_count": 67,
   "metadata": {},
   "outputs": [
    {
     "name": "stderr",
     "output_type": "stream",
     "text": [
      "/usr/local/lib/python3.4/dist-packages/matplotlib/axes/_axes.py:6462: UserWarning: The 'normed' kwarg is deprecated, and has been replaced by the 'density' kwarg.\n",
      "  warnings.warn(\"The 'normed' kwarg is deprecated, and has been \"\n"
     ]
    },
    {
     "data": {
      "text/plain": [
       "<matplotlib.axes._subplots.AxesSubplot at 0x7fe8da33e438>"
      ]
     },
     "execution_count": 67,
     "metadata": {},
     "output_type": "execute_result"
    },
    {
     "data": {
      "image/png": "[encoded data removed]",
      "text/plain": [
       "<Figure size 432x288 with 1 Axes>"
      ]
     },
     "metadata": {},
     "output_type": "display_data"
    }
   ],
   "source": [
    "sns.distplot(Questions['NumAnswers'], kde=False)"
   ]
  },
  {
   "cell_type": "code",
   "execution_count": 68,
   "metadata": {},
   "outputs": [],
   "source": [
    "Questions['QuestionPercentCode'] = Questions['QuestionCodeLength'] / (Questions['QuestionCodeLength'] + Questions['QuestionLength'])"
   ]
  },
  {
   "cell_type": "code",
   "execution_count": 72,
   "metadata": {},
   "outputs": [],
   "source": [
    "Questions.to_csv('FEQuestions.csv', index=False)"
   ]
  },
  {
   "cell_type": "code",
   "execution_count": null,
   "metadata": {},
   "outputs": [],
   "source": []
  }
 ],
 "metadata": {
  "kernelspec": {
   "display_name": "Python 3",
   "language": "python",
   "name": "python3"
  },
  "language_info": {
   "codemirror_mode": {
    "name": "ipython",
    "version": 3
   },
   "file_extension": ".py",
   "mimetype": "text/x-python",
   "name": "python",
   "nbconvert_exporter": "python",
   "pygments_lexer": "ipython3",
   "version": "3.4.3"
  }
 },
 "nbformat": 4,
 "nbformat_minor": 2
}
