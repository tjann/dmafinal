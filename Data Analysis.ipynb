{
 "cells": [
  {
   "cell_type": "markdown",
   "metadata": {},
   "source": [
    "# Asking and Answering Questions on Stack Overflow\n",
    "Stack Overflow has released official [How do I ask a good question?](https://stackoverflow.com/help/how-to-ask) and [How do I write a good answer?](https://stackoverflow.com/help/how-to-answer) guides.\n",
    "\n",
    "Why do we care about the quality of the questions asked? Where does that put the pedagogical \"There is no such thing as a bad question?\"\n",
    "\n",
    "Although there is an educational aspect to Stack Overflow, at the end of the day, it is a question and answer forum for developers to get and give help. If you are asking for help, you want to maximize your chances of getting it. If you are helping, you want to maximize your chances of being effective at helping. In this context, we could rephrase \"good\" questions to be questions likely to be answered, and \"good\" answers to be answers likely to be accepted.\n",
    "\n",
    "Stack Overflow has the feature that\n",
    "\n",
    "> Sometimes users encounter the following message when posting a question: \n",
    ">> 'This post does not meet our quality standards.'\n",
    "\n",
    ">If you see this message, then your question was automatically blocked by the server. All new questions are subjected to a \"minimum quality\" filter that checks for some basic indicators of a good, complete question. Check to make sure that your question has the following:\n",
    "A clear title.\n",
    "A reasonable explanation of what your question is. Add as much detail as you can.\n",
    "Any background research you've tried but wasn't enough to solve your problem.\n",
    "Correct use of English spelling and grammar to the best of your ability.\n",
    "\n",
    "However, everything they list above is quite subjective. Let's explore what features correlate with the votes and answers for a question."
   ]
  },
  {
   "cell_type": "code",
   "execution_count": 1,
   "metadata": {},
   "outputs": [],
   "source": [
    "import pandas as pd\n",
    "import numpy as np\n",
    "import matplotlib.pyplot as plt\n",
    "%matplotlib inline\n",
    "import seaborn as sns\n",
    "import nltk\n",
    "from nltk.tokenize import word_tokenize\n",
    "from nltk.corpus import stopwords\n",
    "from nltk.stem import WordNetLemmatizer\n",
    "import re"
   ]
  },
  {
   "cell_type": "markdown",
   "metadata": {},
   "source": [
    "Let's read in the processed data by Text\\ Processing.ipynb"
   ]
  },
  {
   "cell_type": "code",
   "execution_count": 2,
   "metadata": {},
   "outputs": [],
   "source": [
    "Questions = pd.read_csv('LemmatizedQuestions.csv', encoding=\"ISO-8859-1\")\n",
    "Answers = pd.read_csv('LemmatizedAnswers.csv', encoding=\"ISO-8859-1\")\n",
    "Tags = pd.read_csv('pythonquestions/Tags.csv', encoding=\"ISO-8859-1\")\n",
    "Tags.columns = ['TID', 'Tag']"
   ]
  },
  {
   "cell_type": "code",
   "execution_count": 3,
   "metadata": {},
   "outputs": [
    {
     "name": "stdout",
     "output_type": "stream",
     "text": [
      "(607282, 8)\n"
     ]
    },
    {
     "data": {
      "text/html": [
       "<div>\n",
       "<style scoped>\n",
       "    .dataframe tbody tr th:only-of-type {\n",
       "        vertical-align: middle;\n",
       "    }\n",
       "\n",
       "    .dataframe tbody tr th {\n",
       "        vertical-align: top;\n",
       "    }\n",
       "\n",
       "    .dataframe thead th {\n",
       "        text-align: right;\n",
       "    }\n",
       "</style>\n",
       "<table border=\"1\" class=\"dataframe\">\n",
       "  <thead>\n",
       "    <tr style=\"text-align: right;\">\n",
       "      <th></th>\n",
       "      <th>QID</th>\n",
       "      <th>QuestionUserId</th>\n",
       "      <th>QuestionCreateDate</th>\n",
       "      <th>QuestionScore</th>\n",
       "      <th>QuestionTitle</th>\n",
       "      <th>QuestionBody</th>\n",
       "      <th>QuestionTitleAndBody</th>\n",
       "      <th>QuestionTitleAndBodyLemmatized</th>\n",
       "    </tr>\n",
       "  </thead>\n",
       "  <tbody>\n",
       "    <tr>\n",
       "      <th>0</th>\n",
       "      <td>469</td>\n",
       "      <td>147.0</td>\n",
       "      <td>2008-08-02T15:11:16Z</td>\n",
       "      <td>21</td>\n",
       "      <td>How can I find the full path to a font from it...</td>\n",
       "      <td>&lt;p&gt;I am using the Photoshop's javascript API t...</td>\n",
       "      <td>How can I find the full path to a font from it...</td>\n",
       "      <td>['How', 'can', 'I', 'find', 'the', 'full', 'pa...</td>\n",
       "    </tr>\n",
       "    <tr>\n",
       "      <th>1</th>\n",
       "      <td>502</td>\n",
       "      <td>147.0</td>\n",
       "      <td>2008-08-02T17:01:58Z</td>\n",
       "      <td>27</td>\n",
       "      <td>Get a preview JPEG of a PDF on Windows?</td>\n",
       "      <td>&lt;p&gt;I have a cross-platform (Python) applicatio...</td>\n",
       "      <td>Get a preview JPEG of a PDF on Windows? &lt;p&gt;I h...</td>\n",
       "      <td>['Get', 'a', 'preview', 'JPEG', 'of', 'a', 'PD...</td>\n",
       "    </tr>\n",
       "    <tr>\n",
       "      <th>2</th>\n",
       "      <td>535</td>\n",
       "      <td>154.0</td>\n",
       "      <td>2008-08-02T18:43:54Z</td>\n",
       "      <td>40</td>\n",
       "      <td>Continuous Integration System for a Python Cod...</td>\n",
       "      <td>&lt;p&gt;I'm starting work on a hobby project with a...</td>\n",
       "      <td>Continuous Integration System for a Python Cod...</td>\n",
       "      <td>['Continuous', 'Integration', 'System', 'for',...</td>\n",
       "    </tr>\n",
       "    <tr>\n",
       "      <th>3</th>\n",
       "      <td>594</td>\n",
       "      <td>116.0</td>\n",
       "      <td>2008-08-03T01:15:08Z</td>\n",
       "      <td>25</td>\n",
       "      <td>cx_Oracle: How do I iterate over a result set?</td>\n",
       "      <td>&lt;p&gt;There are several ways to iterate over a re...</td>\n",
       "      <td>cx_Oracle: How do I iterate over a result set?...</td>\n",
       "      <td>['cx_Oracle', ':', 'How', 'do', 'I', 'iterate'...</td>\n",
       "    </tr>\n",
       "    <tr>\n",
       "      <th>4</th>\n",
       "      <td>683</td>\n",
       "      <td>199.0</td>\n",
       "      <td>2008-08-03T13:19:16Z</td>\n",
       "      <td>28</td>\n",
       "      <td>Using 'in' to match an attribute of Python obj...</td>\n",
       "      <td>&lt;p&gt;I don't remember whether I was dreaming or ...</td>\n",
       "      <td>Using 'in' to match an attribute of Python obj...</td>\n",
       "      <td>['Using', \"'in\", \"'\", 'to', 'match', 'an', 'at...</td>\n",
       "    </tr>\n",
       "  </tbody>\n",
       "</table>\n",
       "</div>"
      ],
      "text/plain": [
       "   QID  QuestionUserId    QuestionCreateDate  QuestionScore  \\\n",
       "0  469           147.0  2008-08-02T15:11:16Z             21   \n",
       "1  502           147.0  2008-08-02T17:01:58Z             27   \n",
       "2  535           154.0  2008-08-02T18:43:54Z             40   \n",
       "3  594           116.0  2008-08-03T01:15:08Z             25   \n",
       "4  683           199.0  2008-08-03T13:19:16Z             28   \n",
       "\n",
       "                                       QuestionTitle  \\\n",
       "0  How can I find the full path to a font from it...   \n",
       "1            Get a preview JPEG of a PDF on Windows?   \n",
       "2  Continuous Integration System for a Python Cod...   \n",
       "3     cx_Oracle: How do I iterate over a result set?   \n",
       "4  Using 'in' to match an attribute of Python obj...   \n",
       "\n",
       "                                        QuestionBody  \\\n",
       "0  <p>I am using the Photoshop's javascript API t...   \n",
       "1  <p>I have a cross-platform (Python) applicatio...   \n",
       "2  <p>I'm starting work on a hobby project with a...   \n",
       "3  <p>There are several ways to iterate over a re...   \n",
       "4  <p>I don't remember whether I was dreaming or ...   \n",
       "\n",
       "                                QuestionTitleAndBody  \\\n",
       "0  How can I find the full path to a font from it...   \n",
       "1  Get a preview JPEG of a PDF on Windows? <p>I h...   \n",
       "2  Continuous Integration System for a Python Cod...   \n",
       "3  cx_Oracle: How do I iterate over a result set?...   \n",
       "4  Using 'in' to match an attribute of Python obj...   \n",
       "\n",
       "                      QuestionTitleAndBodyLemmatized  \n",
       "0  ['How', 'can', 'I', 'find', 'the', 'full', 'pa...  \n",
       "1  ['Get', 'a', 'preview', 'JPEG', 'of', 'a', 'PD...  \n",
       "2  ['Continuous', 'Integration', 'System', 'for',...  \n",
       "3  ['cx_Oracle', ':', 'How', 'do', 'I', 'iterate'...  \n",
       "4  ['Using', \"'in\", \"'\", 'to', 'match', 'an', 'at...  "
      ]
     },
     "execution_count": 3,
     "metadata": {},
     "output_type": "execute_result"
    }
   ],
   "source": [
    "print(Questions.shape)\n",
    "Questions.head()"
   ]
  },
  {
   "cell_type": "code",
   "execution_count": 4,
   "metadata": {},
   "outputs": [
    {
     "name": "stdout",
     "output_type": "stream",
     "text": [
      "(987122, 7)\n"
     ]
    },
    {
     "data": {
      "text/html": [
       "<div>\n",
       "<style scoped>\n",
       "    .dataframe tbody tr th:only-of-type {\n",
       "        vertical-align: middle;\n",
       "    }\n",
       "\n",
       "    .dataframe tbody tr th {\n",
       "        vertical-align: top;\n",
       "    }\n",
       "\n",
       "    .dataframe thead th {\n",
       "        text-align: right;\n",
       "    }\n",
       "</style>\n",
       "<table border=\"1\" class=\"dataframe\">\n",
       "  <thead>\n",
       "    <tr style=\"text-align: right;\">\n",
       "      <th></th>\n",
       "      <th>AID</th>\n",
       "      <th>AnswerUserId</th>\n",
       "      <th>AnswerCreateDate</th>\n",
       "      <th>ParentId</th>\n",
       "      <th>AnswerScore</th>\n",
       "      <th>AnswerBody</th>\n",
       "      <th>AnswerBodyLemmatized</th>\n",
       "    </tr>\n",
       "  </thead>\n",
       "  <tbody>\n",
       "    <tr>\n",
       "      <th>0</th>\n",
       "      <td>497</td>\n",
       "      <td>50.0</td>\n",
       "      <td>2008-08-02T16:56:53Z</td>\n",
       "      <td>469</td>\n",
       "      <td>4</td>\n",
       "      <td>&lt;p&gt;open up a terminal (Applications-&amp;gt;Utilit...</td>\n",
       "      <td>['open', 'up', 'a', 'terminal', '(', 'Applicat...</td>\n",
       "    </tr>\n",
       "    <tr>\n",
       "      <th>1</th>\n",
       "      <td>518</td>\n",
       "      <td>153.0</td>\n",
       "      <td>2008-08-02T17:42:28Z</td>\n",
       "      <td>469</td>\n",
       "      <td>2</td>\n",
       "      <td>&lt;p&gt;I haven't been able to find anything that d...</td>\n",
       "      <td>['I', 'have', \"n't\", 'been', 'able', 'to', 'fi...</td>\n",
       "    </tr>\n",
       "    <tr>\n",
       "      <th>2</th>\n",
       "      <td>536</td>\n",
       "      <td>161.0</td>\n",
       "      <td>2008-08-02T18:49:07Z</td>\n",
       "      <td>502</td>\n",
       "      <td>9</td>\n",
       "      <td>&lt;p&gt;You can use ImageMagick's convert utility f...</td>\n",
       "      <td>['You', 'can', 'use', 'ImageMagick', \"'s\", 'co...</td>\n",
       "    </tr>\n",
       "    <tr>\n",
       "      <th>3</th>\n",
       "      <td>538</td>\n",
       "      <td>156.0</td>\n",
       "      <td>2008-08-02T18:56:56Z</td>\n",
       "      <td>535</td>\n",
       "      <td>23</td>\n",
       "      <td>&lt;p&gt;One possibility is Hudson.  It's written in...</td>\n",
       "      <td>['One', 'possibility', 'is', 'Hudson', '.', 'I...</td>\n",
       "    </tr>\n",
       "    <tr>\n",
       "      <th>4</th>\n",
       "      <td>541</td>\n",
       "      <td>157.0</td>\n",
       "      <td>2008-08-02T19:06:40Z</td>\n",
       "      <td>535</td>\n",
       "      <td>20</td>\n",
       "      <td>&lt;p&gt;We run &lt;a href=\"http://buildbot.net/trac\"&gt;B...</td>\n",
       "      <td>['We', 'run', 'Buildbot', '-', 'Trac', 'at', '...</td>\n",
       "    </tr>\n",
       "  </tbody>\n",
       "</table>\n",
       "</div>"
      ],
      "text/plain": [
       "   AID  AnswerUserId      AnswerCreateDate  ParentId  AnswerScore  \\\n",
       "0  497          50.0  2008-08-02T16:56:53Z       469            4   \n",
       "1  518         153.0  2008-08-02T17:42:28Z       469            2   \n",
       "2  536         161.0  2008-08-02T18:49:07Z       502            9   \n",
       "3  538         156.0  2008-08-02T18:56:56Z       535           23   \n",
       "4  541         157.0  2008-08-02T19:06:40Z       535           20   \n",
       "\n",
       "                                          AnswerBody  \\\n",
       "0  <p>open up a terminal (Applications-&gt;Utilit...   \n",
       "1  <p>I haven't been able to find anything that d...   \n",
       "2  <p>You can use ImageMagick's convert utility f...   \n",
       "3  <p>One possibility is Hudson.  It's written in...   \n",
       "4  <p>We run <a href=\"http://buildbot.net/trac\">B...   \n",
       "\n",
       "                                AnswerBodyLemmatized  \n",
       "0  ['open', 'up', 'a', 'terminal', '(', 'Applicat...  \n",
       "1  ['I', 'have', \"n't\", 'been', 'able', 'to', 'fi...  \n",
       "2  ['You', 'can', 'use', 'ImageMagick', \"'s\", 'co...  \n",
       "3  ['One', 'possibility', 'is', 'Hudson', '.', 'I...  \n",
       "4  ['We', 'run', 'Buildbot', '-', 'Trac', 'at', '...  "
      ]
     },
     "execution_count": 4,
     "metadata": {},
     "output_type": "execute_result"
    }
   ],
   "source": [
    "print(Answers.shape)\n",
    "Answers.head()"
   ]
  },
  {
   "cell_type": "code",
   "execution_count": 5,
   "metadata": {},
   "outputs": [
    {
     "name": "stdout",
     "output_type": "stream",
     "text": [
      "(1885078, 2)\n"
     ]
    },
    {
     "data": {
      "text/html": [
       "<div>\n",
       "<style scoped>\n",
       "    .dataframe tbody tr th:only-of-type {\n",
       "        vertical-align: middle;\n",
       "    }\n",
       "\n",
       "    .dataframe tbody tr th {\n",
       "        vertical-align: top;\n",
       "    }\n",
       "\n",
       "    .dataframe thead th {\n",
       "        text-align: right;\n",
       "    }\n",
       "</style>\n",
       "<table border=\"1\" class=\"dataframe\">\n",
       "  <thead>\n",
       "    <tr style=\"text-align: right;\">\n",
       "      <th></th>\n",
       "      <th>TID</th>\n",
       "      <th>Tag</th>\n",
       "    </tr>\n",
       "  </thead>\n",
       "  <tbody>\n",
       "    <tr>\n",
       "      <th>0</th>\n",
       "      <td>469</td>\n",
       "      <td>python</td>\n",
       "    </tr>\n",
       "    <tr>\n",
       "      <th>1</th>\n",
       "      <td>469</td>\n",
       "      <td>osx</td>\n",
       "    </tr>\n",
       "    <tr>\n",
       "      <th>2</th>\n",
       "      <td>469</td>\n",
       "      <td>fonts</td>\n",
       "    </tr>\n",
       "    <tr>\n",
       "      <th>3</th>\n",
       "      <td>469</td>\n",
       "      <td>photoshop</td>\n",
       "    </tr>\n",
       "    <tr>\n",
       "      <th>4</th>\n",
       "      <td>502</td>\n",
       "      <td>python</td>\n",
       "    </tr>\n",
       "  </tbody>\n",
       "</table>\n",
       "</div>"
      ],
      "text/plain": [
       "   TID        Tag\n",
       "0  469     python\n",
       "1  469        osx\n",
       "2  469      fonts\n",
       "3  469  photoshop\n",
       "4  502     python"
      ]
     },
     "execution_count": 5,
     "metadata": {},
     "output_type": "execute_result"
    }
   ],
   "source": [
    "print(Tags.shape)\n",
    "Tags.head()"
   ]
  },
  {
   "cell_type": "code",
   "execution_count": 6,
   "metadata": {},
   "outputs": [
    {
     "name": "stdout",
     "output_type": "stream",
     "text": [
      "QID                                  0\n",
      "QuestionUserId                    6212\n",
      "QuestionCreateDate                   0\n",
      "QuestionScore                        0\n",
      "QuestionTitle                        0\n",
      "QuestionBody                         0\n",
      "QuestionTitleAndBody                 0\n",
      "QuestionTitleAndBodyLemmatized       0\n",
      "dtype: int64\n",
      "AID                        0\n",
      "AnswerUserId            5367\n",
      "AnswerCreateDate           0\n",
      "ParentId                   0\n",
      "AnswerScore                0\n",
      "AnswerBody                 0\n",
      "AnswerBodyLemmatized       0\n",
      "dtype: int64\n",
      "TID      0\n",
      "Tag    443\n",
      "dtype: int64\n"
     ]
    }
   ],
   "source": [
    "print(Questions.isnull().sum())\n",
    "print(Answers.isnull().sum())\n",
    "print(Tags.isnull().sum())"
   ]
  },
  {
   "cell_type": "markdown",
   "metadata": {},
   "source": [
    "Looks like this data is pretty clean. The only nulls are for users (probably users that have deleted their accounts since posting), and tags (since these are optional)."
   ]
  },
  {
   "cell_type": "markdown",
   "metadata": {},
   "source": [
    "### Question 1: How many users are engaged on Q, A, & Q&A?"
   ]
  },
  {
   "cell_type": "code",
   "execution_count": 7,
   "metadata": {},
   "outputs": [],
   "source": [
    "User_id_inQ = Questions['QuestionUserId'].unique()\n",
    "User_id_inA = Answers['AnswerUserId'].unique()\n",
    "User_id_inBoth=set(User_id_inQ).intersection(User_id_inA)"
   ]
  },
  {
   "cell_type": "code",
   "execution_count": 8,
   "metadata": {},
   "outputs": [
    {
     "name": "stdout",
     "output_type": "stream",
     "text": [
      "213928 users posting questions\n",
      "149177 users posting answers\n",
      "63779 users posting both\n"
     ]
    }
   ],
   "source": [
    "print(str(len(User_id_inQ)) + ' users posting questions')\n",
    "print(str(len(User_id_inA)) + ' users posting answers')\n",
    "print(str(len(User_id_inBoth)) + ' users posting both')"
   ]
  },
  {
   "cell_type": "markdown",
   "metadata": {},
   "source": [
    "## So, what makes a good question?\n",
    "Specifically \"to improve your chances of getting an answer\", Stack Overflow suggests\n",
    "- Search and research before posting\n",
    "- Have an informative title\n",
    "- Include any error messages, key APIs, or unusual circumstances\n",
    "- Introduce the problem before posting any code\n",
    "- \"Not all questions benefit from including code. But if your problem is with code you've written, you should include some.\"\n",
    "- Include all relevant tags\n",
    "- Proofread\n",
    "\n",
    "Let's examine whether or not including error messages (and the closely related traceback), code, and tags truly improve a question's chances of getting an answer."
   ]
  },
  {
   "cell_type": "markdown",
   "metadata": {},
   "source": [
    "### Question 2: How many questions contain Python-formatted errors?"
   ]
  },
  {
   "cell_type": "code",
   "execution_count": 9,
   "metadata": {},
   "outputs": [],
   "source": [
    "Questions['HasError'] = Questions['QuestionBody'].str.contains(\"[A-Z][a-z]+Error:\\s\")"
   ]
  },
  {
   "cell_type": "code",
   "execution_count": 10,
   "metadata": {},
   "outputs": [
    {
     "name": "stdout",
     "output_type": "stream",
     "text": [
      "0.14075997641952173 of questions have a full Python-formatted error message\n"
     ]
    }
   ],
   "source": [
    "print(str(Questions['HasError'].sum() / Questions['HasError'].count()) + \" of questions have a full Python-formatted error message\")"
   ]
  },
  {
   "cell_type": "markdown",
   "metadata": {},
   "source": [
    "### Question 3: How many questions contain Python-formatted tracebacks?"
   ]
  },
  {
   "cell_type": "code",
   "execution_count": 11,
   "metadata": {},
   "outputs": [],
   "source": [
    "Questions['HasTraceback'] = Questions['QuestionBody'].str.contains(\"Traceback \\(most recent call last\\):\")"
   ]
  },
  {
   "cell_type": "code",
   "execution_count": 12,
   "metadata": {},
   "outputs": [
    {
     "name": "stdout",
     "output_type": "stream",
     "text": [
      "0.06771977433877506 of questions have a full Python-formatted traceback\n"
     ]
    }
   ],
   "source": [
    "print(str(Questions['HasTraceback'].sum() / Questions['HasTraceback'].count()) + \" of questions have a full Python-formatted traceback\")"
   ]
  },
  {
   "cell_type": "markdown",
   "metadata": {},
   "source": [
    "### Question 4: How many questions contain code?"
   ]
  },
  {
   "cell_type": "code",
   "execution_count": 13,
   "metadata": {},
   "outputs": [],
   "source": [
    "Questions['HasMultiLineCode'] = Questions['QuestionBody'].str.contains(\"<code>.*\\n.*</code>\")"
   ]
  },
  {
   "cell_type": "code",
   "execution_count": 14,
   "metadata": {},
   "outputs": [
    {
     "name": "stdout",
     "output_type": "stream",
     "text": [
      "0.23783514084066382 of questions have multi line code\n"
     ]
    }
   ],
   "source": [
    "print(str(Questions['HasMultiLineCode'].sum() / Questions['HasMultiLineCode'].count()) + \" of questions have multi line code\")"
   ]
  },
  {
   "cell_type": "markdown",
   "metadata": {},
   "source": [
    "### Overall average number of answers per question"
   ]
  },
  {
   "cell_type": "code",
   "execution_count": 80,
   "metadata": {},
   "outputs": [
    {
     "data": {
      "text/plain": [
       "Index(['QID', 'QuestionUserId', 'QuestionCreateDate', 'QuestionScore',\n",
       "       'QuestionTitle', 'QuestionBody', 'QuestionTitleAndBody',\n",
       "       'QuestionTitleAndBodyLemmatized', 'HasError', 'HasTraceback',\n",
       "       'HasMultiLineCode', 'NumTags', 'NumAnswers'],\n",
       "      dtype='object')"
      ]
     },
     "execution_count": 80,
     "metadata": {},
     "output_type": "execute_result"
    }
   ],
   "source": [
    "# Questions.drop('NumAnswers', axis=1, inplace=True)\n",
    "Questions.columns"
   ]
  },
  {
   "cell_type": "code",
   "execution_count": 77,
   "metadata": {},
   "outputs": [],
   "source": [
    "QA = Questions.merge(Answers, how='left', left_on='QID', right_on='ParentId')"
   ]
  },
  {
   "cell_type": "code",
   "execution_count": 78,
   "metadata": {},
   "outputs": [],
   "source": [
    "AnswersPerQuestion = QA.groupby('QID').count().iloc[:,[0]].reset_index()\n",
    "AnswersPerQuestion.columns = ['QID', 'NumAnswers']\n",
    "Questions = Questions.merge(AnswersPerQuestion, how='left', on='QID')\n",
    "Questions[['NumAnswers']] = Questions[['NumAnswers']].fillna(0)"
   ]
  },
  {
   "cell_type": "code",
   "execution_count": 81,
   "metadata": {},
   "outputs": [],
   "source": [
    "QA = Questions.merge(Answers, how='left', left_on='QID', right_on='ParentId')"
   ]
  },
  {
   "cell_type": "code",
   "execution_count": 17,
   "metadata": {},
   "outputs": [
    {
     "name": "stdout",
     "output_type": "stream",
     "text": [
      "total average answers 1.7151290504246792\n"
     ]
    }
   ],
   "source": [
    "total_average_answers = AnswersPerQuestion['NumAnswers'].sum() / AnswersPerQuestion['NumAnswers'].count()\n",
    "print('total average answers ' + str(total_average_answers))"
   ]
  },
  {
   "cell_type": "markdown",
   "metadata": {},
   "source": [
    "### Overall answer rate per question"
   ]
  },
  {
   "cell_type": "code",
   "execution_count": 87,
   "metadata": {},
   "outputs": [
    {
     "data": {
      "text/html": [
       "<div>\n",
       "<style scoped>\n",
       "    .dataframe tbody tr th:only-of-type {\n",
       "        vertical-align: middle;\n",
       "    }\n",
       "\n",
       "    .dataframe tbody tr th {\n",
       "        vertical-align: top;\n",
       "    }\n",
       "\n",
       "    .dataframe thead th {\n",
       "        text-align: right;\n",
       "    }\n",
       "</style>\n",
       "<table border=\"1\" class=\"dataframe\">\n",
       "  <thead>\n",
       "    <tr style=\"text-align: right;\">\n",
       "      <th></th>\n",
       "      <th>QID</th>\n",
       "      <th>QuestionUserId</th>\n",
       "      <th>QuestionCreateDate</th>\n",
       "      <th>QuestionScore</th>\n",
       "      <th>QuestionTitle</th>\n",
       "      <th>QuestionBody</th>\n",
       "      <th>QuestionTitleAndBody</th>\n",
       "      <th>QuestionTitleAndBodyLemmatized</th>\n",
       "      <th>HasError</th>\n",
       "      <th>HasTraceback</th>\n",
       "      <th>HasMultiLineCode</th>\n",
       "      <th>NumTags</th>\n",
       "    </tr>\n",
       "    <tr>\n",
       "      <th>NumAnswers</th>\n",
       "      <th></th>\n",
       "      <th></th>\n",
       "      <th></th>\n",
       "      <th></th>\n",
       "      <th></th>\n",
       "      <th></th>\n",
       "      <th></th>\n",
       "      <th></th>\n",
       "      <th></th>\n",
       "      <th></th>\n",
       "      <th></th>\n",
       "      <th></th>\n",
       "    </tr>\n",
       "  </thead>\n",
       "  <tbody>\n",
       "    <tr>\n",
       "      <th>0</th>\n",
       "      <td>6212</td>\n",
       "      <td>0</td>\n",
       "      <td>6212</td>\n",
       "      <td>6212</td>\n",
       "      <td>6212</td>\n",
       "      <td>6212</td>\n",
       "      <td>6212</td>\n",
       "      <td>6212</td>\n",
       "      <td>6212</td>\n",
       "      <td>6212</td>\n",
       "      <td>6212</td>\n",
       "      <td>6212</td>\n",
       "    </tr>\n",
       "    <tr>\n",
       "      <th>1</th>\n",
       "      <td>357824</td>\n",
       "      <td>357824</td>\n",
       "      <td>357824</td>\n",
       "      <td>357824</td>\n",
       "      <td>357824</td>\n",
       "      <td>357824</td>\n",
       "      <td>357824</td>\n",
       "      <td>357824</td>\n",
       "      <td>357824</td>\n",
       "      <td>357824</td>\n",
       "      <td>357824</td>\n",
       "      <td>357824</td>\n",
       "    </tr>\n",
       "    <tr>\n",
       "      <th>2</th>\n",
       "      <td>139729</td>\n",
       "      <td>139729</td>\n",
       "      <td>139729</td>\n",
       "      <td>139729</td>\n",
       "      <td>139729</td>\n",
       "      <td>139729</td>\n",
       "      <td>139729</td>\n",
       "      <td>139729</td>\n",
       "      <td>139729</td>\n",
       "      <td>139729</td>\n",
       "      <td>139729</td>\n",
       "      <td>139729</td>\n",
       "    </tr>\n",
       "    <tr>\n",
       "      <th>3</th>\n",
       "      <td>57905</td>\n",
       "      <td>57905</td>\n",
       "      <td>57905</td>\n",
       "      <td>57905</td>\n",
       "      <td>57905</td>\n",
       "      <td>57905</td>\n",
       "      <td>57905</td>\n",
       "      <td>57905</td>\n",
       "      <td>57905</td>\n",
       "      <td>57905</td>\n",
       "      <td>57905</td>\n",
       "      <td>57905</td>\n",
       "    </tr>\n",
       "    <tr>\n",
       "      <th>4</th>\n",
       "      <td>24561</td>\n",
       "      <td>24561</td>\n",
       "      <td>24561</td>\n",
       "      <td>24561</td>\n",
       "      <td>24561</td>\n",
       "      <td>24561</td>\n",
       "      <td>24561</td>\n",
       "      <td>24561</td>\n",
       "      <td>24561</td>\n",
       "      <td>24561</td>\n",
       "      <td>24561</td>\n",
       "      <td>24561</td>\n",
       "    </tr>\n",
       "  </tbody>\n",
       "</table>\n",
       "</div>"
      ],
      "text/plain": [
       "               QID  QuestionUserId  QuestionCreateDate  QuestionScore  \\\n",
       "NumAnswers                                                              \n",
       "0             6212               0                6212           6212   \n",
       "1           357824          357824              357824         357824   \n",
       "2           139729          139729              139729         139729   \n",
       "3            57905           57905               57905          57905   \n",
       "4            24561           24561               24561          24561   \n",
       "\n",
       "            QuestionTitle  QuestionBody  QuestionTitleAndBody  \\\n",
       "NumAnswers                                                      \n",
       "0                    6212          6212                  6212   \n",
       "1                  357824        357824                357824   \n",
       "2                  139729        139729                139729   \n",
       "3                   57905         57905                 57905   \n",
       "4                   24561         24561                 24561   \n",
       "\n",
       "            QuestionTitleAndBodyLemmatized  HasError  HasTraceback  \\\n",
       "NumAnswers                                                           \n",
       "0                                     6212      6212          6212   \n",
       "1                                   357824    357824        357824   \n",
       "2                                   139729    139729        139729   \n",
       "3                                    57905     57905         57905   \n",
       "4                                    24561     24561         24561   \n",
       "\n",
       "            HasMultiLineCode  NumTags  \n",
       "NumAnswers                             \n",
       "0                       6212     6212  \n",
       "1                     357824   357824  \n",
       "2                     139729   139729  \n",
       "3                      57905    57905  \n",
       "4                      24561    24561  "
      ]
     },
     "execution_count": 87,
     "metadata": {},
     "output_type": "execute_result"
    }
   ],
   "source": [
    "Questions.groupby('NumAnswers').count().head()"
   ]
  },
  {
   "cell_type": "code",
   "execution_count": 44,
   "metadata": {},
   "outputs": [
    {
     "data": {
      "text/plain": [
       "QID    607282\n",
       "dtype: int64"
      ]
     },
     "execution_count": 44,
     "metadata": {},
     "output_type": "execute_result"
    }
   ],
   "source": [
    "AnswersPerQuestion.groupby('NumAnswers').count().sum()"
   ]
  },
  {
   "cell_type": "code",
   "execution_count": 50,
   "metadata": {},
   "outputs": [
    {
     "name": "stdout",
     "output_type": "stream",
     "text": [
      "total answer rate 0.9897708148767789\n"
     ]
    }
   ],
   "source": [
    "total_answer_rate = (Questions.shape[0] - AnswersPerQuestion.groupby('NumAnswers').count().iloc[0,0]) / Questions.shape[0]\n",
    "print('total answer rate ' + str(total_answer_rate))"
   ]
  },
  {
   "cell_type": "markdown",
   "metadata": {},
   "source": [
    "### Question 6: Do questions with errors have more or less than 1.7 answers?"
   ]
  },
  {
   "cell_type": "code",
   "execution_count": 51,
   "metadata": {},
   "outputs": [
    {
     "name": "stdout",
     "output_type": "stream",
     "text": [
      "error average answers 1.4572361109486318\n"
     ]
    }
   ],
   "source": [
    "AnswersPerQuestionWithError = Questions[Questions['HasError']].groupby('QID').count()\n",
    "hasError_average_answers = AnswersPerQuestionWithError['AnswerCreateDate'].sum() / len(AnswersPerQuestionWithError['AnswerCreateDate'])\n",
    "print('error average answers ' + str(hasError_average_answers))\n",
    "hasError_answer_rate = (Questions.shape[0] - AnswersPerQuestion.groupby('NumAnswers').count().iloc[0,0]) / Questions.shape[0]\n",
    "print('total answer rate ' + str(hasError_answer_rate))"
   ]
  },
  {
   "cell_type": "markdown",
   "metadata": {},
   "source": [
    "### Question 7: Do questions with tracebacks have more or less than 1.83 answers?"
   ]
  },
  {
   "cell_type": "code",
   "execution_count": 52,
   "metadata": {},
   "outputs": [
    {
     "name": "stdout",
     "output_type": "stream",
     "text": [
      "traceback average answers 1.4572361109486318\n"
     ]
    }
   ],
   "source": [
    "AnswersPerQuestionWithTraceback = QA[QA['HasTraceback']].groupby('QID').count()\n",
    "hasTraceback_average_answers = AnswersPerQuestionWithTraceback['AnswerCreateDate'].sum() / len(AnswersPerQuestionWithTraceback['AnswerCreateDate'])\n",
    "print('traceback average answers ' + str(hasError_average_answers))"
   ]
  },
  {
   "cell_type": "markdown",
   "metadata": {},
   "source": [
    "### Question 8: Do questions with errors and tracebacks have more or less than 1.7 answers?"
   ]
  },
  {
   "cell_type": "code",
   "execution_count": 53,
   "metadata": {},
   "outputs": [
    {
     "name": "stdout",
     "output_type": "stream",
     "text": [
      "error traceback average answers 1.4304368902623765\n"
     ]
    }
   ],
   "source": [
    "AnswersPerQuestionWithErrorAndTraceback = QA[(QA['HasError'] & QA['HasTraceback'])].groupby('QID').count()\n",
    "hasErrorAndTraceback_average_answers = AnswersPerQuestionWithErrorAndTraceback['AnswerCreateDate'].sum() / len(AnswersPerQuestionWithErrorAndTraceback['AnswerCreateDate'])\n",
    "print('error traceback average answers ' + str(hasErrorAndTraceback_average_answers))"
   ]
  },
  {
   "cell_type": "markdown",
   "metadata": {},
   "source": [
    "### Question 9: Do questions with code have more or less than 1.7 answers?"
   ]
  },
  {
   "cell_type": "code",
   "execution_count": 25,
   "metadata": {},
   "outputs": [
    {
     "name": "stdout",
     "output_type": "stream",
     "text": [
      "multiline code average answers 3.270530756087142\n"
     ]
    }
   ],
   "source": [
    "AnswersPerQuestionWithMultiLineCode = QA[QA['HasMultiLineCode']].groupby('QID').count()\n",
    "hasMultiLineCode_average_answers = AnswersPerQuestionWithMultiLineCode['AnswerCreateDate'].sum() / len(AnswersPerQuestionWithError['AnswerCreateDate'])\n",
    "print('multiline code average answers ' + str(hasMultiLineCode_average_answers))"
   ]
  },
  {
   "cell_type": "markdown",
   "metadata": {},
   "source": [
    "### Overall average number of tags per question"
   ]
  },
  {
   "cell_type": "code",
   "execution_count": 26,
   "metadata": {},
   "outputs": [],
   "source": [
    "QT = Questions.merge(Tags, how='left', left_on='QID', right_on='TID')"
   ]
  },
  {
   "cell_type": "code",
   "execution_count": 27,
   "metadata": {},
   "outputs": [],
   "source": [
    "TagsPerQuestion = QT.groupby('QID').count().iloc[:,[0]].reset_index()\n",
    "TagsPerQuestion.columns = ['QID', 'NumTags']\n",
    "Questions = Questions.merge(TagsPerQuestion, how='left', on='QID')\n",
    "Questions[['NumTags']] = Questions[['NumTags']].fillna(0)"
   ]
  },
  {
   "cell_type": "code",
   "execution_count": 28,
   "metadata": {},
   "outputs": [
    {
     "data": {
      "text/html": [
       "<div>\n",
       "<style scoped>\n",
       "    .dataframe tbody tr th:only-of-type {\n",
       "        vertical-align: middle;\n",
       "    }\n",
       "\n",
       "    .dataframe tbody tr th {\n",
       "        vertical-align: top;\n",
       "    }\n",
       "\n",
       "    .dataframe thead th {\n",
       "        text-align: right;\n",
       "    }\n",
       "</style>\n",
       "<table border=\"1\" class=\"dataframe\">\n",
       "  <thead>\n",
       "    <tr style=\"text-align: right;\">\n",
       "      <th></th>\n",
       "      <th>QID</th>\n",
       "      <th>NumTags</th>\n",
       "    </tr>\n",
       "  </thead>\n",
       "  <tbody>\n",
       "    <tr>\n",
       "      <th>0</th>\n",
       "      <td>469</td>\n",
       "      <td>4</td>\n",
       "    </tr>\n",
       "    <tr>\n",
       "      <th>1</th>\n",
       "      <td>502</td>\n",
       "      <td>4</td>\n",
       "    </tr>\n",
       "    <tr>\n",
       "      <th>2</th>\n",
       "      <td>535</td>\n",
       "      <td>3</td>\n",
       "    </tr>\n",
       "    <tr>\n",
       "      <th>3</th>\n",
       "      <td>594</td>\n",
       "      <td>5</td>\n",
       "    </tr>\n",
       "    <tr>\n",
       "      <th>4</th>\n",
       "      <td>683</td>\n",
       "      <td>3</td>\n",
       "    </tr>\n",
       "  </tbody>\n",
       "</table>\n",
       "</div>"
      ],
      "text/plain": [
       "   QID  NumTags\n",
       "0  469        4\n",
       "1  502        4\n",
       "2  535        3\n",
       "3  594        5\n",
       "4  683        3"
      ]
     },
     "execution_count": 28,
     "metadata": {},
     "output_type": "execute_result"
    }
   ],
   "source": [
    "TagsPerQuestion.head()"
   ]
  },
  {
   "cell_type": "code",
   "execution_count": 29,
   "metadata": {},
   "outputs": [
    {
     "name": "stdout",
     "output_type": "stream",
     "text": [
      "total average tags 3.0744991618391455\n"
     ]
    }
   ],
   "source": [
    "total_average_tags = TagsPerQuestion['NumTags'].sum() / TagsPerQuestion['NumTags'].count()\n",
    "print('total average tags ' + str(total_average_tags))"
   ]
  },
  {
   "cell_type": "code",
   "execution_count": 30,
   "metadata": {},
   "outputs": [
    {
     "name": "stderr",
     "output_type": "stream",
     "text": [
      "/usr/local/lib/python3.4/dist-packages/matplotlib/axes/_axes.py:6462: UserWarning: The 'normed' kwarg is deprecated, and has been replaced by the 'density' kwarg.\n",
      "  warnings.warn(\"The 'normed' kwarg is deprecated, and has been \"\n"
     ]
    },
    {
     "data": {
      "text/plain": [
       "<matplotlib.axes._subplots.AxesSubplot at 0x7fd2dc3fa358>"
      ]
     },
     "execution_count": 30,
     "metadata": {},
     "output_type": "execute_result"
    },
    {
     "data": {
      "image/png": "[encoded data removed]",
      "text/plain": [
       "<Figure size 432x288 with 1 Axes>"
      ]
     },
     "metadata": {},
     "output_type": "display_data"
    }
   ],
   "source": [
    "sns.distplot(Questions.NumTags, kde=False)"
   ]
  },
  {
   "cell_type": "markdown",
   "metadata": {},
   "source": [
    "### Question 10: Do number of tags correspond to number of answers?"
   ]
  },
  {
   "cell_type": "code",
   "execution_count": 31,
   "metadata": {},
   "outputs": [
    {
     "data": {
      "text/html": [
       "<div>\n",
       "<style scoped>\n",
       "    .dataframe tbody tr th:only-of-type {\n",
       "        vertical-align: middle;\n",
       "    }\n",
       "\n",
       "    .dataframe tbody tr th {\n",
       "        vertical-align: top;\n",
       "    }\n",
       "\n",
       "    .dataframe thead th {\n",
       "        text-align: right;\n",
       "    }\n",
       "</style>\n",
       "<table border=\"1\" class=\"dataframe\">\n",
       "  <thead>\n",
       "    <tr style=\"text-align: right;\">\n",
       "      <th></th>\n",
       "      <th>NumAnswers</th>\n",
       "    </tr>\n",
       "    <tr>\n",
       "      <th>NumTags</th>\n",
       "      <th></th>\n",
       "    </tr>\n",
       "  </thead>\n",
       "  <tbody>\n",
       "    <tr>\n",
       "      <th>0</th>\n",
       "      <td>0.000000</td>\n",
       "    </tr>\n",
       "    <tr>\n",
       "      <th>1</th>\n",
       "      <td>2.231335</td>\n",
       "    </tr>\n",
       "    <tr>\n",
       "      <th>2</th>\n",
       "      <td>1.805110</td>\n",
       "    </tr>\n",
       "    <tr>\n",
       "      <th>3</th>\n",
       "      <td>1.695782</td>\n",
       "    </tr>\n",
       "    <tr>\n",
       "      <th>4</th>\n",
       "      <td>1.636211</td>\n",
       "    </tr>\n",
       "    <tr>\n",
       "      <th>5</th>\n",
       "      <td>1.585181</td>\n",
       "    </tr>\n",
       "  </tbody>\n",
       "</table>\n",
       "</div>"
      ],
      "text/plain": [
       "         NumAnswers\n",
       "NumTags            \n",
       "0          0.000000\n",
       "1          2.231335\n",
       "2          1.805110\n",
       "3          1.695782\n",
       "4          1.636211\n",
       "5          1.585181"
      ]
     },
     "execution_count": 31,
     "metadata": {},
     "output_type": "execute_result"
    }
   ],
   "source": [
    "Questions.groupby('NumTags').sum()[['NumAnswers']] / Questions.groupby('NumTags').count()[['NumAnswers']]"
   ]
  },
  {
   "cell_type": "markdown",
   "metadata": {},
   "source": [
    "This is also rather counterintuitive. Those with fewer tags had more answers (compared to the overall average of 1.83 answers). Stack Overflow uses tags to show questions to users on the STO homepage. Perhaps people don't go on the homepage much?"
   ]
  },
  {
   "cell_type": "markdown",
   "metadata": {},
   "source": [
    "Next steps: explore not \"Number of Answers\" but \"Percent Answered\"\n",
    "    explore what percentage of answers answer what percent of users"
   ]
  },
  {
   "cell_type": "code",
   "execution_count": null,
   "metadata": {},
   "outputs": [],
   "source": []
  }
 ],
 "metadata": {
  "kernelspec": {
   "display_name": "Python 3",
   "language": "python",
   "name": "python3"
  },
  "language_info": {
   "codemirror_mode": {
    "name": "ipython",
    "version": 3
   },
   "file_extension": ".py",
   "mimetype": "text/x-python",
   "name": "python",
   "nbconvert_exporter": "python",
   "pygments_lexer": "ipython3",
   "version": "3.4.3"
  }
 },
 "nbformat": 4,
 "nbformat_minor": 2
}
