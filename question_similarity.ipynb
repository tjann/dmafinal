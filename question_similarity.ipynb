{
 "cells": [
  {
   "cell_type": "code",
   "execution_count": 1,
   "metadata": {
    "collapsed": true
   },
   "outputs": [],
   "source": [
    "import pandas as pd\n",
    "import numpy as np\n",
    "import matplotlib.pyplot as plt\n",
    "%matplotlib inline\n",
    "import nltk\n",
    "from nltk.tokenize import word_tokenize\n",
    "from nltk.corpus import stopwords\n",
    "from nltk.stem import WordNetLemmatizer\n",
    "import itertools\n",
    "import pickle\n",
    "from sklearn.feature_extraction.text import TfidfVectorizer, CountVectorizer\n",
    "import re\n",
    "from sklearn.metrics.pairwise import cosine_similarity"
   ]
  },
  {
   "cell_type": "code",
   "execution_count": 2,
   "metadata": {
    "collapsed": true
   },
   "outputs": [],
   "source": [
    "tfidf_df = pd.read_pickle(\"TfIdfSimilarity.pkl\")"
   ]
  },
  {
   "cell_type": "code",
   "execution_count": 3,
   "metadata": {
    "collapsed": false
   },
   "outputs": [
    {
     "data": {
      "text/html": [
       "<div>\n",
       "<style scoped>\n",
       "    .dataframe tbody tr th:only-of-type {\n",
       "        vertical-align: middle;\n",
       "    }\n",
       "\n",
       "    .dataframe tbody tr th {\n",
       "        vertical-align: top;\n",
       "    }\n",
       "\n",
       "    .dataframe thead th {\n",
       "        text-align: right;\n",
       "    }\n",
       "</style>\n",
       "<table border=\"1\" class=\"dataframe\">\n",
       "  <thead>\n",
       "    <tr style=\"text-align: right;\">\n",
       "      <th></th>\n",
       "      <th>indices</th>\n",
       "    </tr>\n",
       "  </thead>\n",
       "  <tbody>\n",
       "    <tr>\n",
       "      <th>0</th>\n",
       "      <td>[0, 10906, 157601, 536491, 501940, 82165, 2036...</td>\n",
       "    </tr>\n",
       "    <tr>\n",
       "      <th>1</th>\n",
       "      <td>[1, 427218, 511076, 24525, 577051, 96327, 2624...</td>\n",
       "    </tr>\n",
       "    <tr>\n",
       "      <th>2</th>\n",
       "      <td>[2, 61163, 592065, 318913, 333359, 486290, 360...</td>\n",
       "    </tr>\n",
       "    <tr>\n",
       "      <th>3</th>\n",
       "      <td>[3, 77662, 116585, 184548, 50193, 600110, 2372...</td>\n",
       "    </tr>\n",
       "    <tr>\n",
       "      <th>4</th>\n",
       "      <td>[4, 168393, 113970, 106661, 110259, 23364, 186...</td>\n",
       "    </tr>\n",
       "  </tbody>\n",
       "</table>\n",
       "</div>"
      ],
      "text/plain": [
       "                                             indices\n",
       "0  [0, 10906, 157601, 536491, 501940, 82165, 2036...\n",
       "1  [1, 427218, 511076, 24525, 577051, 96327, 2624...\n",
       "2  [2, 61163, 592065, 318913, 333359, 486290, 360...\n",
       "3  [3, 77662, 116585, 184548, 50193, 600110, 2372...\n",
       "4  [4, 168393, 113970, 106661, 110259, 23364, 186..."
      ]
     },
     "execution_count": 3,
     "metadata": {},
     "output_type": "execute_result"
    }
   ],
   "source": [
    "tfidf_df.head()"
   ]
  },
  {
   "cell_type": "code",
   "execution_count": 4,
   "metadata": {
    "collapsed": true
   },
   "outputs": [],
   "source": [
    "questions_lemmatized = pd.read_csv('LemmatizedQuestions.csv', encoding=\"ISO-8859-1\")"
   ]
  },
  {
   "cell_type": "code",
   "execution_count": 7,
   "metadata": {
    "collapsed": true
   },
   "outputs": [],
   "source": [
    "pd.set_option('display.max_colwidth', -1)"
   ]
  },
  {
   "cell_type": "code",
   "execution_count": 10,
   "metadata": {
    "collapsed": false
   },
   "outputs": [
    {
     "data": {
      "text/plain": [
       "'Convert Bytes to Floating Point Numbers in Python'"
      ]
     },
     "execution_count": 10,
     "metadata": {},
     "output_type": "execute_result"
    }
   ],
   "source": [
    "questions_lemmatized.loc[22, \"QuestionTitle\"]"
   ]
  },
  {
   "cell_type": "code",
   "execution_count": 11,
   "metadata": {
    "collapsed": false,
    "scrolled": false
   },
   "outputs": [
    {
     "name": "stdout",
     "output_type": "stream",
     "text": [
      "22\n",
      "22        Convert Bytes to Floating Point Numbers in Python                             \n",
      "46114     How to convert floating point number to base 3 in python                      \n",
      "211985    How to convert floating point number in python?                               \n",
      "279200    Indexing array in python results in lost scientific notation                  \n",
      "57677     Reading 32 bit signed ieee 754 floating points from a binary file with python?\n",
      "156849    Convert floating point number to certain precision, then copy to String       \n",
      "16819     Correct way to emulate single precision floating point in python?             \n",
      "221606    How to print floating point numbers as it is without any truncation in python?\n",
      "197881    How can I convert a floating point number to an integer in python?            \n",
      "222833    Extract first N position of floating number                                   \n",
      "Name: QuestionTitle, dtype: object\n",
      "7\n",
      "7         How do I use Python's itertools.groupby()?                          \n",
      "115358    argparse optional arguments                                         \n",
      "432177    Including the group name in the apply function pandas python        \n",
      "490719    PYTHON Function does not iterate over my input list                 \n",
      "602504    Checking if something is true in all iterations of a Python for loop\n",
      "501051    How to add an \"all\" group in pandas groupby                         \n",
      "138272    trying to work through a list in sections                           \n",
      "600962    Combine a list of pairs (tuples)?                                   \n",
      "480628    Break out list of list into chunks group by zeroth element          \n",
      "552804    Trying to write a Python-based group classifier                     \n",
      "Name: QuestionTitle, dtype: object\n",
      "33\n",
      "33        Replacement for for... if array iteration                                                   \n",
      "14291     nesting python list comprehensions to construct a list of lists                             \n",
      "82228     Possible to capture the returned value from a Python list comprehension for use a condition?\n",
      "4099      Python strange behavior in for loop or lists                                                \n",
      "516009    Multiple word replacement by list - duplicates creation                                     \n",
      "561161    Length of list as condition in any function for list comprehension                          \n",
      "504709    How do I union a list of lists based on a common string in the lists, Python                \n",
      "445557    Python: Replace occurrences of items in multiple lists?                                     \n",
      "212624    Using if, elif, else in List Comprehensions, Python                                         \n",
      "346414    Replacing None values in list of list with list comprehension                               \n",
      "Name: QuestionTitle, dtype: object\n"
     ]
    }
   ],
   "source": [
    "for i in [22, 7, 33]:\n",
    "    indices = tfidf_df.indices[i]\n",
    "    sim_qs = questions_lemmatized.loc[indices, \"QuestionTitle\"]\n",
    "    print(i)\n",
    "    with pd.option_context('display.max_rows', None, 'display.max_columns', 3):\n",
    "        print(sim_qs)"
   ]
  },
  {
   "cell_type": "code",
   "execution_count": null,
   "metadata": {
    "collapsed": true
   },
   "outputs": [],
   "source": []
  },
  {
   "cell_type": "code",
   "execution_count": null,
   "metadata": {
    "collapsed": true
   },
   "outputs": [],
   "source": []
  },
  {
   "cell_type": "code",
   "execution_count": null,
   "metadata": {
    "collapsed": true
   },
   "outputs": [],
   "source": []
  },
  {
   "cell_type": "code",
   "execution_count": null,
   "metadata": {
    "collapsed": true
   },
   "outputs": [],
   "source": []
  },
  {
   "cell_type": "markdown",
   "metadata": {},
   "source": [
    "# RUN THESE CELLS PART 2"
   ]
  },
  {
   "cell_type": "code",
   "execution_count": null,
   "metadata": {
    "collapsed": true
   },
   "outputs": [],
   "source": [
    "import pandas as pd\n",
    "import numpy as np\n",
    "import matplotlib.pyplot as plt\n",
    "%matplotlib inline\n",
    "import nltk\n",
    "from nltk.tokenize import word_tokenize\n",
    "from nltk.corpus import stopwords\n",
    "from nltk.stem import WordNetLemmatizer\n",
    "import itertools\n",
    "import pickle\n",
    "from sklearn.feature_extraction.text import TfidfVectorizer, CountVectorizer\n",
    "import re\n",
    "from sklearn.metrics.pairwise import cosine_similarity"
   ]
  },
  {
   "cell_type": "code",
   "execution_count": null,
   "metadata": {
    "collapsed": true
   },
   "outputs": [],
   "source": [
    "questions_lemmatized = pd.read_csv('LemmatizedQuestions.csv', encoding=\"ISO-8859-1\")"
   ]
  },
  {
   "cell_type": "code",
   "execution_count": null,
   "metadata": {
    "collapsed": true
   },
   "outputs": [],
   "source": [
    "# Non-code text\n",
    "TagFreeNonCodeTextLemmatized = questions_lemmatized.TagFreeNonCodeTextLemmatized.tolist()\n",
    "TagFreeNonCodeTextLemmatized = [[w[1:-1] for w in q[1:-1].split(\", \")] for q in TagFreeNonCodeTextLemmatized]"
   ]
  },
  {
   "cell_type": "code",
   "execution_count": null,
   "metadata": {
    "collapsed": true
   },
   "outputs": [],
   "source": [
    "# Code text\n",
    "CodeTextLemmatized = questions_lemmatized.CodeTextLemmatized.tolist()\n",
    "CodeTextLemmatized = [[w[1:-1] for w in q[1:-1].split(\", \")] for q in CodeTextLemmatized]"
   ]
  },
  {
   "cell_type": "code",
   "execution_count": null,
   "metadata": {
    "collapsed": true
   },
   "outputs": [],
   "source": [
    "# Combined non-code and code\n",
    "AllTextLemmatized = []\n",
    "for i in range(len(TagFreeNonCodeTextLemmatized)):\n",
    "    noncode = TagFreeNonCodeTextLemmatized[i][:]\n",
    "    for w in CodeTextLemmatized[i]:\n",
    "        if w != '':\n",
    "            noncode.append(w)\n",
    "    AllTextLemmatized.append(\" \".join(noncode))"
   ]
  },
  {
   "cell_type": "code",
   "execution_count": null,
   "metadata": {
    "collapsed": true
   },
   "outputs": [],
   "source": [
    "# tfidf\n",
    "tfidf_vectorizer = TfidfVectorizer(stop_words='english', max_features=10000) # limit vocabulary size to 10,000\n",
    "tfidf_question = tfidf_vectorizer.fit_transform(AllTextLemmatized)"
   ]
  },
  {
   "cell_type": "code",
   "execution_count": null,
   "metadata": {
    "collapsed": true
   },
   "outputs": [],
   "source": [
    "# compute cosine similarities of questions\n",
    "tfidf_question_cosine_similarities = [] # list of indices of top 10 most cosine similar\n",
    "for i in range(100):\n",
    "    similarity_indices = cosine_similarity(tfidf_question[i], tfidf_question).flatten()\n",
    "    tfidf_question_cosine_similarities.append(similarity_indices.argsort()[:-11:-1])"
   ]
  },
  {
   "cell_type": "code",
   "execution_count": null,
   "metadata": {
    "collapsed": true
   },
   "outputs": [],
   "source": [
    "# save to df\n",
    "tfidf_df = pd.DataFrame((_ for _ in itertools.zip_longest(tfidf_question_cosine_similarities)), columns=['indices'])\n",
    "tfidf_df.to_pickle(\"TfIdfSimilarity.pkl\")"
   ]
  },
  {
   "cell_type": "code",
   "execution_count": null,
   "metadata": {
    "collapsed": true
   },
   "outputs": [],
   "source": []
  },
  {
   "cell_type": "markdown",
   "metadata": {},
   "source": [
    "# RUN THESE CELLS"
   ]
  },
  {
   "cell_type": "code",
   "execution_count": 1,
   "metadata": {
    "collapsed": true
   },
   "outputs": [],
   "source": [
    "import pandas as pd\n",
    "import numpy as np\n",
    "import matplotlib.pyplot as plt\n",
    "%matplotlib inline\n",
    "import nltk\n",
    "from nltk.tokenize import word_tokenize\n",
    "from nltk.corpus import stopwords\n",
    "from nltk.stem import WordNetLemmatizer\n",
    "import itertools\n",
    "import pickle\n",
    "from sklearn.feature_extraction.text import TfidfVectorizer, CountVectorizer\n",
    "import re\n",
    "from sklearn.metrics.pairwise import cosine_similarity"
   ]
  },
  {
   "cell_type": "code",
   "execution_count": null,
   "metadata": {
    "collapsed": true
   },
   "outputs": [],
   "source": [
    "noncode_embedding_df = pd.read_pickle(\"NoncodeTextWordEmbeddings\")\n",
    "code_embedding_df = pd.read_pickle(\"CodeTextWordEmbeddings\")"
   ]
  },
  {
   "cell_type": "code",
   "execution_count": null,
   "metadata": {
    "collapsed": true
   },
   "outputs": [],
   "source": [
    "combined_embedding = []\n",
    "for i in range(noncode_embedding_df.shape[0]):\n",
    "    q_embedding = np.append(noncode_embedding_df.iloc[i,:][0], code_embedding_df.iloc[i,:][0])\n",
    "    combined_embedding.append(q_embedding)"
   ]
  },
  {
   "cell_type": "code",
   "execution_count": null,
   "metadata": {
    "collapsed": false
   },
   "outputs": [],
   "source": [
    "combined_embedding_df = pd.DataFrame((_ for _ in itertools.zip_longest(combined_embedding)), columns=['indices'])\n",
    "combined_embedding_df.to_pickle(\"CombinedWordEmbeddings.pkl\")"
   ]
  },
  {
   "cell_type": "code",
   "execution_count": null,
   "metadata": {
    "collapsed": true
   },
   "outputs": [],
   "source": [
    "import warnings; warnings.simplefilter('ignore')"
   ]
  },
  {
   "cell_type": "code",
   "execution_count": null,
   "metadata": {
    "collapsed": false
   },
   "outputs": [],
   "source": [
    "# list of indices of top 10 most cosine similar for each question\n",
    "word2vec_question_cosine_similarities = []\n",
    "for i in range(len(combined_embedding)):\n",
    "    similarity_indices = cosine_similarity(combined_embedding[i], combined_embedding).flatten()\n",
    "    word2vec_question_cosine_similarities.append(similarity_indices.argsort()[:-11:-1])"
   ]
  },
  {
   "cell_type": "code",
   "execution_count": null,
   "metadata": {
    "collapsed": false
   },
   "outputs": [],
   "source": [
    "# save to df\n",
    "word2vec_similarity_df = pd.DataFrame((_ for _ in itertools.zip_longest(word2vec_question_cosine_similarities)), columns=['indices'])\n",
    "word2vec_similarity_df.to_pickle(\"word2vecSimilarity.pkl\")"
   ]
  },
  {
   "cell_type": "code",
   "execution_count": 2,
   "metadata": {
    "collapsed": true
   },
   "outputs": [],
   "source": [
    "word2vec_similarity_df = pd.read_pickle(\"word2vecSimilarity.pkl\")"
   ]
  },
  {
   "cell_type": "code",
   "execution_count": 3,
   "metadata": {
    "collapsed": false
   },
   "outputs": [
    {
     "data": {
      "text/html": [
       "<div>\n",
       "<style scoped>\n",
       "    .dataframe tbody tr th:only-of-type {\n",
       "        vertical-align: middle;\n",
       "    }\n",
       "\n",
       "    .dataframe tbody tr th {\n",
       "        vertical-align: top;\n",
       "    }\n",
       "\n",
       "    .dataframe thead th {\n",
       "        text-align: right;\n",
       "    }\n",
       "</style>\n",
       "<table border=\"1\" class=\"dataframe\">\n",
       "  <thead>\n",
       "    <tr style=\"text-align: right;\">\n",
       "      <th></th>\n",
       "      <th>indices</th>\n",
       "    </tr>\n",
       "  </thead>\n",
       "  <tbody>\n",
       "    <tr>\n",
       "      <th>0</th>\n",
       "      <td>[0, 18281, 425603, 484729, 63804, 215319, 3383...</td>\n",
       "    </tr>\n",
       "    <tr>\n",
       "      <th>1</th>\n",
       "      <td>[1, 8749, 158621, 584677, 167832, 344385, 1266...</td>\n",
       "    </tr>\n",
       "    <tr>\n",
       "      <th>2</th>\n",
       "      <td>[2, 203500, 167128, 11119, 58898, 95965, 15147...</td>\n",
       "    </tr>\n",
       "    <tr>\n",
       "      <th>3</th>\n",
       "      <td>[3, 178120, 450349, 421067, 499326, 518685, 13...</td>\n",
       "    </tr>\n",
       "    <tr>\n",
       "      <th>4</th>\n",
       "      <td>[4, 394072, 31598, 445247, 538159, 642, 415426...</td>\n",
       "    </tr>\n",
       "  </tbody>\n",
       "</table>\n",
       "</div>"
      ],
      "text/plain": [
       "                                             indices\n",
       "0  [0, 18281, 425603, 484729, 63804, 215319, 3383...\n",
       "1  [1, 8749, 158621, 584677, 167832, 344385, 1266...\n",
       "2  [2, 203500, 167128, 11119, 58898, 95965, 15147...\n",
       "3  [3, 178120, 450349, 421067, 499326, 518685, 13...\n",
       "4  [4, 394072, 31598, 445247, 538159, 642, 415426..."
      ]
     },
     "execution_count": 3,
     "metadata": {},
     "output_type": "execute_result"
    }
   ],
   "source": [
    "word2vec_similarity_df.head()"
   ]
  },
  {
   "cell_type": "code",
   "execution_count": 6,
   "metadata": {
    "collapsed": false
   },
   "outputs": [
    {
     "data": {
      "text/plain": [
       "array([     0,  18281, 425603, 484729,  63804, 215319, 338349, 155286,\n",
       "        87413, 122776], dtype=int64)"
      ]
     },
     "execution_count": 6,
     "metadata": {},
     "output_type": "execute_result"
    }
   ],
   "source": [
    "word2vec_similarity_df.indices[0]"
   ]
  },
  {
   "cell_type": "code",
   "execution_count": 4,
   "metadata": {
    "collapsed": true
   },
   "outputs": [],
   "source": [
    "questions_lemmatized = pd.read_csv('LemmatizedQuestions.csv', encoding=\"ISO-8859-1\")"
   ]
  },
  {
   "cell_type": "code",
   "execution_count": 5,
   "metadata": {
    "collapsed": false
   },
   "outputs": [
    {
     "data": {
      "text/html": [
       "<div>\n",
       "<style scoped>\n",
       "    .dataframe tbody tr th:only-of-type {\n",
       "        vertical-align: middle;\n",
       "    }\n",
       "\n",
       "    .dataframe tbody tr th {\n",
       "        vertical-align: top;\n",
       "    }\n",
       "\n",
       "    .dataframe thead th {\n",
       "        text-align: right;\n",
       "    }\n",
       "</style>\n",
       "<table border=\"1\" class=\"dataframe\">\n",
       "  <thead>\n",
       "    <tr style=\"text-align: right;\">\n",
       "      <th></th>\n",
       "      <th>QID</th>\n",
       "      <th>QuestionUserId</th>\n",
       "      <th>QuestionCreateDate</th>\n",
       "      <th>QuestionScore</th>\n",
       "      <th>QuestionTitle</th>\n",
       "      <th>QuestionBody</th>\n",
       "      <th>NumAnswers</th>\n",
       "      <th>QuestionTitleAndBody</th>\n",
       "      <th>CodeText</th>\n",
       "      <th>TagFreeNonCodeText</th>\n",
       "      <th>CodeTextLemmatized</th>\n",
       "      <th>TagFreeNonCodeTextLemmatized</th>\n",
       "    </tr>\n",
       "  </thead>\n",
       "  <tbody>\n",
       "    <tr>\n",
       "      <th>0</th>\n",
       "      <td>469</td>\n",
       "      <td>147.0</td>\n",
       "      <td>2008-08-02T15:11:16Z</td>\n",
       "      <td>21</td>\n",
       "      <td>How can I find the full path to a font from it...</td>\n",
       "      <td>&lt;p&gt;I am using the Photoshop's javascript API t...</td>\n",
       "      <td>4.0</td>\n",
       "      <td>How can I find the full path to a font from it...</td>\n",
       "      <td>NaN</td>\n",
       "      <td>How can I find the full path to a font from it...</td>\n",
       "      <td>[]</td>\n",
       "      <td>['how', 'can', 'i', 'find', 'the', 'full', 'pa...</td>\n",
       "    </tr>\n",
       "    <tr>\n",
       "      <th>1</th>\n",
       "      <td>502</td>\n",
       "      <td>147.0</td>\n",
       "      <td>2008-08-02T17:01:58Z</td>\n",
       "      <td>27</td>\n",
       "      <td>Get a preview JPEG of a PDF on Windows?</td>\n",
       "      <td>&lt;p&gt;I have a cross-platform (Python) applicatio...</td>\n",
       "      <td>3.0</td>\n",
       "      <td>Get a preview JPEG of a PDF on Windows? &lt;p&gt;I h...</td>\n",
       "      <td>NaN</td>\n",
       "      <td>Get a preview JPEG of a PDF on Windows? I have...</td>\n",
       "      <td>[]</td>\n",
       "      <td>['get', 'a', 'preview', 'jpeg', 'of', 'a', 'pd...</td>\n",
       "    </tr>\n",
       "    <tr>\n",
       "      <th>2</th>\n",
       "      <td>535</td>\n",
       "      <td>154.0</td>\n",
       "      <td>2008-08-02T18:43:54Z</td>\n",
       "      <td>40</td>\n",
       "      <td>Continuous Integration System for a Python Cod...</td>\n",
       "      <td>&lt;p&gt;I'm starting work on a hobby project with a...</td>\n",
       "      <td>7.0</td>\n",
       "      <td>Continuous Integration System for a Python Cod...</td>\n",
       "      <td>NaN</td>\n",
       "      <td>Continuous Integration System for a Python Cod...</td>\n",
       "      <td>[]</td>\n",
       "      <td>['continuous', 'integration', 'system', 'for',...</td>\n",
       "    </tr>\n",
       "    <tr>\n",
       "      <th>3</th>\n",
       "      <td>594</td>\n",
       "      <td>116.0</td>\n",
       "      <td>2008-08-03T01:15:08Z</td>\n",
       "      <td>25</td>\n",
       "      <td>cx_Oracle: How do I iterate over a result set?</td>\n",
       "      <td>&lt;p&gt;There are several ways to iterate over a re...</td>\n",
       "      <td>3.0</td>\n",
       "      <td>cx_Oracle: How do I iterate over a result set?...</td>\n",
       "      <td>NaN</td>\n",
       "      <td>cx_Oracle: How do I iterate over a result set?...</td>\n",
       "      <td>[]</td>\n",
       "      <td>['cx_oracle', 'how', 'do', 'i', 'iterate', 'ov...</td>\n",
       "    </tr>\n",
       "    <tr>\n",
       "      <th>4</th>\n",
       "      <td>683</td>\n",
       "      <td>199.0</td>\n",
       "      <td>2008-08-03T13:19:16Z</td>\n",
       "      <td>28</td>\n",
       "      <td>Using 'in' to match an attribute of Python obj...</td>\n",
       "      <td>&lt;p&gt;I don't remember whether I was dreaming or ...</td>\n",
       "      <td>8.0</td>\n",
       "      <td>Using 'in' to match an attribute of Python obj...</td>\n",
       "      <td>foo in iter_attr(array of python objects, attr...</td>\n",
       "      <td>Using 'in' to match an attribute of Python obj...</td>\n",
       "      <td>['foo', 'in', 'iter_attrarray', 'of', 'python'...</td>\n",
       "      <td>['using', 'in', 'to', 'match', 'an', 'attribut...</td>\n",
       "    </tr>\n",
       "  </tbody>\n",
       "</table>\n",
       "</div>"
      ],
      "text/plain": [
       "   QID  QuestionUserId    QuestionCreateDate  QuestionScore  \\\n",
       "0  469           147.0  2008-08-02T15:11:16Z             21   \n",
       "1  502           147.0  2008-08-02T17:01:58Z             27   \n",
       "2  535           154.0  2008-08-02T18:43:54Z             40   \n",
       "3  594           116.0  2008-08-03T01:15:08Z             25   \n",
       "4  683           199.0  2008-08-03T13:19:16Z             28   \n",
       "\n",
       "                                       QuestionTitle  \\\n",
       "0  How can I find the full path to a font from it...   \n",
       "1            Get a preview JPEG of a PDF on Windows?   \n",
       "2  Continuous Integration System for a Python Cod...   \n",
       "3     cx_Oracle: How do I iterate over a result set?   \n",
       "4  Using 'in' to match an attribute of Python obj...   \n",
       "\n",
       "                                        QuestionBody  NumAnswers  \\\n",
       "0  <p>I am using the Photoshop's javascript API t...         4.0   \n",
       "1  <p>I have a cross-platform (Python) applicatio...         3.0   \n",
       "2  <p>I'm starting work on a hobby project with a...         7.0   \n",
       "3  <p>There are several ways to iterate over a re...         3.0   \n",
       "4  <p>I don't remember whether I was dreaming or ...         8.0   \n",
       "\n",
       "                                QuestionTitleAndBody  \\\n",
       "0  How can I find the full path to a font from it...   \n",
       "1  Get a preview JPEG of a PDF on Windows? <p>I h...   \n",
       "2  Continuous Integration System for a Python Cod...   \n",
       "3  cx_Oracle: How do I iterate over a result set?...   \n",
       "4  Using 'in' to match an attribute of Python obj...   \n",
       "\n",
       "                                            CodeText  \\\n",
       "0                                                NaN   \n",
       "1                                                NaN   \n",
       "2                                                NaN   \n",
       "3                                                NaN   \n",
       "4  foo in iter_attr(array of python objects, attr...   \n",
       "\n",
       "                                  TagFreeNonCodeText  \\\n",
       "0  How can I find the full path to a font from it...   \n",
       "1  Get a preview JPEG of a PDF on Windows? I have...   \n",
       "2  Continuous Integration System for a Python Cod...   \n",
       "3  cx_Oracle: How do I iterate over a result set?...   \n",
       "4  Using 'in' to match an attribute of Python obj...   \n",
       "\n",
       "                                  CodeTextLemmatized  \\\n",
       "0                                                 []   \n",
       "1                                                 []   \n",
       "2                                                 []   \n",
       "3                                                 []   \n",
       "4  ['foo', 'in', 'iter_attrarray', 'of', 'python'...   \n",
       "\n",
       "                        TagFreeNonCodeTextLemmatized  \n",
       "0  ['how', 'can', 'i', 'find', 'the', 'full', 'pa...  \n",
       "1  ['get', 'a', 'preview', 'jpeg', 'of', 'a', 'pd...  \n",
       "2  ['continuous', 'integration', 'system', 'for',...  \n",
       "3  ['cx_oracle', 'how', 'do', 'i', 'iterate', 'ov...  \n",
       "4  ['using', 'in', 'to', 'match', 'an', 'attribut...  "
      ]
     },
     "execution_count": 5,
     "metadata": {},
     "output_type": "execute_result"
    }
   ],
   "source": [
    "questions_lemmatized.head()"
   ]
  },
  {
   "cell_type": "code",
   "execution_count": 16,
   "metadata": {
    "collapsed": false
   },
   "outputs": [
    {
     "name": "stdout",
     "output_type": "stream",
     "text": [
      "0\n",
      "18281     Generate image for each font on a linux system using Python              \n",
      "425603    Using QPython Console with MIT App Inventor                              \n",
      "484729    Using DeviceCapabilities with pywin32                                    \n",
      "63804     How can I write color text to a textbox using python and the win32 api's?\n",
      "215319    get vim to search the python path                                        \n",
      "338349    Where can I locate the library for python base functions in Linux?       \n",
      "155286    Running Blender python script outside of blender                         \n",
      "87413     Recognize images in Python                                               \n",
      "122776    Generating an image-report with Python                                   \n",
      "Name: QuestionTitle, dtype: object\n",
      "1\n",
      "8749      Display jpg images in python                                              \n",
      "158621    Retrieve JPEG image from a redirected URL and display it on a GUI window  \n",
      "584677    Get window xid from handle for drawing GStreamer video in Python          \n",
      "167832    Python GUI from Java                                                      \n",
      "344385    how to get a video file's orientation in Python                           \n",
      "12668     How can I create a script that manufactures MLA citations?                \n",
      "248576    Embedding windows in GUI                                                  \n",
      "202025    Python upload an Image form my hard drive and show it on a canvas wideget.\n",
      "28694     File Downloader with GUI progress display?                                \n",
      "Name: QuestionTitle, dtype: object\n",
      "2\n",
      "203500    Running an Android phone as a stable webserver (for a Python CGI script)                    \n",
      "167128    Is there a simple Python map-reduce framework that uses the regular filesystem?             \n",
      "11119     Web service for an Excel automation script on Windows                                       \n",
      "58898     Is anybody aware of a mature Java library which will help me query a Hudson / Jenkins server\n",
      "95965     Best practice for Python process control                                                    \n",
      "151479    How to convert a wxPython app to run as a headless unix job?                                \n",
      "5096      How can I create an local webserver for my python scripts?                                  \n",
      "76943     Advice: Python Framework Server/Worker Queue management (not Website)                       \n",
      "386734    Examples for writing a daemon or a service in Linux                                         \n",
      "Name: QuestionTitle, dtype: object\n",
      "3\n",
      "178120    Sorting using Map-Reduce - Possible approach                                                             \n",
      "450349    Clean way to iterate through a list in pairs in Python?                                                  \n",
      "421067    Removing items corresponding to nan in one list from another list                                        \n",
      "499326    How to compare two dataframes cell by cell?                                                              \n",
      "518685    How to retrieve or iterate over edge keys in python networkx MultiDiGraph                                \n",
      "130562    Split set in python                                                                                      \n",
      "386311    Merge two big dictionaries in parallel                                                                   \n",
      "463578    What is the most Pythonic way to filter a set?                                                           \n",
      "583064    Is there a way to get multiple ngram orders using NTLK instead of obtaining a iterating over a generator?\n",
      "Name: QuestionTitle, dtype: object\n",
      "4\n",
      "394072    How to detect assignment to a mis-cased instance variable in Python                       \n",
      "31598     Parameter names in Python functions that take single object or iterable                   \n",
      "445247    boto3 aws api - Listing available instance types                                          \n",
      "538159    How can I make my code more readable and DRYer when working with XML namespaces in Python?\n",
      "642       Python object attributes - methodology for access                                         \n",
      "415426    How to expose a function which returns a variant vector?                                  \n",
      "345486    What should I use instead of .__getslice__?                                               \n",
      "11026     Alter XML while preserving layout                                                         \n",
      "144443    Python equivalent to Data::Dumper - dumping raw datastructures for inspection?            \n",
      "Name: QuestionTitle, dtype: object\n",
      "5\n",
      "328791    django admin list_filter \"or\" condition                                                          \n",
      "450427    Django. How to annotate a object count from a related model                                      \n",
      "16795     Dynamic form requirements in Django                                                              \n",
      "54274     django ForeignKey to any type of model                                                           \n",
      "49066     Since Django discourages passing arguments to functions in templates, what is encouraged instead?\n",
      "4141      Django: How to use stored model instances as form choices?                                       \n",
      "67318     Django filter against Multiple Item QuerySets                                                    \n",
      "530867    Django Template Form Inheritance                                                                 \n",
      "473756    Django saving models by JS rather than form submissions?                                         \n",
      "Name: QuestionTitle, dtype: object\n",
      "6\n",
      "327536    How to fix python: pip and django won't work (pkg.resource not found) on OS X with home dir on a different drive\n",
      "250949    How to set a user-local python interpreter as default on clusters                                               \n",
      "273321    Getting a python module to work with Python after installing module (and not re-installing python)              \n",
      "267158    How do i get PyCharm to use the same virtual env interpreter or (default one) on any project/script?            \n",
      "547708    How can I set the PATH for postgreSQL, such that this does not interfer with Anaconda and vice versa?           \n",
      "182197    running PyUNO in django                                                                                         \n",
      "246905    Mac OS X + Python + Django + MySQL                                                                              \n",
      "565986    How to make a local Pypi mirror without internet access and with search available?                              \n",
      "351877    How to automate django dumpdata?                                                                                \n",
      "Name: QuestionTitle, dtype: object\n",
      "7\n",
      "226804    Searching a lists items against a another lists subset items                    \n",
      "384226    Python generate all n-permutations of n lists                                   \n",
      "55910     Fully parsable dictionary/thesaurus                                             \n",
      "3333      Dictionaries in Python                                                          \n",
      "515196    Calculating median using Hadoop streaming and Python                            \n",
      "68138     Sorting a dictionary of tuples in Python                                        \n",
      "583741    How do you convert a list of nested lists into a list of lists with unique data?\n",
      "545809    Python - mapping over a sparse matrix                                           \n",
      "349484    Detecting similar objects using OpenCV                                          \n",
      "Name: QuestionTitle, dtype: object\n",
      "8\n",
      "32144     Python : how to prevent a class variable that is a function to be understood as a method?           \n",
      "25265     Using class/static methods as default parameter values within methods of the same class             \n",
      "84828     How to warn about class (name) deprecation                                                          \n",
      "8169      Python Data Descriptor With Pass-through __set__ command                                            \n",
      "534907    Nice way to call a method of a property                                                             \n",
      "472045    Idioms in python: closure vs functor vs object                                                      \n",
      "497258    Is it idiomatic to take advantage of python's pass-by-sharing of mutable data structures like lists?\n",
      "75349     How to document a duck type?                                                                        \n",
      "14823     Subclassing dict: should dict.__init__() be called?                                                 \n",
      "Name: QuestionTitle, dtype: object\n",
      "9\n",
      "383606    What exact code-point conversion does string literal prefix \"r\" imply (Python 3.4)?\n",
      "174215    unit conversion in python as python built-in conversions                           \n",
      "35999     finding all float literals in Python code                                          \n",
      "69590     What does sys.maxunicode mean?                                                     \n",
      "72207     How to define a binary string in Python in a way that works with both py2 and py3? \n",
      "596783    How to avoid invalid token when converting binary to decimal                       \n",
      "428742    How to encode Python 3 string using \\u escape code?                                \n",
      "423505    Using getpass with python 2 and 3 compatibility                                    \n",
      "227766    converting string to unicode in python                                             \n",
      "Name: QuestionTitle, dtype: object\n",
      "10\n",
      "2542      XMP image tagging and Python                                                         \n",
      "454294    What would be a good example of \"sending messages to objects\" within Python?         \n",
      "547859    How to efficiently and clearly parse a custom binary format in Python?               \n",
      "61910     Batch converting Corel Paradox 4.0 Tables to CSV/SQL -- via PHP or other scripts     \n",
      "86855     What's the best way to use gmail programatically?                                    \n",
      "8337      What is the simplest way (in python) to print to a remote IPP/CUPS server or printer?\n",
      "178188    File Reading Options Enquiry (Python)                                                \n",
      "88287     Return text string from physical coordinates in a PDF with Python                    \n",
      "136454    is there a simple portable way to read a gif image using python (no PIL)?            \n",
      "Name: QuestionTitle, dtype: object\n",
      "11\n",
      "228978    How do I stop my variables from printing                         \n",
      "271672    Create a text menu in Python3x that is always available          \n",
      "590301    How to make a menu in Python navigable with arrow keys           \n",
      "506875    basic python, reading a global input for all inputs?             \n",
      "601072    Python, connect menu to functions                                \n",
      "587947    Python curses with two windows for display and input respectively\n",
      "206049    PySide signals/slots with iterative loops                        \n",
      "154682    Console Menu Generator in Python                                 \n",
      "221582    \"if choice...\" continues onto the next \"if choice...\"            \n",
      "Name: QuestionTitle, dtype: object\n",
      "12\n",
      "86337     python file monitoring                                                      \n",
      "473144    Installing python 3.5 on Linux Mint 17.3                                    \n",
      "54078     In Python on Unix, determine if I am using my computer? or idle?            \n",
      "135141    python library access in ubuntu 12.04                                       \n",
      "6435      How can you read keystrokes when the python program isn't in the foreground?\n",
      "339724    Python 2.7 keeping console in the background open                           \n",
      "460235    How to check if window exists in Python3.x on Linux                         \n",
      "297501    Permanently adding to DYLD_LIBRARY_PATH on MAC causes X11 errors            \n",
      "191711    How to install Flask on Windows?                                            \n",
      "Name: QuestionTitle, dtype: object\n",
      "13\n",
      "70147     Is there a way to see if two lists are the exact same without looping in python?                         \n",
      "602891    What is Truthy and Falsy in python ? How is it different from True and False?                            \n",
      "406417    Difference(s) between scipy.stats.linregress, numpy.polynomial.polynomial.polyfit and statsmodels.api.OLS\n",
      "337617    What is the difference between NL and NEWLINE in tokenizer.py?                                           \n",
      "71099     What are the differences between swap in C++ and Python?                                                 \n",
      "379663    Is sys.maxint safe to use?                                                                               \n",
      "48629     __coerce__ vs. __ihook__ difference?                                                                     \n",
      "81594     How to compare variables and find difference in python                                                   \n",
      "207254    Is there a Python equivalent to Erlang's pattern matching?                                               \n",
      "Name: QuestionTitle, dtype: object\n",
      "14\n",
      "560326    Why can't it expand the file?                                           \n",
      "442077    Python, wait on a file to zip before sending it                         \n",
      "284880    Jsch sftp exception : file not found (even if the file exists)          \n",
      "201448    opening and writing a large binary file python                          \n",
      "404967    Is it safe to download a NamedTemporaryFile from a pyramid FileResponse?\n",
      "342669    Python file will not run from php                                       \n",
      "153259    Trouble making a good ftp checking python program                       \n",
      "216093    Python: ftplib hangs at end of transfer                                 \n",
      "346032    Opening system files in Python for hashing Windows 7                    \n",
      "Name: QuestionTitle, dtype: object\n",
      "15\n",
      "367754    What Language To Use To Manipulate OSX Application Windows?    \n",
      "599450    Automate GUI testing on Windows of a remote desktop app        \n",
      "20843     Installing a Python program on Linux                           \n",
      "145894    Compile Python 2.7.3 on Linux for Embedding into a C++ app     \n",
      "27327     How to: python script + imagemagic = windows application?      \n",
      "505411    Start File Drag with NodeJS                                    \n",
      "190758    EndpointVolumeAPI with Python CTypes                           \n",
      "52815     Registering Global Hotkeys on a mac?                           \n",
      "269564    Controlling A Raspberry Pi Robot Via A Graphical User Interface\n",
      "Name: QuestionTitle, dtype: object\n",
      "16\n",
      "52860     how to get function's name from within the function (or kind of \"self\" reference to the function)?\n",
      "101339    How to give a constant and a dynamic argument to functions which are stored in an array           \n",
      "84230     Defining Python decorators for a complete module                                                  \n",
      "133703    How to compile text as a function using AST?                                                      \n",
      "109269    How do I get around not using global variables and passing too many arguments?                    \n",
      "183070    Python object creation from a function                                                            \n",
      "527395    How to create and return a function object in a c extension module?                               \n",
      "202481    Passing a function to re.sub in Python                                                            \n",
      "114739    Process functions from a list of strings in Python                                                \n",
      "Name: QuestionTitle, dtype: object\n",
      "17\n",
      "72645     Passive Serial Port Monitor                                                          \n",
      "219500    Serial communication through USB port with Python stop working after a few reconnects\n",
      "568039    raspberry, arduino and python weird behavior                                         \n",
      "316283    Python Serial Port - unable to write data                                            \n",
      "248005    Sending serial communication from Raspberry pi                                       \n",
      "359122    Pyserial reads data but does not write                                               \n",
      "333473    How do i debug this USB-Serial connection?                                           \n",
      "382648    scapy sniff only sniffing my pc's data                                               \n",
      "178429    Serial Communication one to one                                                      \n",
      "Name: QuestionTitle, dtype: object\n",
      "18\n",
      "24316     Python-based password tracker (or dictionary)                                           \n",
      "21366     Text-based one-on-one chat with Flash interface: what to power the backend?             \n",
      "530323    Python: If Raw_Input Contains...BLAH                                                    \n",
      "92582     Python modding - prevent dangerous scripts to be imported?                              \n",
      "51801     Python scripting in linux                                                               \n",
      "81882     Python, How to make a Video File(Mpeg/avi etc) into an exe?                             \n",
      "139305    uPnP pushing video to Smart TV/Samsung TV on OSX/Mac                                    \n",
      "147989    Easiest way to present AppEngine data for user editing                                  \n",
      "39734     Using ip address to track visitors, is there a better way? (using Flask micro-framework)\n",
      "Name: QuestionTitle, dtype: object\n",
      "19\n",
      "376148    How to run a Python web App for Raspberry Pi locally on Mac OSX                             \n",
      "150356    Django with Gunicorn different ways to deploy                                               \n",
      "356438    How-To?: Setting up Bokeh w/ Redis Backend                                                  \n",
      "278804    How can I change this Django Application                                                    \n",
      "382402    How can I tail logs from OpenShift to be verbose about python setup.py, virtualenv, and pip?\n",
      "129004    Python 3.3 in Wamp (Apache 2.4.2 Ã¢ÂÂ Mysql 5.5.24 Ã¢ÂÂ PHP 5.4.3)                      \n",
      "190519    Hide the python script part in the url                                                      \n",
      "39039     Django-Pydev-Eclipse and multiple projects problem                                          \n",
      "128745    Running Node or Python app from a Linux Azure VM                                            \n",
      "Name: QuestionTitle, dtype: object\n"
     ]
    }
   ],
   "source": [
    "for i in range(20):\n",
    "    indices = word2vec_similarity_df.indices[i][1:]\n",
    "    sim_qs = questions_lemmatized.loc[indices, \"QuestionTitle\"]\n",
    "    print(i)\n",
    "    with pd.option_context('display.max_rows', None, 'display.max_columns', 3):\n",
    "        print(sim_qs)"
   ]
  },
  {
   "cell_type": "code",
   "execution_count": 17,
   "metadata": {
    "collapsed": false
   },
   "outputs": [
    {
     "name": "stdout",
     "output_type": "stream",
     "text": [
      "20\n",
      "136287    Application that can load both C/C++ and Python plugins                                     \n",
      "78997     Recommend a library for testing the 'closedness' of '.stl' geometries?                      \n",
      "316134    Looking into getting into Python specifically for a project that involves threads and graphs\n",
      "131973    Render 3D model orthographically in Python                                                  \n",
      "18943     Is it possible to use re2 from Python?                                                      \n",
      "464631    Fortran or C and f2py to solve differential equations                                       \n",
      "63066     Python interface in C++ Windows Form Application                                            \n",
      "562748    Best way to package Python app within an autotools project                                  \n",
      "4039      Multiprocessing or Multithreading?                                                          \n",
      "Name: QuestionTitle, dtype: object\n",
      "21\n",
      "31213     Language/GUI library to make map editor                                               \n",
      "22568     Is there any graphics library in a higher level than OpenGL                           \n",
      "111872    Advice on setting up a cross-platform website scraping project                        \n",
      "96554     Framework for paint program                                                           \n",
      "24267     Any high-level languages that can use c libraries?                                    \n",
      "8211      Web Application Frameworks: C++ vs Python                                             \n",
      "33585     Is there a library or reference around showing how to build a Ribbon menu using PyGTK?\n",
      "120917    plugins for gedit in python                                                           \n",
      "19375     programming language implemented in pure python                                       \n",
      "Name: QuestionTitle, dtype: object\n",
      "22\n",
      "141847    How to convert a number in Python to 8 binary bytes (64-bit long)? \n",
      "243997    Python 3: Programmatically converting list of hex numbers to binary\n",
      "10528     convert exponential to decimal in python                           \n",
      "574515    Python: write decimal number into binary file                      \n",
      "41651     How do I write a long integer as binary in Python?                 \n",
      "588620    Using bits directly in python                                      \n",
      "33366     How to make a Python string out of non-ascii \"bytes\"               \n",
      "81963     Convert python long/int to fixed size byte array                   \n",
      "2171      How to create python bytes object from long hex string?            \n",
      "Name: QuestionTitle, dtype: object\n",
      "23\n",
      "272256    Single slash not doing float division                                    \n",
      "326173    Change Windows 8 codepage in Python 3 Spyder console from cp1252 to utf-8\n",
      "478322    Using python's print(\"\"\"\\\"\"\")                                            \n",
      "300352    How to print utf-8 to console with Python 3.4 (Windows 8)?               \n",
      "369303    Why can't I type Japanese characters at the prompt in Python3?           \n",
      "55568     Basic Python Question on String operations: example: string.lowercase    \n",
      "222906    mimetools.Message() to python 3 email.message.Message                    \n",
      "226301    Changing python version in Maya                                          \n",
      "166839    Python 2.7.3 UTF-8 Encoding Irreversible                                 \n",
      "Name: QuestionTitle, dtype: object\n",
      "24\n",
      "245379    Why do files downloaded from Google drive fail md5?                         \n",
      "172049    Trouble isolating emails when downloading via Python script                 \n",
      "293992    Python: Upload file to ftp issue                                            \n",
      "168631    Access web page and download *.ext files, where ext can be set python script\n",
      "426723    OSError: [Errno 24] Too many open files                                     \n",
      "322694    urlib.urlretrieve and urlib2 corrupting files                               \n",
      "261320    Python CSV failing to write                                                 \n",
      "40154     Transfer Text File in Web Server to Client                                  \n",
      "472299    python tornado download remote file                                         \n",
      "Name: QuestionTitle, dtype: object\n",
      "25\n",
      "234180    Creating a tastypie resource for a \"singleton\" non-model object                              \n",
      "232639    SQLAlchemy: Knowing the field names and values of a model object?                            \n",
      "226792    __setattr__ versus __slots__ for constraining attribute creation in Python                   \n",
      "105075    How can I memoize a class instantiation in Python?                                           \n",
      "290404    Is there an easy way to \"reload\" an object's methods without re-instantiating it entirely?   \n",
      "320319    Is there a way to shallow copy an existing file-object?                                      \n",
      "550913    Subclassing Py2Neo's Node the Right Way                                                      \n",
      "144385    Can I use (mis-use) the globals() namespace for persistent storage?                          \n",
      "459010    Defining a class property within __init__ as opposed to within another class method -- python\n",
      "Name: QuestionTitle, dtype: object\n",
      "26\n",
      "591491    Errno 24: Too many open files. But I am not opening files?   \n",
      "517089    Python SimpleHTTPServer keeps going down and I don't know why\n",
      "575531    Socket.io POST Requests from Socket.IO-Client-Swift          \n",
      "233857    R10 Boot Timeout Error - Conceptual                          \n",
      "330526    Can I deliberately corrupt an sqlite3 database for testing?  \n",
      "31282     Django + IIS +?                                              \n",
      "21960     Renaming TurboGears 2's Repoze Fields with TGAdmin           \n",
      "69707     Inexplicable Urllib2 problem between virtualenv's.           \n",
      "323252    GAEL failing to deploy all folders of website                \n",
      "Name: QuestionTitle, dtype: object\n",
      "27\n",
      "418679    How to specify dependencies for your python code                         \n",
      "33750     How is generated the python grammar and how the interpreter understand it\n",
      "213035    Other builtin or practical examples of python `with` statement usage?    \n",
      "4632      How to use subversion Ctypes Python Bindings?                            \n",
      "353994    Autodetect Raspberry-Pi Camera                                           \n",
      "172229    How to use lzma2 in python code?                                         \n",
      "540131    How to import python module given a certain directory structure          \n",
      "96338     Why Lazy Import is not default in Python?                                \n",
      "539709    Equivalent of getfenv in Python?                                         \n",
      "Name: QuestionTitle, dtype: object\n",
      "28\n",
      "27824     What is the best way to connect to a sybase database from python?     \n",
      "35578     Saving map data in a 2d ORPG                                          \n",
      "54920     PHP Simple HTML DOM or Python-BSoup: which one is the easier approach?\n",
      "77547     Python, How to get all external ip addresses with multiple NICs       \n",
      "26434     What's the best way to send an object over a network in Python?       \n",
      "206057    Better way to insert values in xml python 2.7                         \n",
      "159197    Loading a Neo4j subgraph into Networkx                                \n",
      "189838    Canonicalisation of usernames                                         \n",
      "380246    Intercept Spotify friend-feed?                                        \n",
      "Name: QuestionTitle, dtype: object\n",
      "29\n",
      "107073    Convert highest byte of 16-bits to signed int in python              \n",
      "210122    How to change one byte int to two bytes in Python?                   \n",
      "354414    Importing UDP Multicast signal into Python                           \n",
      "162071    python single byte function                                          \n",
      "316395    How to decode / encode decimal values in python?                     \n",
      "116443    Unpacking a struct ending with an ASCIIZ string                      \n",
      "578383    string to wstring in python                                          \n",
      "265309    How to print values of a string full of \"chaos question marks\"       \n",
      "564653    Convert Windows Service Status DWORD value into human readable format\n",
      "Name: QuestionTitle, dtype: object\n",
      "30\n",
      "196763    From-Import while retaining access by module                                 \n",
      "81190     Python Mindwave Graphs                                                       \n",
      "56546     Is there predefined class for URL in Python?                                 \n",
      "18943     Is it possible to use re2 from Python?                                       \n",
      "13163     How should I organise my functions with pyparsing?                           \n",
      "567291    How to use a Matlab function from a Python script on a machine without Matlab\n",
      "70080     How would I go about expanding my PHP code library with Python code?         \n",
      "406555    Best option for making a collection of python code portable?                 \n",
      "29088     Hot swapping python code (duck type functions?)                              \n",
      "Name: QuestionTitle, dtype: object\n",
      "31\n",
      "1328      Validating with an XML schema in Python                                         \n",
      "180239    Python 2.7 and xml.etree: how to create an XML file with multiple namespaces?   \n",
      "522369    How to create a Text Node with lxml?                                            \n",
      "1110      Does Python 2.5 include a package to natively transform an XML document?        \n",
      "182263    lxml: Converting XML to HTML through XSLT and get HtmlElements                  \n",
      "17797     xml parsing and reading the values in python                                    \n",
      "336861    How to use BeautifulSoup to validate that an XML is compatible with a given DTD?\n",
      "53025     Preserve XML Tags - Python DOM Implementation                                   \n",
      "56478     XML String to Python Object                                                     \n",
      "Name: QuestionTitle, dtype: object\n",
      "32\n",
      "246396    How can I make mock.mock_open raise an IOError?                                \n",
      "64089     What is the correct way to identify an Exception?                              \n",
      "257556    Python exception handling: Check return value of function                      \n",
      "434741    Can Luigi propagate exception or return any result?                            \n",
      "377935    Python all encompassing exception                                              \n",
      "56857     Deciding which exceptions to catch in Python                                   \n",
      "94721     Finding out triggering exception for a method in Python                        \n",
      "439555    Python, type checking and exceptions                                           \n",
      "454761    Is there any object can make str() function throw error or exception in python?\n",
      "Name: QuestionTitle, dtype: object\n",
      "33\n",
      "169059    Check for resonance conditions - Pythonic/Algorithmic improvements?                                     \n",
      "215599    A different pattern with a list comprehension                                                           \n",
      "471551    How do I iterate in a cascaded format (in a for loop) over a list of unknown length in Python?          \n",
      "77643     Efficient strings containing each other                                                                 \n",
      "463827    Which is more pythonic in a for loop: zip or enumerate?                                                 \n",
      "439544    What is the most efficient and readable way to create a list of lists of integer ranges in Python?      \n",
      "109513    Creating a generator expression or list comprehension without variable \"x in\" (e.g. for range) in Python\n",
      "141601    building up lists as efficiently as possible in Python                                                  \n",
      "415925    Python: Traverse list from end to find first element satisfying a condition                             \n",
      "Name: QuestionTitle, dtype: object\n",
      "34\n",
      "353527    Split a string using Python                                                                             \n",
      "94436     bits to string python                                                                                   \n",
      "133157    How to get escaped hex value unescaped in Python                                                        \n",
      "467173    Convert '\\x00' to ASCII in Python 3                                                                     \n",
      "459702    Python: Converting from binary to String                                                                \n",
      "12646     Split UTF-8 encoded string got from unichr                                                              \n",
      "40441     writing unicode to binary file in python                                                                \n",
      "386424    Converting between multiline and single-line (with escaped linebreaks) string representations in Python?\n",
      "316055    Encoding of a string in Python                                                                          \n",
      "Name: QuestionTitle, dtype: object\n",
      "35\n",
      "416546    Regex operation in python                                                         \n",
      "102273    Using a regexp to match my string content?                                        \n",
      "516260    python - not quite figuring out re.sub                                            \n",
      "7522      Matching blank lines with regular expressions                                     \n",
      "491262    Python regex support for accents in NFKD Unicode when using `\\w` expression       \n",
      "106192    python match only captures first and last group - am I misunderstanding something?\n",
      "63431     String replace with backslashes in Python                                         \n",
      "117667    Multiple substitutions of numbers in string using regex python                    \n",
      "486581    Regex to strip string whitespace                                                  \n",
      "Name: QuestionTitle, dtype: object\n",
      "36\n",
      "78371     win32com help translating VBA to python                          \n",
      "102226    Minimax explanation \"for dummies\"                                \n",
      "171290    python and libtcod: generating terrain using perlin noise        \n",
      "105328    How to create a function in Python that makes objects (i.e lists)\n",
      "111907    Mp3 file manipulation                                            \n",
      "233347    Pygame: Assistance with Ray Casting                              \n",
      "358074    Non-blocking solution to the dining philosophers                 \n",
      "34284     Any good references for python and C code mixing?                \n",
      "27425     interesting project that I can implement with fuse-python        \n",
      "Name: QuestionTitle, dtype: object\n",
      "37\n",
      "588505    Automate webpage tasks without having to have a browser open?\n",
      "292300    How to package/ distribute python applications               \n",
      "300940    How to take screenshot (high fps) in Linux (programming)     \n",
      "255641    Control an existing application with Python                  \n",
      "82195     dbus cannot find compiz service through python               \n",
      "1329      Calling Java (or python or perl) from a PHP script           \n",
      "207050    Pygame help needed                                           \n",
      "25594     Interpreter in Python: Making your own programming language? \n",
      "158749    Switching Windows with Python                                \n",
      "Name: QuestionTitle, dtype: object\n",
      "38\n",
      "112244    Parser for importing exported csv contacts in python                                    \n",
      "415630    Ignore all characters and just read numbers portion from the string                     \n",
      "115521    Best Practices when matching large number of files against large number of regex strings\n",
      "179445    Getting list of files in directory with python                                          \n",
      "412551    Extract Directory Names from Dynamic File Paths in Python                               \n",
      "419333    Spark read subgroup of binary files                                                     \n",
      "184431    Combining Sets of CSV files python                                                      \n",
      "11092     Remove html formating \"&gt;\" from text file using Python csv.reader                     \n",
      "148619    Parsing and wrting XML files with Python at once                                        \n",
      "Name: QuestionTitle, dtype: object\n",
      "39\n",
      "194411    Python - regex search for string which starts and ends with the given text               \n",
      "147983    how to find keywords in a multiline text?                                                \n",
      "327087    Repeating regex pattern in Python                                                        \n",
      "192013    Escaping quotes in jinja2                                                                \n",
      "37361     How do I add tags to certain strings in python using re.sub?                             \n",
      "412597    How to strip hashtag from a string using python                                          \n",
      "189115    Search and replace with \"whole word only\" option                                         \n",
      "490880    finding string betweenn 2 substrings                                                     \n",
      "275273    Parsing a text file for pattern and writing found pattern back to another file python 3.4\n",
      "Name: QuestionTitle, dtype: object\n"
     ]
    }
   ],
   "source": [
    "for i in range(20, 40):\n",
    "    indices = word2vec_similarity_df.indices[i][1:]\n",
    "    sim_qs = questions_lemmatized.loc[indices, \"QuestionTitle\"]\n",
    "    print(i)\n",
    "    with pd.option_context('display.max_rows', None, 'display.max_columns', 3):\n",
    "        print(sim_qs)"
   ]
  },
  {
   "cell_type": "code",
   "execution_count": 10,
   "metadata": {
    "collapsed": true
   },
   "outputs": [],
   "source": [
    "pd.set_option('display.max_colwidth', -1)"
   ]
  },
  {
   "cell_type": "markdown",
   "metadata": {},
   "source": [
    "### Methods\n",
    "\n",
    "Transforming text to vectors:\n",
    "- Use tfidf\n",
    "- Use word2vec:\n",
    "    - Train non-code on 50D\n",
    "    - Train code on 50D\n",
    "    - Concatenate vectors\n",
    "\n",
    "\n",
    "\n",
    "After getting vector representation, use similarity metrics to find similar questions. Also hopefully use some clustering method is get cluster features for the feature engineering part.\n",
    "\n",
    "Similarity metrics:\n",
    "- top 10 most cosine similar\n",
    "\n",
    "Clustering method:\n",
    "- Maybe use DBscan\n",
    "- PCA or t-SNE\n",
    "- *The clustering method could possible indicate interesting sub-question types, e.g. one cluster is for non-code questions, another is for debugging, another is for conceptual.*"
   ]
  },
  {
   "cell_type": "markdown",
   "metadata": {
    "collapsed": true
   },
   "source": [
    "### Vector Representations"
   ]
  },
  {
   "cell_type": "markdown",
   "metadata": {},
   "source": [
    "tf-idf"
   ]
  },
  {
   "cell_type": "code",
   "execution_count": null,
   "metadata": {
    "collapsed": true
   },
   "outputs": [],
   "source": [
    "questions_lemmatized[\"TagFreeNonCodeTextLemmatized\"][0]"
   ]
  },
  {
   "cell_type": "code",
   "execution_count": null,
   "metadata": {
    "collapsed": true
   },
   "outputs": [],
   "source": [
    "# Non-code text\n",
    "TagFreeNonCodeTextLemmatized = questions_lemmatized.TagFreeNonCodeTextLemmatized.tolist()\n",
    "TagFreeNonCodeTextLemmatized = [[w[1:-1] for w in q[1:-1].split(\", \")] for q in TagFreeNonCodeTextLemmatized]"
   ]
  },
  {
   "cell_type": "code",
   "execution_count": null,
   "metadata": {
    "collapsed": true
   },
   "outputs": [],
   "source": [
    "# Code text\n",
    "CodeTextLemmatized = questions_lemmatized.CodeTextLemmatized.tolist()\n",
    "CodeTextLemmatized = [[w[1:-1] for w in q[1:-1].split(\", \")] for q in CodeTextLemmatized]"
   ]
  },
  {
   "cell_type": "code",
   "execution_count": null,
   "metadata": {
    "collapsed": true
   },
   "outputs": [],
   "source": [
    "# Combined non-code and code\n",
    "AllTextLemmatized = []\n",
    "for i in range(len(TagFreeNonCodeTextLemmatized)):\n",
    "    noncode = TagFreeNonCodeTextLemmatized[i][:]\n",
    "    for w in CodeTextLemmatized[i]:\n",
    "        if w != '':\n",
    "            noncode.append(w)\n",
    "    AllTextLemmatized.append(\" \".join(noncode))"
   ]
  },
  {
   "cell_type": "code",
   "execution_count": null,
   "metadata": {
    "collapsed": true
   },
   "outputs": [],
   "source": [
    "AllTextLemmatized[0]"
   ]
  },
  {
   "cell_type": "code",
   "execution_count": null,
   "metadata": {
    "collapsed": true
   },
   "outputs": [],
   "source": [
    "# tfidf\n",
    "tfidf_vectorizer = TfidfVectorizer(stop_words='english', max_features=10000) # limit vocabulary size to 10,000\n",
    "tfidf_question = tfidf_vectorizer.fit_transform(AllTextLemmatized)"
   ]
  },
  {
   "cell_type": "code",
   "execution_count": null,
   "metadata": {
    "collapsed": true
   },
   "outputs": [],
   "source": [
    "tfidf_question.shape"
   ]
  },
  {
   "cell_type": "code",
   "execution_count": null,
   "metadata": {
    "collapsed": true
   },
   "outputs": [],
   "source": [
    "# compute cosine similarities of questions\n",
    "tfidf_question_cosine_similarities = [] # list of indices of top 10 most cosine similar\n",
    "for i in range(len(questions_lemmatized.index)):\n",
    "    similarity_indices = cosine_similarity(tfidf_question[i], tfidf_question).flatten()\n",
    "    tfidf_question_cosine_similarities.append(similarity_indices.argsort()[:-11:-1])"
   ]
  },
  {
   "cell_type": "code",
   "execution_count": null,
   "metadata": {
    "collapsed": true
   },
   "outputs": [],
   "source": [
    "tfidf_question_cosine_similarities[0]"
   ]
  },
  {
   "cell_type": "code",
   "execution_count": null,
   "metadata": {
    "collapsed": true
   },
   "outputs": [],
   "source": [
    "# save to df\n",
    "tfidf_df = pd.DataFrame((_ for _ in itertools.zip_longest(tfidf_question_cosine_similarities)), columns=['indices'])\n",
    "tfidf_df.to_pickle(\"TfIdfSimilarity.pkl\")"
   ]
  },
  {
   "cell_type": "code",
   "execution_count": null,
   "metadata": {
    "collapsed": false
   },
   "outputs": [],
   "source": [
    "tdfidf_df = pd.read_pickle(\"TfIdfSimilarity\")"
   ]
  },
  {
   "cell_type": "code",
   "execution_count": null,
   "metadata": {
    "collapsed": false
   },
   "outputs": [],
   "source": [
    "tdfidf_df.head()"
   ]
  },
  {
   "cell_type": "markdown",
   "metadata": {},
   "source": [
    "**word2vec for non-code**"
   ]
  },
  {
   "cell_type": "code",
   "execution_count": null,
   "metadata": {
    "collapsed": true,
    "scrolled": true
   },
   "outputs": [],
   "source": [
    "import gensim\n",
    "import nltk\n",
    "from nltk import word_tokenize\n",
    "from nltk import tokenize\n",
    "from nltk.data import find"
   ]
  },
  {
   "cell_type": "code",
   "execution_count": null,
   "metadata": {
    "collapsed": true
   },
   "outputs": [],
   "source": [
    "# word2vec model for non-code text\n",
    "noncode_model = gensim.models.Word2Vec(TagFreeNonCodeTextLemmatized, min_count=10, size=50, window=5)"
   ]
  },
  {
   "cell_type": "code",
   "execution_count": null,
   "metadata": {
    "collapsed": true
   },
   "outputs": [],
   "source": [
    "len(noncode_model.wv.vocab)"
   ]
  },
  {
   "cell_type": "code",
   "execution_count": null,
   "metadata": {
    "collapsed": true
   },
   "outputs": [],
   "source": [
    "noncode_unique_words = {}\n",
    "for q in TagFreeNonCodeTextLemmatized:\n",
    "    for w in q:\n",
    "        if not noncode_unique_words.get(w):\n",
    "            noncode_unique_words[w] = 0\n",
    "        noncode_unique_words[w] += 1"
   ]
  },
  {
   "cell_type": "code",
   "execution_count": null,
   "metadata": {
    "collapsed": true
   },
   "outputs": [],
   "source": [
    "words = list(noncode_unique_words.keys())\n",
    "len(words)"
   ]
  },
  {
   "cell_type": "markdown",
   "metadata": {},
   "source": [
    "*Get word vectors*"
   ]
  },
  {
   "cell_type": "code",
   "execution_count": null,
   "metadata": {
    "collapsed": true
   },
   "outputs": [],
   "source": [
    "# Word vectors\n",
    "noncode_vector_list=[] ## n by d matrix containing words and their respective vectors\n",
    "for word, cnt in noncode_unique_words.items():\n",
    "    if cnt >= 10:\n",
    "        noncode_vector_list.append(noncode_model[word])"
   ]
  },
  {
   "cell_type": "code",
   "execution_count": null,
   "metadata": {
    "collapsed": true
   },
   "outputs": [],
   "source": [
    "len(noncode_vector_list)"
   ]
  },
  {
   "cell_type": "code",
   "execution_count": null,
   "metadata": {
    "collapsed": true
   },
   "outputs": [],
   "source": [
    "# save model\n",
    "noncode_model.save(\"noncode_word2vec.bin\")"
   ]
  },
  {
   "cell_type": "code",
   "execution_count": null,
   "metadata": {
    "collapsed": true
   },
   "outputs": [],
   "source": [
    "# load model\n",
    "noncode_model = gensim.models.Word2Vec.load(\"noncode_word2vec.bin\")"
   ]
  },
  {
   "cell_type": "markdown",
   "metadata": {
    "collapsed": true
   },
   "source": [
    "*Sum up word vectors*"
   ]
  },
  {
   "cell_type": "code",
   "execution_count": null,
   "metadata": {
    "collapsed": true
   },
   "outputs": [],
   "source": [
    "noncode_q_embedding = []\n",
    "for q in TagFreeNonCodeTextLemmatized:\n",
    "    q_embedding = np.zeros(50)\n",
    "    for word in q:\n",
    "        if noncode_unique_words[word] > 10:\n",
    "            q_embedding += noncode_model[word]\n",
    "    noncode_q_embedding.append(q_embedding)"
   ]
  },
  {
   "cell_type": "code",
   "execution_count": null,
   "metadata": {
    "collapsed": true
   },
   "outputs": [],
   "source": [
    "len(noncode_q_embedding)"
   ]
  },
  {
   "cell_type": "code",
   "execution_count": null,
   "metadata": {
    "collapsed": true
   },
   "outputs": [],
   "source": [
    "noncode_q_embedding[0]"
   ]
  },
  {
   "cell_type": "code",
   "execution_count": null,
   "metadata": {
    "collapsed": true,
    "scrolled": true
   },
   "outputs": [],
   "source": [
    "noncode_embedding_df = pd.DataFrame((_ for _ in itertools.zip_longest(noncode_q_embedding)), columns=['embedding'])"
   ]
  },
  {
   "cell_type": "code",
   "execution_count": null,
   "metadata": {
    "collapsed": true
   },
   "outputs": [],
   "source": [
    "noncode_embedding_df.head()"
   ]
  },
  {
   "cell_type": "code",
   "execution_count": null,
   "metadata": {
    "collapsed": true
   },
   "outputs": [],
   "source": [
    "# save df\n",
    "noncode_embedding_df.to_pickle(\"NoncodeTextWordEmbeddings.pkl\")"
   ]
  },
  {
   "cell_type": "markdown",
   "metadata": {},
   "source": [
    "**word2vec for code text**"
   ]
  },
  {
   "cell_type": "code",
   "execution_count": null,
   "metadata": {
    "collapsed": true
   },
   "outputs": [],
   "source": [
    "# word2vec model for code text\n",
    "code_model = gensim.models.Word2Vec(CodeTextLemmatized, min_count=10, size=50, window=5)"
   ]
  },
  {
   "cell_type": "code",
   "execution_count": null,
   "metadata": {
    "collapsed": true
   },
   "outputs": [],
   "source": [
    "len(code_model.wv.vocab)"
   ]
  },
  {
   "cell_type": "code",
   "execution_count": null,
   "metadata": {
    "collapsed": true
   },
   "outputs": [],
   "source": [
    "# get set of unique words and counts\n",
    "code_unique_words = {}\n",
    "for q in CodeTextLemmatized:\n",
    "    for w in q:\n",
    "        if not code_unique_words.get(w):\n",
    "            code_unique_words[w] = 0\n",
    "        code_unique_words[w] += 1"
   ]
  },
  {
   "cell_type": "code",
   "execution_count": null,
   "metadata": {
    "collapsed": true
   },
   "outputs": [],
   "source": [
    "# save model\n",
    "code_model.save(\"code_word2vec.bin\")"
   ]
  },
  {
   "cell_type": "code",
   "execution_count": null,
   "metadata": {
    "collapsed": true
   },
   "outputs": [],
   "source": [
    "# load model\n",
    "code_model = gensim.models.Word2Vec.load(\"code_word2vec.bin\")"
   ]
  },
  {
   "cell_type": "code",
   "execution_count": null,
   "metadata": {
    "collapsed": true
   },
   "outputs": [],
   "source": [
    "# sum up word vectors\n",
    "code_q_embedding = []\n",
    "for q in CodeTextLemmatized:\n",
    "    q_embedding = np.zeros(50)\n",
    "    for word in q:\n",
    "        if code_unique_words[word] > 10:\n",
    "            q_embedding += code_model[word]\n",
    "    code_q_embedding.append(q_embedding)"
   ]
  },
  {
   "cell_type": "code",
   "execution_count": null,
   "metadata": {
    "collapsed": true
   },
   "outputs": [],
   "source": [
    "len(code_q_embedding)"
   ]
  },
  {
   "cell_type": "code",
   "execution_count": null,
   "metadata": {
    "collapsed": true
   },
   "outputs": [],
   "source": [
    "code_embedding_df = pd.DataFrame((_ for _ in itertools.zip_longest(code_q_embedding)), columns=['embedding'])"
   ]
  },
  {
   "cell_type": "code",
   "execution_count": null,
   "metadata": {
    "collapsed": true
   },
   "outputs": [],
   "source": [
    "code_embedding_df.head()"
   ]
  },
  {
   "cell_type": "code",
   "execution_count": null,
   "metadata": {
    "collapsed": true
   },
   "outputs": [],
   "source": [
    "# save df\n",
    "code_embedding_df.to_pickle(\"CodeTextWordEmbeddings.pkl\")"
   ]
  },
  {
   "cell_type": "markdown",
   "metadata": {},
   "source": [
    "**Get top 10 most cosine similar questions**"
   ]
  },
  {
   "cell_type": "markdown",
   "metadata": {},
   "source": [
    "*Concatenate code and non-code embeddings*"
   ]
  },
  {
   "cell_type": "code",
   "execution_count": null,
   "metadata": {
    "collapsed": false
   },
   "outputs": [],
   "source": [
    "code_embedding_df = pd.read_pickle(\"CodeTextWordEmbeddings\")"
   ]
  },
  {
   "cell_type": "code",
   "execution_count": null,
   "metadata": {
    "collapsed": true
   },
   "outputs": [],
   "source": [
    "noncode_embedding_df = pd.read_pickle(\"NoncodeTextWordEmbeddings\")"
   ]
  },
  {
   "cell_type": "code",
   "execution_count": null,
   "metadata": {
    "collapsed": false
   },
   "outputs": [],
   "source": [
    "noncode_embedding_df.iloc[0,:][0]#.as_matrix()[0]"
   ]
  },
  {
   "cell_type": "code",
   "execution_count": null,
   "metadata": {
    "collapsed": false
   },
   "outputs": [],
   "source": [
    "combined_embedding = []\n",
    "for i in range(5):# range(noncode_embedding_df.shape[0]):\n",
    "    q_embedding = np.append(noncode_embedding_df.iloc[i,:][0], code_embedding_df.iloc[i,:][0])\n",
    "    combined_embedding.append(q_embedding)"
   ]
  },
  {
   "cell_type": "markdown",
   "metadata": {},
   "source": [
    "*Get top 10 most cosine similar word embeddings*"
   ]
  },
  {
   "cell_type": "code",
   "execution_count": null,
   "metadata": {
    "collapsed": false
   },
   "outputs": [],
   "source": [
    "combined_embedding"
   ]
  },
  {
   "cell_type": "code",
   "execution_count": null,
   "metadata": {
    "collapsed": false
   },
   "outputs": [],
   "source": [
    "# list of indices of top 10 most cosine similar for each question\n",
    "word2vec_question_cosine_similarities = []\n",
    "for i in range(len(combined_embedding)):\n",
    "    similarity_indices = cosine_similarity(combined_embedding[i], combined_embedding).flatten()\n",
    "    word2vec_question_cosine_similarities.append(similarity_indices.argsort()[:-11:-1])"
   ]
  },
  {
   "cell_type": "code",
   "execution_count": null,
   "metadata": {
    "collapsed": false
   },
   "outputs": [],
   "source": [
    "word2vec_question_cosine_similarities"
   ]
  },
  {
   "cell_type": "code",
   "execution_count": null,
   "metadata": {
    "collapsed": true
   },
   "outputs": [],
   "source": [
    "# save to df\n",
    "word2vec_similarity_df = pd.DataFrame((_ for _ in itertools.zip_longest(word2vec_question_cosine_similarities)), columns=['indices'])\n",
    "word2vec_similarity_df.to_pickle(\"word2vecSimilarity.pkl\")"
   ]
  },
  {
   "cell_type": "code",
   "execution_count": null,
   "metadata": {
    "collapsed": true
   },
   "outputs": [],
   "source": [
    "word2vec_similarity_df.head()"
   ]
  },
  {
   "cell_type": "code",
   "execution_count": null,
   "metadata": {
    "collapsed": true
   },
   "outputs": [],
   "source": []
  }
 ],
 "metadata": {
  "anaconda-cloud": {},
  "kernelspec": {
   "display_name": "Python [Anaconda3]",
   "language": "python",
   "name": "Python [Anaconda3]"
  },
  "language_info": {
   "codemirror_mode": {
    "name": "ipython",
    "version": 3
   },
   "file_extension": ".py",
   "mimetype": "text/x-python",
   "name": "python",
   "nbconvert_exporter": "python",
   "pygments_lexer": "ipython3",
   "version": "3.5.2"
  }
 },
 "nbformat": 4,
 "nbformat_minor": 1
}
